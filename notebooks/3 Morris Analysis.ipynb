{
 "cells": [
  {
   "cell_type": "code",
   "execution_count": 1,
   "metadata": {},
   "outputs": [],
   "source": [
    "%run \"Common setup.ipynb\""
   ]
  },
  {
   "cell_type": "code",
   "execution_count": 2,
   "metadata": {},
   "outputs": [],
   "source": [
    "from SALib.analyze.morris import analyze"
   ]
  },
  {
   "cell_type": "code",
   "execution_count": 3,
   "metadata": {},
   "outputs": [],
   "source": [
    "numeric_samples = pd.read_csv(f'{DATA_DIR}moat_10_numeric_samples.csv', index_col=0)\n",
    "numeric_samples = numeric_samples[perturbed_cols]\n",
    "numeric_vals = numeric_samples.values"
   ]
  },
  {
   "cell_type": "code",
   "execution_count": 4,
   "metadata": {},
   "outputs": [],
   "source": [
    "def incremental_morris_analysis(lower, upper, step=1):\n",
    "    res, idx = [], []\n",
    "    for reps in range(lower, upper, step):\n",
    "\n",
    "        results = analyze(CIM_SPEC, numeric_vals[:reps], \n",
    "                          np_res[:reps], \n",
    "                          seed=101)\n",
    "        total = results.to_df()\n",
    "\n",
    "        res.append(total.loc[tgt_param, ['mu_star', 'sigma']].tolist())\n",
    "        idx.append(int(reps/step))\n",
    "    # End for\n",
    "    \n",
    "    return res, idx\n",
    "# End incremental_morris_analysis()"
   ]
  },
  {
   "cell_type": "code",
   "execution_count": 5,
   "metadata": {},
   "outputs": [
    {
     "name": "stderr",
     "output_type": "stream",
     "text": [
      "C:\\programs\\miniconda3\\envs\\salib\\lib\\site-packages\\numpy\\core\\_methods.py:217: RuntimeWarning: Degrees of freedom <= 0 for slice\n",
      "  keepdims=keepdims)\n",
      "C:\\programs\\miniconda3\\envs\\salib\\lib\\site-packages\\numpy\\core\\_methods.py:207: RuntimeWarning: invalid value encountered in true_divide\n",
      "  ret, rcount, out=ret, casting='unsafe', subok=False)\n"
     ]
    }
   ],
   "source": [
    "cols = ['$\\mu*$', '$\\sigma$']\n",
    "\n",
    "# Coupling disabled\n",
    "moat_10_no_irrigation_results = pd.read_csv(f'{DATA_DIR}moat_no_irrigation_10_results.csv', index_col=0)\n",
    "moat_10_no_irrigation_results['Avg. $/ML'].fillna(moat_10_no_irrigation_results[\"Avg. Annual Profit ($M)\"], inplace=True)\n",
    "\n",
    "tgt_result_idx = moat_10_no_irrigation_results.columns.tolist().index(tgt_metric)\n",
    "np_res = moat_10_no_irrigation_results.values[:, tgt_result_idx]\n",
    "\n",
    "res, idx = incremental_morris_analysis(54, 541, 54)\n",
    "\n",
    "disabled = pd.DataFrame(data=res, columns=cols, index=idx)\n",
    "\n",
    "# disabled_moat.plot(kind='bar', figsize=(16,4))\n",
    "\n",
    "# disabled_moat = analyze(CIM_SPEC, numeric_vals[:], \n",
    "#                         np_res[:], \n",
    "#                         seed=101)"
   ]
  },
  {
   "cell_type": "code",
   "execution_count": 6,
   "metadata": {},
   "outputs": [],
   "source": [
    "# Coupling enabled\n",
    "\n",
    "moat_10_with_irrigation_results = pd.read_csv(f'{DATA_DIR}moat_with_irrigation_10_results.csv', index_col=0)\n",
    "moat_10_with_irrigation_results['Avg. $/ML'].fillna(moat_10_with_irrigation_results[\"Avg. Annual Profit ($M)\"], inplace=True)\n",
    "\n",
    "np_res = moat_10_with_irrigation_results.values[:, tgt_result_idx]\n",
    "\n",
    "res, idx = incremental_morris_analysis(54, 541, 54)\n",
    "# enabled = pd.DataFrame({'mu_star': res}, index=idx)\n",
    "# enabled.plot(kind='bar', figsize=(16,4))\n",
    "enabled = pd.DataFrame(data=res, columns=cols, index=idx)"
   ]
  },
  {
   "cell_type": "code",
   "execution_count": 7,
   "metadata": {},
   "outputs": [
    {
     "data": {
      "image/png": "[encoded data removed]",
      "text/plain": [
       "<Figure size 864x288 with 2 Axes>"
      ]
     },
     "metadata": {
      "needs_background": "light"
     },
     "output_type": "display_data"
    }
   ],
   "source": [
    "fig, axes = plt.subplots(1,2, figsize=(12,4), sharey=True, sharex=True)\n",
    "\n",
    "\n",
    "disabled.loc[:, cols].plot(kind='bar', \n",
    "                                     legend=None,\n",
    "                                     title='Disabled',\n",
    "                                     ax=axes[0],\n",
    "                                     rot=45)\n",
    "\n",
    "enabled.loc[:, cols].plot(kind='bar', \n",
    "                                    legend=None,\n",
    "                                    title='Enabled',\n",
    "                                    ax=axes[1],\n",
    "                                    rot=45).legend(\n",
    "                                       bbox_to_anchor=(1.45, 0.65)\n",
    "                                    )\n",
    "fig.suptitle(\"Morris Analysis\", x=0.51, y=1.05, fontsize=22)\n",
    "plt.xlabel(\"$n$\", x=-0.1, labelpad=15);\n",
    "# fig.tight_layout()"
   ]
  },
  {
   "cell_type": "code",
   "execution_count": 8,
   "metadata": {},
   "outputs": [],
   "source": [
    "fig.savefig(f'{FIG_DIR}morris_oat_results.png', dpi=300, bbox_inches='tight')"
   ]
  },
  {
   "cell_type": "markdown",
   "metadata": {},
   "source": [
    "---\n",
    "\n",
    "Morris cannot be used with the full result set as it requires that Morris sampling scheme be used"
   ]
  }
 ],
 "metadata": {
  "file_extension": ".py",
  "kernelspec": {
   "display_name": "SALib",
   "language": "python",
   "name": "salib"
  },
  "language_info": {
   "codemirror_mode": {
    "name": "ipython",
    "version": 3
   },
   "file_extension": ".py",
   "mimetype": "text/x-python",
   "name": "python",
   "nbconvert_exporter": "python",
   "pygments_lexer": "ipython3",
   "version": "3.7.3"
  },
  "mimetype": "text/x-python",
  "name": "python",
  "npconvert_exporter": "python",
  "pygments_lexer": "ipython3",
  "version": 3
 },
 "nbformat": 4,
 "nbformat_minor": 2
}

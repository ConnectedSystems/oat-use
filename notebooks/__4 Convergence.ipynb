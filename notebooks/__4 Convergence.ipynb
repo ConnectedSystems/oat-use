{
 "cells": [
  {
   "cell_type": "code",
   "execution_count": 1,
   "metadata": {},
   "outputs": [],
   "source": [
    "%run \"Common setup.ipynb\""
   ]
  },
  {
   "cell_type": "markdown",
   "metadata": {},
   "source": [
    "Here we define convergence as referring to the stability of the sensitivity indices (as in Herman et al. 2017)."
   ]
  },
  {
   "cell_type": "markdown",
   "metadata": {},
   "source": [
    "**eFAST**"
   ]
  },
  {
   "cell_type": "code",
   "execution_count": 2,
   "metadata": {},
   "outputs": [
    {
     "data": {
      "text/html": [
       "<div>\n",
       "<style scoped>\n",
       "    .dataframe tbody tr th:only-of-type {\n",
       "        vertical-align: middle;\n",
       "    }\n",
       "\n",
       "    .dataframe tbody tr th {\n",
       "        vertical-align: top;\n",
       "    }\n",
       "\n",
       "    .dataframe thead th {\n",
       "        text-align: right;\n",
       "    }\n",
       "</style>\n",
       "<table border=\"1\" class=\"dataframe\">\n",
       "  <thead>\n",
       "    <tr style=\"text-align: right;\">\n",
       "      <th></th>\n",
       "      <th>S1</th>\n",
       "      <th>ST</th>\n",
       "    </tr>\n",
       "  </thead>\n",
       "  <tbody>\n",
       "    <tr>\n",
       "      <th>x1</th>\n",
       "      <td>0.3076</td>\n",
       "      <td>0.5528</td>\n",
       "    </tr>\n",
       "    <tr>\n",
       "      <th>x2</th>\n",
       "      <td>0.4424</td>\n",
       "      <td>0.4483</td>\n",
       "    </tr>\n",
       "    <tr>\n",
       "      <th>x3</th>\n",
       "      <td>0.0000</td>\n",
       "      <td>0.2393</td>\n",
       "    </tr>\n",
       "    <tr>\n",
       "      <th>x4</th>\n",
       "      <td>0.0000</td>\n",
       "      <td>0.0453</td>\n",
       "    </tr>\n",
       "  </tbody>\n",
       "</table>\n",
       "</div>"
      ],
      "text/plain": [
       "        S1      ST\n",
       "x1  0.3076  0.5528\n",
       "x2  0.4424  0.4483\n",
       "x3  0.0000  0.2393\n",
       "x4  0.0000  0.0453"
      ]
     },
     "execution_count": 2,
     "metadata": {},
     "output_type": "execute_result"
    }
   ],
   "source": [
    "param_values = fast_sampler(SPEC_WITH_INACTIVE, NUM_FAST_SAMPLES, M=4, seed=SEED_VALUE)\n",
    "Y = Ishigami.evaluate(param_values)\n",
    "Si_inactive = fast_analyzer(SPEC_WITH_INACTIVE, Y, print_to_console=False)\n",
    "Si_inactive.to_df().round(4)"
   ]
  },
  {
   "cell_type": "code",
   "execution_count": 3,
   "metadata": {},
   "outputs": [
    {
     "name": "stdout",
     "output_type": "stream",
     "text": [
      "Samples: 901\n"
     ]
    },
    {
     "data": {
      "text/html": [
       "<div>\n",
       "<style scoped>\n",
       "    .dataframe tbody tr th:only-of-type {\n",
       "        vertical-align: middle;\n",
       "    }\n",
       "\n",
       "    .dataframe tbody tr th {\n",
       "        vertical-align: top;\n",
       "    }\n",
       "\n",
       "    .dataframe thead th {\n",
       "        text-align: right;\n",
       "    }\n",
       "</style>\n",
       "<table border=\"1\" class=\"dataframe\">\n",
       "  <thead>\n",
       "    <tr style=\"text-align: right;\">\n",
       "      <th></th>\n",
       "      <th>S1</th>\n",
       "      <th>ST</th>\n",
       "    </tr>\n",
       "  </thead>\n",
       "  <tbody>\n",
       "    <tr>\n",
       "      <th>x1</th>\n",
       "      <td>0.0</td>\n",
       "      <td>0.1554</td>\n",
       "    </tr>\n",
       "    <tr>\n",
       "      <th>x2</th>\n",
       "      <td>0.0</td>\n",
       "      <td>0.6638</td>\n",
       "    </tr>\n",
       "    <tr>\n",
       "      <th>x3</th>\n",
       "      <td>0.0</td>\n",
       "      <td>0.2417</td>\n",
       "    </tr>\n",
       "    <tr>\n",
       "      <th>x4</th>\n",
       "      <td>0.0</td>\n",
       "      <td>0.0000</td>\n",
       "    </tr>\n",
       "  </tbody>\n",
       "</table>\n",
       "</div>"
      ],
      "text/plain": [
       "     S1      ST\n",
       "x1  0.0  0.1554\n",
       "x2  0.0  0.6638\n",
       "x3  0.0  0.2417\n",
       "x4  0.0  0.0000"
      ]
     },
     "execution_count": 3,
     "metadata": {},
     "output_type": "execute_result"
    }
   ],
   "source": [
    "M_test = 15\n",
    "num_efast_samples = (4*M_test**2)+1\n",
    "\n",
    "print(\"Samples:\", num_efast_samples)\n",
    "\n",
    "efast_set = fast_sampler(SPEC_WITH_INACTIVE, num_efast_samples, M=M_test, seed=SEED_VALUE)\n",
    "Y = Ishigami.evaluate(efast_set)\n",
    "Si_inactive = fast_analyzer(SPEC_WITH_INACTIVE, Y, print_to_console=False)\n",
    "Si_inactive.to_df().round(4)"
   ]
  },
  {
   "cell_type": "code",
   "execution_count": 4,
   "metadata": {},
   "outputs": [
    {
     "name": "stdout",
     "output_type": "stream",
     "text": [
      "Samples: 65\n"
     ]
    },
    {
     "data": {
      "text/html": [
       "<div>\n",
       "<style scoped>\n",
       "    .dataframe tbody tr th:only-of-type {\n",
       "        vertical-align: middle;\n",
       "    }\n",
       "\n",
       "    .dataframe tbody tr th {\n",
       "        vertical-align: top;\n",
       "    }\n",
       "\n",
       "    .dataframe thead th {\n",
       "        text-align: right;\n",
       "    }\n",
       "</style>\n",
       "<table border=\"1\" class=\"dataframe\">\n",
       "  <thead>\n",
       "    <tr style=\"text-align: right;\">\n",
       "      <th></th>\n",
       "      <th>S1</th>\n",
       "      <th>ST</th>\n",
       "    </tr>\n",
       "  </thead>\n",
       "  <tbody>\n",
       "    <tr>\n",
       "      <th>x1</th>\n",
       "      <td>0.3604</td>\n",
       "      <td>0.6227</td>\n",
       "    </tr>\n",
       "    <tr>\n",
       "      <th>x2</th>\n",
       "      <td>0.6659</td>\n",
       "      <td>0.6926</td>\n",
       "    </tr>\n",
       "    <tr>\n",
       "      <th>x3</th>\n",
       "      <td>0.0269</td>\n",
       "      <td>0.2360</td>\n",
       "    </tr>\n",
       "    <tr>\n",
       "      <th>x4</th>\n",
       "      <td>0.0001</td>\n",
       "      <td>0.0273</td>\n",
       "    </tr>\n",
       "  </tbody>\n",
       "</table>\n",
       "</div>"
      ],
      "text/plain": [
       "        S1      ST\n",
       "x1  0.3604  0.6227\n",
       "x2  0.6659  0.6926\n",
       "x3  0.0269  0.2360\n",
       "x4  0.0001  0.0273"
      ]
     },
     "execution_count": 4,
     "metadata": {},
     "output_type": "execute_result"
    }
   ],
   "source": [
    "M_test = 4\n",
    "num_efast_samples = (4*M_test**2)+1\n",
    "\n",
    "print(\"Samples:\", num_efast_samples)\n",
    "\n",
    "efast_set = fast_sampler(SPEC_WITH_INACTIVE, num_efast_samples, M=M_test, seed=SEED_VALUE)\n",
    "Y = Ishigami.evaluate(efast_set)\n",
    "Si_inactive = fast_analyzer(SPEC_WITH_INACTIVE, Y, print_to_console=False)\n",
    "Si_inactive.to_df().round(4)"
   ]
  },
  {
   "cell_type": "code",
   "execution_count": 4,
   "metadata": {},
   "outputs": [
    {
     "data": {
      "text/plain": [
       "[Text(0, 0, '8'),\n",
       " Text(0, 0, '16'),\n",
       " Text(0, 0, '32'),\n",
       " Text(0, 0, '64'),\n",
       " Text(0, 0, '128'),\n",
       " Text(0, 0, '256'),\n",
       " Text(0, 0, '512'),\n",
       " Text(0, 0, '1024'),\n",
       " Text(0, 0, '2048'),\n",
       " Text(0, 0, '4096'),\n",
       " Text(0, 0, '8192'),\n",
       " Text(0, 0, '16384'),\n",
       " Text(0, 0, '32768'),\n",
       " Text(0, 0, '65536')]"
      ]
     },
     "execution_count": 4,
     "metadata": {},
     "output_type": "execute_result"
    },
    {
     "data": {
      "image/png": "[encoded data removed]",
      "text/plain": [
       "<Figure size 432x288 with 1 Axes>"
      ]
     },
     "metadata": {
      "needs_background": "light"
     },
     "output_type": "display_data"
    }
   ],
   "source": [
    "num_saltelli_samples = [2**n for n in range(3, 16+1)]\n",
    "\n",
    "inactive_spec = create_dummy_spec(3) # spec for Ishigami with 3 extra terms\n",
    "\n",
    "x1_ST = []\n",
    "x4_ST = []\n",
    "x5_ST = []\n",
    "x6_ST = []\n",
    "for n_samples in num_saltelli_samples:\n",
    "    # Generate samples\n",
    "    saltelli_w_inactive = saltelli.sample(inactive_spec, n_samples, seed=SEED_VALUE, calc_second_order=False)\n",
    "\n",
    "    # Run conditional Ishigami\n",
    "    # $x_1$ has to be > 1.0 for 6th term to influence output.\n",
    "    saltelli_Y = mod_ishigami(saltelli_w_inactive, 3.0, [5, 6])\n",
    "\n",
    "    Si_saltelli = sobol.analyze(inactive_spec, saltelli_Y, print_to_console=False, calc_second_order=False)\n",
    "\n",
    "    Saltelli_T, Saltelli_1st = Si_saltelli.to_df()\n",
    "    \n",
    "    x1_ST.append(Saltelli_T.loc['x1'][0])\n",
    "    x4_ST.append(Saltelli_T.loc['x4'][0])\n",
    "    x5_ST.append(Saltelli_T.loc['x5'][0])\n",
    "    x6_ST.append(Saltelli_T.loc['x6'][0])\n",
    "# End for\n",
    "\n",
    "ax = pd.DataFrame({'x1': x1_ST, 'x4': x4_ST, 'x5': x5_ST, 'x6': x6_ST}).plot(kind='bar')\n",
    "plt.legend(bbox_to_anchor=(1.3, 0.7))\n",
    "plt.title('Saltelli'.format(max(num_saltelli_samples)))\n",
    "ax.set_xticklabels(num_saltelli_samples);"
   ]
  },
  {
   "cell_type": "code",
   "execution_count": null,
   "metadata": {},
   "outputs": [],
   "source": []
  }
 ],
 "metadata": {
  "kernelspec": {
   "display_name": "Python (sa-comparison)",
   "language": "python",
   "name": "sa-comparison"
  },
  "language_info": {
   "codemirror_mode": {
    "name": "ipython",
    "version": 3
   },
   "file_extension": ".py",
   "mimetype": "text/x-python",
   "name": "python",
   "nbconvert_exporter": "python",
   "pygments_lexer": "ipython3",
   "version": "3.6.7"
  }
 },
 "nbformat": 4,
 "nbformat_minor": 2
}

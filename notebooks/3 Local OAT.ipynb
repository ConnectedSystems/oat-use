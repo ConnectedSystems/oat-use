{
 "cells": [
  {
   "cell_type": "code",
   "execution_count": 1,
   "metadata": {},
   "outputs": [],
   "source": [
    "%run \"Common setup.ipynb\""
   ]
  },
  {
   "cell_type": "markdown",
   "metadata": {},
   "source": [
    "Because SALib concentrates on GSA methods, we implement our own local OAT methods here."
   ]
  },
  {
   "cell_type": "code",
   "execution_count": 2,
   "metadata": {},
   "outputs": [],
   "source": [
    "# problem specification for morris analysis\n",
    "oat_spec = {\n",
    "  'num_vars': 4,\n",
    "  'names': ['x1', 'x2', 'x3', 'x4'],\n",
    "  'bounds': [[-np.pi, np.pi]]*4,\n",
    "  'nominal': [1.0,] * 4\n",
    "}"
   ]
  },
  {
   "cell_type": "code",
   "execution_count": 3,
   "metadata": {},
   "outputs": [
    {
     "data": {
      "text/plain": [
       "array([0, 1, 3, 4])"
      ]
     },
     "execution_count": 3,
     "metadata": {},
     "output_type": "execute_result"
    }
   ],
   "source": [
    "cols = np.arange(5)\n",
    "cols[cols != 2]"
   ]
  },
  {
   "cell_type": "code",
   "execution_count": 4,
   "metadata": {},
   "outputs": [],
   "source": [
    "def oat_extremity_sample(problem):\n",
    "    \"\"\"Create extremity samples for a 'traditional' OAT analysis.\n",
    "    \n",
    "    Here we assume outputs will be affected at the extreme ends of the nominal bounds.\n",
    "    \n",
    "    Parameters\n",
    "    ==========\n",
    "    * problem : dict, the problem definition following SALib specs        \n",
    "    \"\"\"\n",
    "    bounds = problem.get('bounds')\n",
    "    nominal = problem.get('nominal')\n",
    "    num_vars = problem.get('num_vars')\n",
    "    \n",
    "    # nominal = np.array(nominal)\n",
    "    experiment = [nominal[:]]\n",
    "    \n",
    "    # Samples represent runs with values at the extremes of each parameter boundary\n",
    "    for i in range(num_vars):\n",
    "        min_val = bounds[i][0]\n",
    "        max_val = bounds[i][1]\n",
    "        \n",
    "        after = i+1\n",
    "        if i > 0:\n",
    "            experiment.append(nominal[0:i] + [min_val] + nominal[after:])  # min\n",
    "            experiment.append(nominal[0:i] + [max_val] + nominal[after:])  # max\n",
    "        else:\n",
    "            experiment.append([min_val] + nominal[after:])  # min\n",
    "            experiment.append([max_val] + nominal[after:])  # max\n",
    "            \n",
    "    \n",
    "    return np.array(experiment)\n",
    "# End oat_extremity_sample()\n",
    "\n",
    "\n",
    "def traditional_oat_sample(problem, N):\n",
    "    \"\"\"Create samples for a 'traditional' OAT analysis.\n",
    "    \n",
    "    Parameters\n",
    "    ==========\n",
    "    * problem : dict, the problem definition following SALib specs        \n",
    "    \"\"\"\n",
    "    bounds = problem.get('bounds')\n",
    "    nominal = problem.get('nominal')\n",
    "    num_factors = int(problem.get('num_vars'))\n",
    "    \n",
    "    samples_per_param = N / num_factors\n",
    "    \n",
    "    if samples_per_param % 1 != 0:\n",
    "        raise ValueError(\"Require equal number of samples per parameter. \\\n",
    "        {} samples across {} params is {}\".format(N, num_vars, samples_per_param))\n",
    "    \n",
    "    samples_per_param = int(samples_per_param)\n",
    "    \n",
    "    # experiment = np.empty((N+1, num_vars))\n",
    "    experiment = np.array(nominal * (N+1)).reshape(N + 1, num_factors)\n",
    "    \n",
    "    cols = np.arange(num_factors)\n",
    "    \n",
    "    # Samples represent runs with values at the extremes of each parameter boundary\n",
    "    pos = 1\n",
    "    for i in range(num_factors):\n",
    "        \n",
    "        min_val = bounds[i][0]\n",
    "        max_val = bounds[i][1]\n",
    "        \n",
    "        p_samp = np.linspace(min_val, max_val, samples_per_param)\n",
    "        \n",
    "        subset = slice(pos, pos+samples_per_param)\n",
    "        experiment[subset, i] = p_samp\n",
    "        \n",
    "        pos += samples_per_param\n",
    "    # End for\n",
    "    \n",
    "    return experiment\n",
    "# End traditional_oat_sample()\n",
    "\n",
    "    \n",
    "def oat_analyze(problem, inputs, results):\n",
    "    \"\"\"Analyze a 'traditional' OAT result.\n",
    "    \n",
    "    Parameters\n",
    "    ==========\n",
    "    * problem : dict, the problem definition following SALib specs\n",
    "    * inputs : np.array, samples used to generate results. \n",
    "               The first row is expected to hold nominal values.\n",
    "    * results : np.array, model run results obtained using the samples.\n",
    "                The first row is expected to hold nominal results.          \n",
    "    \"\"\"\n",
    "    X = inputs\n",
    "    Y = results\n",
    "    \n",
    "    num_results, num_factors = X.shape\n",
    "    nominal_values = problem.get('nominal')\n",
    "    groupings = int((len(Y) - 1) / num_factors)\n",
    "\n",
    "    # Set up result array (ignores one row as it holds the nominal results)\n",
    "    si_res = np.full((groupings, num_factors), fill_value=np.nan)\n",
    "    \n",
    "    col = 0\n",
    "    idx = 0\n",
    "    for i in range(1, num_results):\n",
    "        diff = (X[i, col] - X[0, col])\n",
    "        if diff == 0.0:\n",
    "            si_res[idx, col] = 0.0\n",
    "        else:\n",
    "            try:\n",
    "                si_res[idx, col] = (Y[i] - Y[0]) / (X[i, col] - X[0, col])\n",
    "            except IndexError:\n",
    "                print(idx, col)\n",
    "                raise\n",
    "        # End if\n",
    "        \n",
    "        if i % groupings == 0:\n",
    "            col += 1\n",
    "            idx = 0\n",
    "            continue\n",
    "        # End if\n",
    "        \n",
    "        idx += 1\n",
    "    # End for\n",
    "    \n",
    "    return si_res\n",
    "# End oat_analyze()"
   ]
  },
  {
   "cell_type": "code",
   "execution_count": 5,
   "metadata": {},
   "outputs": [],
   "source": [
    "oat_samples = traditional_oat_sample(oat_spec, 5000)"
   ]
  },
  {
   "cell_type": "code",
   "execution_count": 6,
   "metadata": {},
   "outputs": [],
   "source": [
    "Y = ishigami_wrapper(oat_samples)"
   ]
  },
  {
   "cell_type": "code",
   "execution_count": 7,
   "metadata": {},
   "outputs": [],
   "source": [
    "oat_si = oat_analyze(oat_spec, oat_samples, Y)"
   ]
  },
  {
   "cell_type": "code",
   "execution_count": 8,
   "metadata": {},
   "outputs": [
    {
     "data": {
      "text/plain": [
       "array([0.49921414, 1.75941067, 0.36142324, 0.        ])"
      ]
     },
     "execution_count": 8,
     "metadata": {},
     "output_type": "execute_result"
    }
   ],
   "source": [
    "oat_si.mean(axis=0)"
   ]
  },
  {
   "cell_type": "code",
   "execution_count": 9,
   "metadata": {},
   "outputs": [
    {
     "name": "stdout",
     "output_type": "stream",
     "text": [
      "Wall time: 0 ns\n"
     ]
    }
   ],
   "source": [
    "%%time\n",
    "extremity_samples = oat_extremity_sample(oat_spec)"
   ]
  },
  {
   "cell_type": "code",
   "execution_count": 10,
   "metadata": {},
   "outputs": [
    {
     "name": "stdout",
     "output_type": "stream",
     "text": [
      "Wall time: 0 ns\n"
     ]
    }
   ],
   "source": [
    "%time\n",
    "Y = ishigami_wrapper(extremity_samples)"
   ]
  },
  {
   "cell_type": "code",
   "execution_count": 11,
   "metadata": {},
   "outputs": [
    {
     "data": {
      "text/plain": [
       "array([[ 1.        ,  1.        ,  1.        ,  1.        ],\n",
       "       [-3.14159265,  1.        ,  1.        ,  1.        ],\n",
       "       [ 3.14159265,  1.        ,  1.        ,  1.        ],\n",
       "       [ 1.        , -3.14159265,  1.        ,  1.        ],\n",
       "       [ 1.        ,  3.14159265,  1.        ,  1.        ],\n",
       "       [ 1.        ,  1.        , -3.14159265,  1.        ],\n",
       "       [ 1.        ,  1.        ,  3.14159265,  1.        ],\n",
       "       [ 1.        ,  1.        ,  1.        , -3.14159265],\n",
       "       [ 1.        ,  1.        ,  1.        ,  3.14159265]])"
      ]
     },
     "execution_count": 11,
     "metadata": {},
     "output_type": "execute_result"
    }
   ],
   "source": [
    "extremity_samples"
   ]
  },
  {
   "cell_type": "code",
   "execution_count": 12,
   "metadata": {},
   "outputs": [
    {
     "data": {
      "text/plain": [
       "array([ 5.88213201,  4.95651393,  4.95651393,  0.92561808,  0.92561808,\n",
       "       13.99467729, 13.99467729,  5.88213201,  5.88213201])"
      ]
     },
     "execution_count": 12,
     "metadata": {},
     "output_type": "execute_result"
    }
   ],
   "source": [
    "Y"
   ]
  },
  {
   "cell_type": "code",
   "execution_count": 13,
   "metadata": {},
   "outputs": [
    {
     "name": "stdout",
     "output_type": "stream",
     "text": [
      "Wall time: 0 ns\n"
     ]
    },
    {
     "data": {
      "text/plain": [
       "array([-0.10435844, -0.55882018,  0.91464567,  0.        ])"
      ]
     },
     "execution_count": 13,
     "metadata": {},
     "output_type": "execute_result"
    }
   ],
   "source": [
    "%time\n",
    "oat_analyze(oat_spec, extremity_samples, Y).mean(axis=0)"
   ]
  },
  {
   "cell_type": "code",
   "execution_count": null,
   "metadata": {},
   "outputs": [],
   "source": []
  },
  {
   "cell_type": "code",
   "execution_count": 22,
   "metadata": {},
   "outputs": [
    {
     "name": "stdout",
     "output_type": "stream",
     "text": [
      "848 µs ± 10.5 µs per loop (mean ± std. dev. of 7 runs, 1000 loops each)\n"
     ]
    }
   ],
   "source": [
    "%%timeit\n",
    "oat_samples = traditional_oat_sample(oat_spec, 5000)"
   ]
  },
  {
   "cell_type": "code",
   "execution_count": 23,
   "metadata": {},
   "outputs": [
    {
     "name": "stdout",
     "output_type": "stream",
     "text": [
      "8.19 ms ± 48.2 µs per loop (mean ± std. dev. of 7 runs, 100 loops each)\n"
     ]
    }
   ],
   "source": [
    "%%timeit\n",
    "Y = ishigami_wrapper(oat_samples)"
   ]
  },
  {
   "cell_type": "code",
   "execution_count": 24,
   "metadata": {},
   "outputs": [
    {
     "name": "stdout",
     "output_type": "stream",
     "text": [
      "6.85 ms ± 28.7 µs per loop (mean ± std. dev. of 7 runs, 100 loops each)\n"
     ]
    }
   ],
   "source": [
    "%%timeit\n",
    "oat_si = oat_analyze(oat_spec, oat_samples, Y)"
   ]
  },
  {
   "cell_type": "code",
   "execution_count": 25,
   "metadata": {},
   "outputs": [
    {
     "name": "stdout",
     "output_type": "stream",
     "text": [
      "26.7 µs ± 154 ns per loop (mean ± std. dev. of 7 runs, 10000 loops each)\n"
     ]
    }
   ],
   "source": [
    "%%timeit\n",
    "oat_si.mean(axis=0)"
   ]
  },
  {
   "cell_type": "code",
   "execution_count": null,
   "metadata": {},
   "outputs": [],
   "source": []
  }
 ],
 "metadata": {
  "kernelspec": {
   "display_name": "Python (sa-comparison)",
   "language": "python",
   "name": "sa-comparison"
  },
  "language_info": {
   "codemirror_mode": {
    "name": "ipython",
    "version": 3
   },
   "file_extension": ".py",
   "mimetype": "text/x-python",
   "name": "python",
   "nbconvert_exporter": "python",
   "pygments_lexer": "ipython3",
   "version": "3.7.1"
  }
 },
 "nbformat": 4,
 "nbformat_minor": 2
}

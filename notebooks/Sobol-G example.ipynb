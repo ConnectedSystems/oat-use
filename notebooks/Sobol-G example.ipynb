{
 "cells": [
  {
   "cell_type": "code",
   "execution_count": 1,
   "metadata": {},
   "outputs": [],
   "source": [
    "%matplotlib inline"
   ]
  },
  {
   "cell_type": "code",
   "execution_count": 2,
   "metadata": {},
   "outputs": [],
   "source": [
    "from SALib.test_functions import Sobol_G\n",
    "from SALib.sample.saltelli import sample\n",
    "from SALib.analyze.sobol import analyze\n",
    "import numpy as np\n",
    "import matplotlib\n",
    "\n",
    "matplotlib.rc('figure', figsize=(12, 4))"
   ]
  },
  {
   "cell_type": "code",
   "execution_count": 3,
   "metadata": {},
   "outputs": [],
   "source": [
    "def sobol_g(t, a):\n",
    "    \"\"\"Original Sobol-G\"\"\"\n",
    "    return np.prod((np.abs(4*t -2) + a) / (1 + a))\n",
    "\n",
    "\n",
    "def run_model(vals, a):\n",
    "    Y = np.empty(vals.shape[0])\n",
    "    for i, t in enumerate(vals):\n",
    "        Y[i] = sobol_g(t, a)\n",
    "    return Y"
   ]
  },
  {
   "cell_type": "code",
   "execution_count": 4,
   "metadata": {},
   "outputs": [],
   "source": [
    "problem = {\n",
    "    'num_vars': 6,\n",
    "    'names': ['x1', 'x2', 'x3', 'x4', 'x5', 'x6'],\n",
    "    'bounds': [[0, 1],\n",
    "               [0, 1],\n",
    "               [0, 1],\n",
    "               [0, 1],\n",
    "               [0, 1],\n",
    "               [0, 1]]\n",
    "}\n",
    "\n",
    "param_values = sample(problem, 10000)\n",
    "\n",
    "\n",
    "param_a = np.array([0, 0.5, 3, 9, 99, 99])\n",
    "Y = run_model(param_values, param_a)\n",
    "\n",
    "Si = analyze(problem, Y, num_resamples=1000)"
   ]
  },
  {
   "cell_type": "code",
   "execution_count": 5,
   "metadata": {},
   "outputs": [
    {
     "data": {
      "image/png": "[encoded data removed]",
      "text/plain": [
       "<Figure size 864x288 with 3 Axes>"
      ]
     },
     "metadata": {
      "needs_background": "light"
     },
     "output_type": "display_data"
    }
   ],
   "source": [
    "Si.plot();"
   ]
  },
  {
   "cell_type": "code",
   "execution_count": null,
   "metadata": {},
   "outputs": [],
   "source": []
  }
 ],
 "metadata": {
  "kernelspec": {
   "display_name": "SALib",
   "language": "python",
   "name": "salib"
  },
  "language_info": {
   "codemirror_mode": {
    "name": "ipython",
    "version": 3
   },
   "file_extension": ".py",
   "mimetype": "text/x-python",
   "name": "python",
   "nbconvert_exporter": "python",
   "pygments_lexer": "ipython3",
   "version": "3.7.3"
  }
 },
 "nbformat": 4,
 "nbformat_minor": 2
}

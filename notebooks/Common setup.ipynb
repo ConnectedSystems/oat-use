{
 "cells": [
  {
   "cell_type": "code",
   "execution_count": null,
   "metadata": {},
   "outputs": [],
   "source": [
    "from SALib.sample import latin, saltelli\n",
    "from SALib.sample.morris import sample as morris_sample\n",
    "\n",
    "from SALib.analyze import sobol\n",
    "from SALib.analyze.morris import analyze as morris_analyze\n",
    "\n",
    "from SALib.test_functions import Ishigami\n",
    "\n",
    "import numpy as np\n",
    "import pandas as pd\n",
    "\n",
    "import matplotlib.pyplot as plt"
   ]
  },
  {
   "cell_type": "markdown",
   "metadata": {},
   "source": [
    "Here we create a wrapping interface that accepts the dummy parameter input (the 4th parameter `x4`), but strips the parameter values from the input array. This has the effect of making the fourth parameter inactive, and therefore insensitive"
   ]
  },
  {
   "cell_type": "code",
   "execution_count": null,
   "metadata": {},
   "outputs": [],
   "source": [
    "def ishigami_wrapper(param_values):\n",
    "    strip_dummy_param = param_values[:, 0:3]\n",
    "    return Ishigami.evaluate(strip_dummy_param)"
   ]
  },
  {
   "cell_type": "markdown",
   "metadata": {},
   "source": [
    "Common variables and problem definitions"
   ]
  },
  {
   "cell_type": "code",
   "execution_count": null,
   "metadata": {},
   "outputs": [],
   "source": [
    "SEED_VALUE = 101\n",
    "SALTELLI_SAMPLES = 500\n",
    "LATIN_SAMPLES = 1000\n",
    "\n",
    "SPEC_WO_INACTIVE = {\n",
    "  'num_vars': 3,\n",
    "  'names': ['x1', 'x2', 'x3'],\n",
    "  'bounds': [[-np.pi, np.pi]]*3\n",
    "}\n",
    "\n",
    "SPEC_WITH_INACTIVE = {\n",
    "  'num_vars': 4,\n",
    "  'names': ['x1', 'x2', 'x3', 'x4'],\n",
    "  'bounds': [[-np.pi, np.pi]]*4\n",
    "}"
   ]
  }
 ],
 "metadata": {
  "kernelspec": {
   "display_name": "Python (sa-comparison)",
   "language": "python",
   "name": "sa-comparison"
  },
  "language_info": {
   "codemirror_mode": {
    "name": "ipython",
    "version": 3
   },
   "file_extension": ".py",
   "mimetype": "text/x-python",
   "name": "python",
   "nbconvert_exporter": "python",
   "pygments_lexer": "ipython3",
   "version": "3.7.1"
  }
 },
 "nbformat": 4,
 "nbformat_minor": 2
}

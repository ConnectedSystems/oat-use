{
 "cells": [
  {
   "cell_type": "code",
   "execution_count": 1,
   "metadata": {},
   "outputs": [],
   "source": [
    "%run \"Common setup.ipynb\""
   ]
  },
  {
   "cell_type": "code",
   "execution_count": 2,
   "metadata": {},
   "outputs": [],
   "source": [
    "from SALib.analyze.radial_ee import analyze as ee_analyze\n",
    "from SALib.analyze.sobol_jansen import analyze as jansen_analyze\n",
    "\n",
    "from SALib.plotting.bar import plot as barplot"
   ]
  },
  {
   "cell_type": "code",
   "execution_count": 3,
   "metadata": {},
   "outputs": [],
   "source": [
    "# results produced with\n",
    "# python launch.py --specific_inputs oat_mc_10_samples.csv --num_cores 48\n",
    "# python launch.py --specific_inputs extremes_samples.csv --num_cores 2\n",
    "# python launch.py --specific_inputs moat_10_samples.csv --num_cores 46\n",
    "\n",
    "def collect_results(problem, oat_length, reps, np_res, numeric_vals):\n",
    "    jansen_results_df = pd.DataFrame()\n",
    "    ee_results_df = pd.DataFrame()\n",
    "    rep_length = oat_length * reps\n",
    "    _, cols = np_res.shape\n",
    "    for col in range(cols):\n",
    "        cn = col_names[col]\n",
    "        res = np_res[:rep_length, col]\n",
    "        si = jansen_analyze(problem, res, reps, seed=101)\n",
    "        js_df = si.to_df()\n",
    "        js_df.columns = ['{}_{}'.format(cn, suf) for suf in js_df.columns]\n",
    "        jansen_results_df = pd.concat([jansen_results_df, js_df], axis=1)\n",
    "        si = ee_analyze(problem, numeric_vals[:rep_length],\n",
    "                        res, reps, seed=101)\n",
    "        ee_df = si.to_df()\n",
    "        ee_df.columns = ['{}_{}'.format(cn, suf) for suf in ee_df.columns]\n",
    "        ee_results_df = pd.concat([ee_results_df, ee_df], axis=1)\n",
    "    return jansen_results_df, ee_results_df\n",
    "# End collect_results()\n",
    "\n",
    "\n",
    "def plot_results(jansen_results_df, ee_results_df, target_metric):\n",
    "    idx = [True if 'irrigation' in r.lower() else False for r in jansen_results_df.index]\n",
    "    tgt_idx = [c for c in ee_results_df.columns if target_metric.lower() in c.lower()]\n",
    "    ax = ee_results_df.loc[idx, tgt_idx].plot(kind='bar', figsize=(10,6))\n",
    "    ax.legend(loc='center left', bbox_to_anchor=(1, 0.5))\n",
    "# End plot_results()"
   ]
  },
  {
   "cell_type": "code",
   "execution_count": 4,
   "metadata": {},
   "outputs": [],
   "source": [
    "template_df = pd.read_csv(f'{DATA_DIR}example_sample.csv', index_col=0)\n",
    "is_perturbed = (template_df != template_df.iloc[0]).any()\n",
    "perturbed_cols = template_df.loc[:, is_perturbed].columns\n",
    "target_num_vars = CIM_SPEC['num_vars']\n",
    "oat_length = target_num_vars + 1"
   ]
  },
  {
   "cell_type": "code",
   "execution_count": 5,
   "metadata": {},
   "outputs": [],
   "source": [
    "numeric_samples = pd.read_csv(f'{DATA_DIR}extreme_numeric_samples.csv', index_col=0)\n",
    "numeric_samples = numeric_samples[perturbed_cols]\n",
    "numeric_vals = numeric_samples.values\n",
    "extreme_results = pd.read_csv(f'{DATA_DIR}no_irrigation_extreme_results.csv', index_col=0)\n",
    "np_res = extreme_results.values\n",
    "col_names = extreme_results.columns"
   ]
  },
  {
   "cell_type": "code",
   "execution_count": 6,
   "metadata": {},
   "outputs": [],
   "source": [
    "### Extremity testing ###\n",
    "\n",
    "## Extreme values without interactions ##\n",
    "model_results = {}\n",
    "\n",
    "for i in range(len(col_names)):\n",
    "    x_diff = (numeric_vals[0, :] - numeric_vals[1, :])\n",
    "    y_diff = (np_res[0, i] - np_res[1, i])\n",
    "    model_results[col_names[i]] = abs(y_diff / x_diff)\n",
    "# End for\n",
    "\n",
    "no_ext_results = pd.DataFrame(model_results, index=perturbed_cols).T\n",
    "\n",
    "\n",
    "## Extremes with interactions ##\n",
    "extreme_results = pd.read_csv(f'{DATA_DIR}with_irrigation_extreme_results.csv', index_col=0)\n",
    "np_res = extreme_results.values\n",
    "col_names = extreme_results.columns\n",
    "model_results = {}\n",
    "\n",
    "for i in range(len(col_names)):\n",
    "    x_diff = (numeric_vals[0, :] - numeric_vals[1, :])\n",
    "    y_diff = (np_res[0, i] - np_res[1, i])\n",
    "    model_results[col_names[i]] = abs(y_diff / x_diff)\n",
    "# End for\n",
    "\n",
    "with_ext_results = pd.DataFrame(model_results, index=perturbed_cols).T\n",
    "tgt_idx = [c for c in with_ext_results.index if tgt_metric.lower() in c.lower()]"
   ]
  },
  {
   "cell_type": "code",
   "execution_count": 7,
   "metadata": {},
   "outputs": [
    {
     "data": {
      "image/png": "[encoded data removed]",
      "text/plain": [
       "<Figure size 864x288 with 2 Axes>"
      ]
     },
     "metadata": {},
     "output_type": "display_data"
    }
   ],
   "source": [
    "selected_cols = [c for c in with_ext_results.columns \n",
    "                 if tgt_param.lower() in c.lower()]\n",
    "\n",
    "selected_no_ext = no_ext_results.loc[:, selected_cols]\n",
    "selected_with_ext = with_ext_results.loc[:, selected_cols]\n",
    "\n",
    "fig, axes = plt.subplots(1,2, figsize=(12,4), sharey=True, sharex=True)\n",
    "selected_no_ext.loc[tgt_idx, :].plot(kind='bar', legend=None, \n",
    "                                           title='Interactions Disabled',\n",
    "                                           ax=axes[0], \n",
    "                                           rot=0)\n",
    "\n",
    "axes[0].set_ylabel('Absolute Change')\n",
    "\n",
    "x_axis = axes[0].axes.get_xaxis()\n",
    "x_axis.set_visible(False)\n",
    "\n",
    "selected_with_ext.loc[tgt_idx, :].plot(kind='bar', \n",
    "                                             legend=None,\n",
    "                                             title='Interactions Enabled',\n",
    "                                             rot=0,\n",
    "                                             ax=axes[1])\n",
    "# .legend(bbox_to_anchor=(1.05, 0.75))\n",
    "\n",
    "x_axis = axes[1].axes.get_xaxis()\n",
    "x_axis.set_visible(False)\n",
    "\n",
    "fig.suptitle(\"Extremity Testing with OAT\\n(Gravity Irrigation)\", x=0.5, y=1.15, fontsize=20);\n",
    "fig.savefig(f'{FIG_DIR}extremity_testing_gravity_irrigation_results.png', dpi=300, bbox_inches='tight')"
   ]
  },
  {
   "cell_type": "code",
   "execution_count": null,
   "metadata": {},
   "outputs": [],
   "source": []
  }
 ],
 "metadata": {
  "file_extension": ".py",
  "kernelspec": {
   "display_name": "Python (oat-use)",
   "language": "python",
   "name": "oat-use"
  },
  "language_info": {
   "codemirror_mode": {
    "name": "ipython",
    "version": 3
   },
   "file_extension": ".py",
   "mimetype": "text/x-python",
   "name": "python",
   "nbconvert_exporter": "python",
   "pygments_lexer": "ipython3",
   "version": "3.6.6"
  },
  "mimetype": "text/x-python",
  "name": "python",
  "npconvert_exporter": "python",
  "pygments_lexer": "ipython3",
  "version": 3
 },
 "nbformat": 4,
 "nbformat_minor": 4
}

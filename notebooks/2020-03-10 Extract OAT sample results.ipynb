{
 "cells": [
  {
   "cell_type": "markdown",
   "metadata": {
    "hideCode": false,
    "hidePrompt": false
   },
   "source": [
    "Exploratory analysis of batch results"
   ]
  },
  {
   "cell_type": "code",
   "execution_count": 1,
   "metadata": {
    "hideCode": false,
    "hidePrompt": false
   },
   "outputs": [],
   "source": [
    "%reload_ext autoreload\n",
    "%autoreload 2\n",
    "%matplotlib inline"
   ]
  },
  {
   "cell_type": "code",
   "execution_count": 2,
   "metadata": {
    "hideCode": false,
    "hidePrompt": false
   },
   "outputs": [],
   "source": [
    "from __future__ import division"
   ]
  },
  {
   "cell_type": "code",
   "execution_count": 3,
   "metadata": {
    "hideCode": false,
    "hidePrompt": false
   },
   "outputs": [],
   "source": [
    "import os\n",
    "import sys\n",
    "import numpy as np\n",
    "import pandas as pd\n",
    "import pickle\n",
    "import tarfile\n",
    "from glob import glob\n",
    "\n",
    "from pandas.api.types import CategoricalDtype\n",
    "\n",
    "# dirty hack for dev purposes only - when finished I will install the package properly\n",
    "sys.path.insert(0, os.path.abspath(\"..\"))\n",
    "import camp_process"
   ]
  },
  {
   "cell_type": "code",
   "execution_count": 4,
   "metadata": {
    "hideCode": false,
    "hidePrompt": false
   },
   "outputs": [],
   "source": [
    "# sns.set_context(\"talk\")\n",
    "# sns.set_style(\"white\")\n",
    "\n",
    "pj = os.path.join\n",
    "\n",
    "# Revised dataset which has SW-GW interaction\n",
    "DATA_PATH = '../data'\n",
    "\n",
    "batch_files = glob(pj(DATA_PATH, '*.gz'))"
   ]
  },
  {
   "cell_type": "code",
   "execution_count": 5,
   "metadata": {
    "hideCode": false,
    "hidePrompt": false
   },
   "outputs": [],
   "source": [
    "def convert_indicators_to_pd(x):\n",
    "    \"\"\"Convert CIM result dict to a DataFrame.\n",
    "    \n",
    "    Parameters\n",
    "    ==========\n",
    "    * x : dict\n",
    "    \"\"\"\n",
    "    master = pd.DataFrame()\n",
    "    for k, v in x.items():\n",
    "        try:\n",
    "            tmp = pd.DataFrame.from_dict(v).T\n",
    "        except ValueError:\n",
    "            tmp = pd.DataFrame(v, index=[k]).T\n",
    "        # End try\n",
    "\n",
    "        master = pd.concat((master, tmp), axis=1)\n",
    "    # End for\n",
    "        \n",
    "    return master\n",
    "\n",
    "\n",
    "def combine_df(x, y):\n",
    "    \"\"\"Combine two CIM result DFs, adding rows together.\"\"\"\n",
    "    return pd.concat((x, y), ignore_index=True)\n"
   ]
  },
  {
   "cell_type": "code",
   "execution_count": 6,
   "metadata": {},
   "outputs": [],
   "source": [
    "import os"
   ]
  },
  {
   "cell_type": "code",
   "execution_count": 7,
   "metadata": {},
   "outputs": [],
   "source": [
    "output_fn = \"{}/no_irrigation_extreme_results.csv\".format(DATA_PATH)\n",
    "\n",
    "if not os.path.exists(output_fn):\n",
    "    extremes_fn = \"C:/development/campaspe/sa-comparison/no_irrig_extreme.gz\".format(DATA_PATH)\n",
    "    ext_indicators, ext_scen_info = camp_process.catchment_indicators(extremes_fn, timeseries=False)\n",
    "    extremes_results = convert_indicators_to_pd(ext_indicators)\n",
    "    extremes_results.to_csv(output_fn)"
   ]
  },
  {
   "cell_type": "code",
   "execution_count": 8,
   "metadata": {},
   "outputs": [],
   "source": [
    "output_fn = \"{}/with_irrigation_extreme_results.csv\".format(DATA_PATH)\n",
    "\n",
    "if not os.path.exists(output_fn):\n",
    "    extremes_fn = \"C:/development/campaspe/sa-comparison/with_irrig_extreme.gz\".format(DATA_PATH)\n",
    "    ext_indicators, ext_scen_info = camp_process.catchment_indicators(extremes_fn, timeseries=False)\n",
    "    extremes_results = convert_indicators_to_pd(ext_indicators)\n",
    "    extremes_results.to_csv(output_fn)"
   ]
  },
  {
   "cell_type": "markdown",
   "metadata": {},
   "source": [
    "---"
   ]
  },
  {
   "cell_type": "code",
   "execution_count": 9,
   "metadata": {},
   "outputs": [],
   "source": [
    "# Different data directory as these ones are very large (e.g. > 4.5GB)\n",
    "oat_no_irrigation_large_sample_fn = \"C:/development/campaspe/sa-comparison/oat_no_irrigation_10.gz\""
   ]
  },
  {
   "cell_type": "code",
   "execution_count": 10,
   "metadata": {},
   "outputs": [],
   "source": [
    "output_fn = '{}/oat_no_irrigation_10_results.csv'.format(DATA_PATH)\n",
    "\n",
    "if not os.path.exists(output_fn):\n",
    "    no_irrig_indicators, scenario_info = camp_process.catchment_indicators(oat_no_irrigation_large_sample_fn, timeseries=False)\n",
    "    no_irrigation_results = convert_indicators_to_pd(no_irrig_indicators)\n",
    "    no_irrigation_results = no_irrigation_results.reset_index(drop=True)\n",
    "    no_irrigation_results.to_csv(output_fn)"
   ]
  },
  {
   "cell_type": "code",
   "execution_count": 11,
   "metadata": {},
   "outputs": [],
   "source": [
    "oat_with_irrigation_large_sample_fn = \"C:/development/campaspe/sa-comparison/oat_with_irrigation_10.gz\""
   ]
  },
  {
   "cell_type": "code",
   "execution_count": 12,
   "metadata": {},
   "outputs": [],
   "source": [
    "with_irrig_indicators, scenario_info = camp_process.catchment_indicators(oat_with_irrigation_large_sample_fn, timeseries=False)\n",
    "with_irrigation_results = convert_indicators_to_pd(with_irrig_indicators)\n",
    "with_irrigation_results = with_irrigation_results.reset_index(drop=True)\n",
    "\n",
    "with_irrigation_results.to_csv('{}/oat_with_irrigation_10_results.csv'.format(DATA_PATH))"
   ]
  },
  {
   "cell_type": "markdown",
   "metadata": {},
   "source": [
    "---"
   ]
  },
  {
   "cell_type": "code",
   "execution_count": 13,
   "metadata": {},
   "outputs": [],
   "source": [
    "# Morris OAT results"
   ]
  },
  {
   "cell_type": "code",
   "execution_count": 14,
   "metadata": {},
   "outputs": [],
   "source": [
    "output_fn = '{}/moat_no_irrigation_10_results.csv'.format(DATA_PATH)\n",
    "\n",
    "if not os.path.exists(output_fn):\n",
    "    # Different data directory as these ones are very large (e.g. > 4.5GB)\n",
    "    moat_no_irrigation_fn = \"C:/development/campaspe/sa-comparison/moat_no_irrig_10.gz\"\n",
    "    no_irrig_indicators, scenario_info = camp_process.catchment_indicators(moat_no_irrigation_fn, timeseries=False)\n",
    "    no_irrigation_results = convert_indicators_to_pd(no_irrig_indicators)\n",
    "    no_irrigation_results = no_irrigation_results.reset_index(drop=True)\n",
    "\n",
    "    no_irrigation_results.to_csv(output_fn)"
   ]
  },
  {
   "cell_type": "code",
   "execution_count": 15,
   "metadata": {},
   "outputs": [],
   "source": [
    "output_fn = '{}/moat_with_irrigation_10_results.csv'.format(DATA_PATH)\n",
    "\n",
    "if not os.path.exists(output_fn): \n",
    "    moat_with_irrigation_fn = \"C:/development/campaspe/sa-comparison/moat_with_irrig_10.gz\"\n",
    "    with_irrig_indicators, scenario_info = camp_process.catchment_indicators(moat_with_irrigation_fn, timeseries=False)\n",
    "    with_irrigation_results = convert_indicators_to_pd(with_irrig_indicators)\n",
    "    with_irrigation_results = with_irrigation_results.reset_index(drop=True)\n",
    "\n",
    "    with_irrigation_results.to_csv(output_fn)"
   ]
  },
  {
   "cell_type": "markdown",
   "metadata": {},
   "source": [
    "---"
   ]
  },
  {
   "cell_type": "code",
   "execution_count": 16,
   "metadata": {},
   "outputs": [],
   "source": [
    "# Saltelli sampling results"
   ]
  },
  {
   "cell_type": "code",
   "execution_count": 17,
   "metadata": {},
   "outputs": [],
   "source": [
    "# Different data directory as these ones are very large (e.g. > 4.5GB)\n",
    "\n",
    "# saltelli_no_irrigation_fn = \"D:/temp/oat_study/saltelli_no_irrig_10.gz\"\n"
   ]
  },
  {
   "cell_type": "code",
   "execution_count": 18,
   "metadata": {},
   "outputs": [],
   "source": [
    "output_fn = '{}/saltelli_no_irrigation_10_results.csv'.format(DATA_PATH)\n",
    "\n",
    "if not os.path.exists(output_fn): \n",
    "    saltelli_no_irrigation_fn = \"C:/development/campaspe/sa-comparison/saltelli_no_irrig_10.gz\"\n",
    "    no_irrig_indicators, scenario_info = camp_process.catchment_indicators(saltelli_no_irrigation_fn, timeseries=False)\n",
    "    no_irrigation_results = convert_indicators_to_pd(no_irrig_indicators)\n",
    "    no_irrigation_results = no_irrigation_results.reset_index(drop=True)\n",
    "    no_irrigation_results.to_csv(output_fn)"
   ]
  },
  {
   "cell_type": "code",
   "execution_count": 19,
   "metadata": {},
   "outputs": [],
   "source": [
    "output_fn = '{}/saltelli_with_irrigation_10_results.csv'.format(DATA_PATH)\n",
    "\n",
    "if not os.path.exists(output_fn): \n",
    "    saltelli_with_irrigation_fn = \"C:/development/campaspe/sa-comparison/saltelli_with_irrig_10.gz\"\n",
    "\n",
    "    with_irrig_indicators, scenario_info = camp_process.catchment_indicators(saltelli_with_irrigation_fn, timeseries=False)\n",
    "    with_irrigation_results = convert_indicators_to_pd(with_irrig_indicators)\n",
    "    with_irrigation_results = with_irrigation_results.reset_index(drop=True)\n",
    "    with_irrigation_results.to_csv(output_fn)"
   ]
  },
  {
   "cell_type": "markdown",
   "metadata": {},
   "source": [
    "---"
   ]
  },
  {
   "cell_type": "code",
   "execution_count": 20,
   "metadata": {},
   "outputs": [],
   "source": [
    "output_fn = '{}/radial_no_irrigation_10_results.csv'.format(DATA_PATH)\n",
    "\n",
    "if not os.path.exists(output_fn): \n",
    "    radial_no_irrigation_fn = \"C:/development/campaspe/sa-comparison/radial_no_irrig_10.gz\"\n",
    "    no_irrig_indicators, scenario_info = camp_process.catchment_indicators(radial_no_irrigation_fn, timeseries=False)\n",
    "    no_irrigation_results = convert_indicators_to_pd(no_irrig_indicators)\n",
    "    no_irrigation_results = no_irrigation_results.reset_index(drop=True)\n",
    "    no_irrigation_results.to_csv(output_fn)"
   ]
  },
  {
   "cell_type": "code",
   "execution_count": 21,
   "metadata": {},
   "outputs": [],
   "source": [
    "output_fn = '{}/radial_with_irrigation_10_results.csv'.format(DATA_PATH)\n",
    "\n",
    "if not os.path.exists(output_fn): \n",
    "    radial_with_irrigation_fn = \"C:/development/campaspe/sa-comparison/radial_with_irrig_10.gz\"\n",
    "\n",
    "    with_irrig_indicators, scenario_info = camp_process.catchment_indicators(radial_with_irrigation_fn, timeseries=False)\n",
    "    with_irrigation_results = convert_indicators_to_pd(with_irrig_indicators)\n",
    "    with_irrigation_results = with_irrigation_results.reset_index(drop=True)\n",
    "    with_irrigation_results.to_csv(output_fn)"
   ]
  },
  {
   "cell_type": "code",
   "execution_count": null,
   "metadata": {},
   "outputs": [],
   "source": []
  }
 ],
 "metadata": {
  "hide_code_all_hidden": false,
  "kernelspec": {
   "display_name": "cimdev",
   "language": "python",
   "name": "cimdev"
  },
  "language_info": {
   "codemirror_mode": {
    "name": "ipython",
    "version": 2
   },
   "file_extension": ".py",
   "mimetype": "text/x-python",
   "name": "python",
   "nbconvert_exporter": "python",
   "pygments_lexer": "ipython2",
   "version": "2.7.13"
  }
 },
 "nbformat": 4,
 "nbformat_minor": 2
}

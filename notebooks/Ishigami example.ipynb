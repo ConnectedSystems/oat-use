{
 "cells": [
  {
   "cell_type": "markdown",
   "metadata": {},
   "source": [
    "We run the example (Ishigami) function here - as implemented in SALib - to show it is working as expected.\n",
    "\n",
    "The expected first order indices (within confidence bounds) are:\n",
    "* x1: 0.3139\n",
    "* x2: 0.4424\n",
    "* x3: 0.0"
   ]
  },
  {
   "cell_type": "code",
   "execution_count": null,
   "metadata": {},
   "outputs": [],
   "source": [
    "from SALib.sample import saltelli\n",
    "from SALib.analyze import sobol\n",
    "from SALib.test_functions import Ishigami\n",
    "import numpy as np\n",
    "\n",
    "seed_value = 101\n",
    "num_samples = 10000\n",
    "\n",
    "problem = {\n",
    "  'num_vars': 3,\n",
    "  'names': ['x1', 'x2', 'x3'],\n",
    "  'bounds': [[-np.pi, np.pi]]*3\n",
    "}\n",
    "\n",
    "param_values = saltelli.sample(problem, num_samples, seed=seed_value)\n",
    "\n",
    "Y = Ishigami.evaluate(param_values)\n",
    "\n",
    "Si = sobol.analyze(problem, Y, print_to_console=False)\n",
    "\n",
    "total, first, second = Si.to_df()\n",
    "\n",
    "first"
   ]
  }
 ],
 "metadata": {
  "kernelspec": {
   "display_name": "Python (sa-comparison)",
   "language": "python",
   "name": "sa-comparison"
  },
  "language_info": {
   "codemirror_mode": {
    "name": "ipython",
    "version": 3
   },
   "file_extension": ".py",
   "mimetype": "text/x-python",
   "name": "python",
   "nbconvert_exporter": "python",
   "pygments_lexer": "ipython3",
   "version": "3.7.1"
  }
 },
 "nbformat": 4,
 "nbformat_minor": 2
}

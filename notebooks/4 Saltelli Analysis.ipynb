{
 "cells": [
  {
   "cell_type": "code",
   "execution_count": 1,
   "metadata": {},
   "outputs": [],
   "source": [
    "%run \"Common setup.ipynb\""
   ]
  },
  {
   "cell_type": "code",
   "execution_count": 2,
   "metadata": {},
   "outputs": [],
   "source": [
    "from SALib.analyze.sobol import analyze"
   ]
  },
  {
   "cell_type": "code",
   "execution_count": 3,
   "metadata": {},
   "outputs": [],
   "source": [
    "# Results produced with:\n",
    "# python launch.py --specific_inputs saltelli_5_samples.csv --num_cores 46"
   ]
  },
  {
   "cell_type": "code",
   "execution_count": 4,
   "metadata": {},
   "outputs": [],
   "source": [
    "def incremental_saltelli_analysis(lower, upper, step=1):\n",
    "    res, idx = [], []\n",
    "    for reps in range(lower, upper, step):\n",
    "        results = analyze(CIM_SPEC, np_res[:reps], seed=101, calc_second_order=False)\n",
    "        total, first = results.to_df()\n",
    "\n",
    "        res.append(first.loc[tgt_param, 'S1'])\n",
    "        idx.append(int(reps/step))\n",
    "    # End for\n",
    "    \n",
    "    return res, idx\n",
    "# End incremental_saltelli_analysis()\n",
    "\n",
    "\n",
    "def incremental_saltelli_analysis_2nd_order(lower, upper, step=1):\n",
    "    res, idx = [], []\n",
    "    for reps in range(lower, upper, step):\n",
    "        results = analyze(CIM_SPEC, np_res[:reps], seed=101, calc_second_order=True)\n",
    "        total, first, second = results.to_df()\n",
    "\n",
    "        res.append(first.loc[tgt_param, 'S1'])\n",
    "        idx.append(int(reps/step))\n",
    "    # End for\n",
    "    \n",
    "    return res, idx\n",
    "# End incremental_saltelli_analysis()"
   ]
  },
  {
   "cell_type": "code",
   "execution_count": 5,
   "metadata": {},
   "outputs": [],
   "source": [
    "### With more samples...\n",
    "\n",
    "numeric_samples = pd.read_csv(f'{DATA_DIR}saltelli_5_numeric_samples.csv', index_col=0)\n",
    "numeric_samples = numeric_samples[perturbed_cols]\n",
    "numeric_vals = numeric_samples.values"
   ]
  },
  {
   "cell_type": "code",
   "execution_count": 6,
   "metadata": {},
   "outputs": [],
   "source": [
    "# Coupling disabled\n",
    "saltelli_no_irrigation_results = pd.read_csv(f'{DATA_DIR}saltelli_no_irrigation_5_results.csv', index_col=0)\n",
    "saltelli_no_irrigation_results['Avg. $/ML'].fillna(saltelli_no_irrigation_results[\"Avg. Annual Profit ($M)\"], inplace=True)\n",
    "\n",
    "target_result_idx = saltelli_no_irrigation_results.columns.tolist().index(tgt_metric)\n",
    "np_res = saltelli_no_irrigation_results.values[:, 0]\n",
    "\n",
    "runs = np_res.shape[0]\n",
    "res, idx = incremental_saltelli_analysis(55, runs+1, 55)\n",
    "\n",
    "disabled = pd.DataFrame({\"S1\": res}, index=idx)\n",
    "\n",
    "# ax = pd.DataFrame({\"ST\": res}, index=idx).plot(kind='bar', rot=45)\n",
    "# ax.set_title(\"Saltelli (Sobol') Analysis\\n(Deactivated Parameter)\")\n",
    "# ax.set_xlabel(\"n\")\n",
    "# plt.savefig(f'{FIG_DIR}saltelli_deactivated_results.png', dpi=300, bbox_inches='tight')"
   ]
  },
  {
   "cell_type": "code",
   "execution_count": 7,
   "metadata": {},
   "outputs": [],
   "source": [
    "# Coupling enabled\n",
    "\n",
    "saltelli_with_irrigation_results = pd.read_csv(f'{DATA_DIR}saltelli_with_irrigation_5_results.csv', index_col=0)\n",
    "saltelli_with_irrigation_results['Avg. $/ML'].fillna(saltelli_with_irrigation_results[\"Avg. Annual Profit ($M)\"], inplace=True)\n",
    "\n",
    "target_result_idx = saltelli_with_irrigation_results.columns.tolist().index(tgt_metric)\n",
    "\n",
    "np_res = saltelli_with_irrigation_results.values[:, target_result_idx]\n",
    "\n",
    "runs = np_res.shape[0]\n",
    "res, idx = incremental_saltelli_analysis(55, runs+1, 55)\n",
    "\n",
    "enabled = pd.DataFrame({\"S1\": res}, index=idx)"
   ]
  },
  {
   "cell_type": "code",
   "execution_count": 8,
   "metadata": {},
   "outputs": [
    {
     "data": {
      "image/png": "[encoded data removed]",
      "text/plain": [
       "<Figure size 864x288 with 2 Axes>"
      ]
     },
     "metadata": {},
     "output_type": "display_data"
    }
   ],
   "source": [
    "fig, axes = plt.subplots(1,2, figsize=(12,4), sharey=True, sharex=True)\n",
    "\n",
    "labels = [str(i) if i % 1 == 0 else '' for i in idx]\n",
    "disabled.loc[:, 'S1'].plot(kind='bar', \n",
    "                           legend=None,\n",
    "                           title='Disabled',\n",
    "                           ax=axes[0],\n",
    "                           use_index=False,\n",
    "                           rot=45,\n",
    "                           width=1.1,\n",
    "                           edgecolor='C0')\n",
    "\n",
    "enabled.loc[:, 'S1'].plot(kind='bar', \n",
    "                          legend=None,\n",
    "                          title='Enabled',\n",
    "                          ax=axes[1],\n",
    "                          use_index=False,\n",
    "                          rot=45,\n",
    "                          width=1.1,\n",
    "                          edgecolor='C0').legend(\n",
    "                             bbox_to_anchor=(1.35, 0.65)\n",
    "                          )\n",
    "fig.suptitle(\"Saltelli (Sobol') Analysis\", x=0.5, y=1.05, fontsize=22)\n",
    "# fig.tight_layout()\n",
    "plt.xlabel(\"$n$\", x=-0.05, labelpad=15);\n",
    "\n",
    "axes[0].set_xticklabels(labels)\n",
    "axes[1].set_xticklabels(labels);"
   ]
  },
  {
   "cell_type": "code",
   "execution_count": 9,
   "metadata": {},
   "outputs": [],
   "source": [
    "fig.savefig(FIG_DIR+'saltelli_larger_sample.png', dpi=300, bbox_inches='tight')"
   ]
  },
  {
   "cell_type": "markdown",
   "metadata": {},
   "source": [
    "---\n",
    "\n",
    "Using full result set"
   ]
  },
  {
   "cell_type": "code",
   "execution_count": 10,
   "metadata": {},
   "outputs": [],
   "source": [
    "target_result_idx = all_outputs.columns.tolist().index(\"SW Allocation Index\")\n",
    "\n",
    "numeric_samples = to_numeric_samples(all_inputs)\n",
    "numeric_vals = numeric_samples.values\n",
    "np_res = all_outputs.iloc[:, target_result_idx].values"
   ]
  },
  {
   "cell_type": "code",
   "execution_count": 11,
   "metadata": {},
   "outputs": [
    {
     "data": {
      "text/plain": [
       "<AxesSubplot:>"
      ]
     },
     "execution_count": 11,
     "metadata": {},
     "output_type": "execute_result"
    },
    {
     "data": {
      "image/png": "[encoded data removed]",
      "text/plain": [
       "<Figure size 1152x288 with 1 Axes>"
      ]
     },
     "metadata": {},
     "output_type": "display_data"
    }
   ],
   "source": [
    "res, idx = incremental_saltelli_analysis_2nd_order(108, 5625, 108)\n",
    "pd.DataFrame({'S1 (Gravity Irrigation)': res}, index=idx).plot(kind='bar', figsize=(16,4))"
   ]
  },
  {
   "cell_type": "code",
   "execution_count": null,
   "metadata": {},
   "outputs": [],
   "source": []
  }
 ],
 "metadata": {
  "kernelspec": {
   "display_name": "Python (oat-use)",
   "language": "python",
   "name": "oat-use"
  },
  "language_info": {
   "codemirror_mode": {
    "name": "ipython",
    "version": 3
   },
   "file_extension": ".py",
   "mimetype": "text/x-python",
   "name": "python",
   "nbconvert_exporter": "python",
   "pygments_lexer": "ipython3",
   "version": "3.6.6"
  }
 },
 "nbformat": 4,
 "nbformat_minor": 4
}

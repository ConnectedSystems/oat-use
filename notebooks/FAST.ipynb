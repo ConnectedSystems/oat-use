{
 "cells": [
  {
   "cell_type": "markdown",
   "metadata": {},
   "source": [
    "Import common packages, functions, and parameter values"
   ]
  },
  {
   "cell_type": "code",
   "execution_count": 1,
   "metadata": {},
   "outputs": [],
   "source": [
    "%run \"Common setup.ipynb\""
   ]
  },
  {
   "cell_type": "code",
   "execution_count": 33,
   "metadata": {},
   "outputs": [],
   "source": [
<<<<<<< Updated upstream:notebooks/2 GSA with inactive parameter.ipynb
    "**NOTE:** Plotting methods used here are from an experimental version of SALib, and will not work if using the released versions. For now, the work is reproducible only if the package is cloned from https://github.com/ConnectedSystems/SALib/tree/basic-viz\n",
    "\n",
    "<hr>\n",
    "\n",
    "**eFAST Method**"
=======
    "def test_f(a, b, c):\n",
    "    return a * b * c"
   ]
  },
  {
   "cell_type": "code",
   "execution_count": 44,
   "metadata": {},
   "outputs": [],
   "source": [
    "def evaluate_test(values):\n",
    "    Y = np.zeros([values.shape[0]])\n",
    "\n",
    "    for i, X in enumerate(values):\n",
    "        Y[i] = test_f(*X)\n",
    "    \n",
    "    return Y"
   ]
  },
  {
   "cell_type": "code",
   "execution_count": 57,
   "metadata": {},
   "outputs": [],
   "source": [
    "test_spec = {\n",
    " 'num_vars': 3,\n",
    " 'names': ['a', 'b', 'c'],\n",
    " 'bounds': [[0, 100.0],\n",
    "            [0, 1.0],\n",
    "            [0, 1.0]]}"
   ]
  },
  {
   "cell_type": "code",
   "execution_count": 58,
   "metadata": {},
   "outputs": [],
   "source": [
    "import numpy as np\n",
    "\n",
    "seed_value = 101\n",
    "num_samples = 10000\n",
    "\n",
    "param_values = fast_sampler(test_spec, num_samples, 4, seed=seed_value)\n",
    "\n",
    "Y = evaluate_test(param_values)\n",
    "\n",
    "Si = fast_analyzer(test_spec, Y, print_to_console=False)"
>>>>>>> Stashed changes:notebooks/FAST.ipynb
   ]
  },
  {
   "cell_type": "code",
<<<<<<< Updated upstream:notebooks/2 GSA with inactive parameter.ipynb
   "execution_count": 2,
=======
   "execution_count": 59,
>>>>>>> Stashed changes:notebooks/FAST.ipynb
   "metadata": {},
   "outputs": [
    {
     "data": {
      "text/html": [
       "<div>\n",
       "<style scoped>\n",
       "    .dataframe tbody tr th:only-of-type {\n",
       "        vertical-align: middle;\n",
       "    }\n",
       "\n",
       "    .dataframe tbody tr th {\n",
       "        vertical-align: top;\n",
       "    }\n",
       "\n",
       "    .dataframe thead th {\n",
       "        text-align: right;\n",
       "    }\n",
       "</style>\n",
       "<table border=\"1\" class=\"dataframe\">\n",
       "  <thead>\n",
       "    <tr style=\"text-align: right;\">\n",
       "      <th></th>\n",
       "      <th>S1</th>\n",
       "      <th>ST</th>\n",
       "    </tr>\n",
       "  </thead>\n",
       "  <tbody>\n",
       "    <tr>\n",
<<<<<<< Updated upstream:notebooks/2 GSA with inactive parameter.ipynb
       "      <th>x1</th>\n",
       "      <td>0.3076</td>\n",
       "      <td>0.5528</td>\n",
       "    </tr>\n",
       "    <tr>\n",
       "      <th>x2</th>\n",
       "      <td>0.4424</td>\n",
       "      <td>0.4483</td>\n",
       "    </tr>\n",
       "    <tr>\n",
       "      <th>x3</th>\n",
       "      <td>0.0000</td>\n",
       "      <td>0.2393</td>\n",
       "    </tr>\n",
       "    <tr>\n",
       "      <th>x4</th>\n",
       "      <td>0.0000</td>\n",
       "      <td>0.0453</td>\n",
=======
       "      <th>a</th>\n",
       "      <td>0.240720</td>\n",
       "      <td>0.433622</td>\n",
       "    </tr>\n",
       "    <tr>\n",
       "      <th>b</th>\n",
       "      <td>0.245340</td>\n",
       "      <td>0.432431</td>\n",
       "    </tr>\n",
       "    <tr>\n",
       "      <th>c</th>\n",
       "      <td>0.242396</td>\n",
       "      <td>0.432932</td>\n",
>>>>>>> Stashed changes:notebooks/FAST.ipynb
       "    </tr>\n",
       "  </tbody>\n",
       "</table>\n",
       "</div>"
      ],
      "text/plain": [
<<<<<<< Updated upstream:notebooks/2 GSA with inactive parameter.ipynb
       "        S1      ST\n",
       "x1  0.3076  0.5528\n",
       "x2  0.4424  0.4483\n",
       "x3  0.0000  0.2393\n",
       "x4  0.0000  0.0453"
      ]
     },
     "execution_count": 2,
=======
       "         S1        ST\n",
       "a  0.240720  0.433622\n",
       "b  0.245340  0.432431\n",
       "c  0.242396  0.432932"
      ]
     },
     "execution_count": 59,
>>>>>>> Stashed changes:notebooks/FAST.ipynb
     "metadata": {},
     "output_type": "execute_result"
    }
   ],
   "source": [
<<<<<<< Updated upstream:notebooks/2 GSA with inactive parameter.ipynb
    "param_values = fast_sampler(SPEC_WITH_INACTIVE, NUM_FAST_SAMPLES, M=4, seed=SEED_VALUE)\n",
    "Y = Ishigami.evaluate(param_values)\n",
    "Si_inactive = fast_analyzer(SPEC_WITH_INACTIVE, Y, print_to_console=False)\n",
    "Si_inactive.to_df().round(4)"
=======
    "Si_df = Si.to_df()\n",
    "\n",
    "Si_df"
   ]
  },
  {
   "cell_type": "code",
   "execution_count": 24,
   "metadata": {},
   "outputs": [],
   "source": [
    "from SALib.test_functions import Ishigami\n",
    "import numpy as np\n",
    "\n",
    "seed_value = 101\n",
    "num_samples = 10000\n",
    "\n",
    "param_values = fast_sampler(SPEC_WO_INACTIVE, num_samples, 32, seed=seed_value)\n",
    "\n",
    "Y = Ishigami.evaluate(param_values)\n",
    "\n",
    "Si = fast_analyzer(SPEC_WO_INACTIVE, Y, print_to_console=False)"
>>>>>>> Stashed changes:notebooks/FAST.ipynb
   ]
  },
  {
   "cell_type": "code",
<<<<<<< Updated upstream:notebooks/2 GSA with inactive parameter.ipynb
   "execution_count": 3,
=======
   "execution_count": 25,
>>>>>>> Stashed changes:notebooks/FAST.ipynb
   "metadata": {},
   "outputs": [
    {
     "data": {
<<<<<<< Updated upstream:notebooks/2 GSA with inactive parameter.ipynb
      "text/plain": [
       "<matplotlib.axes._subplots.AxesSubplot at 0x1fb09f254a8>"
      ]
     },
     "execution_count": 3,
=======
      "text/html": [
       "<div>\n",
       "<style scoped>\n",
       "    .dataframe tbody tr th:only-of-type {\n",
       "        vertical-align: middle;\n",
       "    }\n",
       "\n",
       "    .dataframe tbody tr th {\n",
       "        vertical-align: top;\n",
       "    }\n",
       "\n",
       "    .dataframe thead th {\n",
       "        text-align: right;\n",
       "    }\n",
       "</style>\n",
       "<table border=\"1\" class=\"dataframe\">\n",
       "  <thead>\n",
       "    <tr style=\"text-align: right;\">\n",
       "      <th></th>\n",
       "      <th>S1</th>\n",
       "      <th>ST</th>\n",
       "    </tr>\n",
       "  </thead>\n",
       "  <tbody>\n",
       "    <tr>\n",
       "      <th>x1</th>\n",
       "      <td>2.095442e-11</td>\n",
       "      <td>1.129860e-02</td>\n",
       "    </tr>\n",
       "    <tr>\n",
       "      <th>x2</th>\n",
       "      <td>6.949659e-11</td>\n",
       "      <td>1.217871e-07</td>\n",
       "    </tr>\n",
       "    <tr>\n",
       "      <th>x3</th>\n",
       "      <td>1.473429e-03</td>\n",
       "      <td>4.533005e-02</td>\n",
       "    </tr>\n",
       "  </tbody>\n",
       "</table>\n",
       "</div>"
      ],
      "text/plain": [
       "              S1            ST\n",
       "x1  2.095442e-11  1.129860e-02\n",
       "x2  6.949659e-11  1.217871e-07\n",
       "x3  1.473429e-03  4.533005e-02"
      ]
     },
     "execution_count": 25,
>>>>>>> Stashed changes:notebooks/FAST.ipynb
     "metadata": {},
     "output_type": "execute_result"
    },
    {
     "data": {
      "image/png": "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\n",
      "text/plain": [
       "<Figure size 432x288 with 1 Axes>"
      ]
     },
     "metadata": {
      "needs_background": "light"
     },
     "output_type": "display_data"
    }
   ],
   "source": [
<<<<<<< Updated upstream:notebooks/2 GSA with inactive parameter.ipynb
    "Si_inactive.plot()"
   ]
  },
  {
   "cell_type": "code",
   "execution_count": 4,
   "metadata": {},
   "outputs": [
    {
     "name": "stdout",
     "output_type": "stream",
     "text": [
      "52.9 ms ± 2.58 ms per loop (mean ± std. dev. of 7 runs, 10 loops each)\n"
     ]
    }
   ],
   "source": [
    "%%timeit\n",
    "param_values = fast_sampler(SPEC_WITH_INACTIVE, NUM_FAST_SAMPLES, M=4, seed=SEED_VALUE)\n",
    "Y = Ishigami.evaluate(param_values)\n",
    "Si_inactive = fast_analyzer(SPEC_WITH_INACTIVE, Y, print_to_console=False)"
=======
    "Si_df = Si.to_df()\n",
    "\n",
    "Si_df"
>>>>>>> Stashed changes:notebooks/FAST.ipynb
   ]
  },
  {
   "cell_type": "code",
   "execution_count": 61,
   "metadata": {},
   "outputs": [],
   "source": [
<<<<<<< Updated upstream:notebooks/2 GSA with inactive parameter.ipynb
    "**Saltelli (Sobol' method with cross-sampling)**\n",
    "\n",
    "You will see below that parameter `x1` comes out as being insensitive (according to Total Order sensitivity index) even though it should have some effect. First order sensitivities appear fine however."
=======
    "test2 = {'num_vars': 4,\n",
    " 'names': ['x1', 'x2', 'x3', 'x4'],\n",
    " 'bounds': [[0.0, 3.141592653589793],\n",
    "  [0.0, 3.141592653589793],\n",
    "  [0.0, 3.141592653589793],\n",
    "  [0.0, 3.141592653589793]]}"
>>>>>>> Stashed changes:notebooks/FAST.ipynb
   ]
  },
  {
   "cell_type": "code",
   "execution_count": 65,
   "metadata": {},
   "outputs": [
    {
     "name": "stdout",
     "output_type": "stream",
     "text": [
      "Wall time: 99.1 ms\n"
     ]
    }
   ],
   "source": [
    "%%time\n",
    "# Generate samples\n",
<<<<<<< Updated upstream:notebooks/2 GSA with inactive parameter.ipynb
    "saltelli_w_inactive = saltelli.sample(SPEC_WITH_INACTIVE, NUM_SALTELLI_SAMPLES, seed=SEED_VALUE, calc_second_order=False)\n",
=======
    "fast_w_dummy_values = fast_sampler(test2, num_samples, seed=seed_value)\n",
>>>>>>> Stashed changes:notebooks/FAST.ipynb
    "\n",
    "# Run model (example)\n",
    "Y = Ishigami.evaluate(fast_w_dummy_values)\n",
    "\n",
<<<<<<< Updated upstream:notebooks/2 GSA with inactive parameter.ipynb
    "Si_saltelli = sobol.analyze(SPEC_WITH_INACTIVE, saltelli_Y, print_to_console=False, calc_second_order=False)\n",
    "\n",
    "Saltelli_T, Saltelli_1st = Si_saltelli.to_df()"
=======
    "Si = fast_analyzer(test2, Y, print_to_console=False)"
>>>>>>> Stashed changes:notebooks/FAST.ipynb
   ]
  },
  {
   "cell_type": "code",
   "execution_count": 68,
   "metadata": {},
<<<<<<< Updated upstream:notebooks/2 GSA with inactive parameter.ipynb
=======
   "outputs": [],
   "source": [
    "Si_df = Si.to_df()"
   ]
  },
  {
   "cell_type": "code",
   "execution_count": 69,
   "metadata": {},
>>>>>>> Stashed changes:notebooks/FAST.ipynb
   "outputs": [
    {
     "data": {
      "text/html": [
       "<div>\n",
       "<style scoped>\n",
       "    .dataframe tbody tr th:only-of-type {\n",
       "        vertical-align: middle;\n",
       "    }\n",
       "\n",
       "    .dataframe tbody tr th {\n",
       "        vertical-align: top;\n",
       "    }\n",
       "\n",
       "    .dataframe thead th {\n",
       "        text-align: right;\n",
       "    }\n",
       "</style>\n",
       "<table border=\"1\" class=\"dataframe\">\n",
       "  <thead>\n",
       "    <tr style=\"text-align: right;\">\n",
       "      <th></th>\n",
       "      <th>S1</th>\n",
       "      <th>ST</th>\n",
       "    </tr>\n",
       "  </thead>\n",
       "  <tbody>\n",
       "    <tr>\n",
       "      <th>x1</th>\n",
       "      <td>0.078910</td>\n",
       "      <td>0.142061</td>\n",
       "    </tr>\n",
       "    <tr>\n",
       "      <th>x2</th>\n",
       "      <td>0.593411</td>\n",
       "      <td>0.594251</td>\n",
       "    </tr>\n",
       "    <tr>\n",
       "      <th>x3</th>\n",
       "      <td>0.261870</td>\n",
       "      <td>0.326576</td>\n",
       "    </tr>\n",
       "    <tr>\n",
       "      <th>x4</th>\n",
       "      <td>0.000005</td>\n",
       "      <td>0.013911</td>\n",
       "    </tr>\n",
       "  </tbody>\n",
       "</table>\n",
       "</div>"
      ],
      "text/plain": [
       "          S1        ST\n",
       "x1  0.078910  0.142061\n",
       "x2  0.593411  0.594251\n",
       "x3  0.261870  0.326576\n",
       "x4  0.000005  0.013911"
      ]
     },
<<<<<<< Updated upstream:notebooks/2 GSA with inactive parameter.ipynb
     "execution_count": 6,
=======
     "execution_count": 69,
>>>>>>> Stashed changes:notebooks/FAST.ipynb
     "metadata": {},
     "output_type": "execute_result"
    }
   ],
   "source": [
<<<<<<< Updated upstream:notebooks/2 GSA with inactive parameter.ipynb
    "Saltelli_T.round(4)"
=======
    "Si_df"
>>>>>>> Stashed changes:notebooks/FAST.ipynb
   ]
  },
  {
   "cell_type": "code",
<<<<<<< Updated upstream:notebooks/2 GSA with inactive parameter.ipynb
   "execution_count": 7,
=======
   "execution_count": 70,
   "metadata": {},
   "outputs": [
    {
     "name": "stdout",
     "output_type": "stream",
     "text": [
      "Wall time: 70.6 ms\n"
     ]
    }
   ],
   "source": [
    "%%time\n",
    "# Generate samples\n",
    "fast_wo_dummy_values = fast_sampler(SPEC_WO_INACTIVE, num_samples, seed=seed_value)\n",
    "\n",
    "# Run model (example)\n",
    "Y = Ishigami.evaluate(fast_wo_dummy_values)\n",
    "\n",
    "Si_wo = fast_analyzer(SPEC_WO_INACTIVE, Y, print_to_console=False)"
   ]
  },
  {
   "cell_type": "code",
   "execution_count": 71,
>>>>>>> Stashed changes:notebooks/FAST.ipynb
   "metadata": {},
   "outputs": [
    {
     "data": {
      "text/html": [
       "<div>\n",
       "<style scoped>\n",
       "    .dataframe tbody tr th:only-of-type {\n",
       "        vertical-align: middle;\n",
       "    }\n",
       "\n",
       "    .dataframe tbody tr th {\n",
       "        vertical-align: top;\n",
       "    }\n",
       "\n",
       "    .dataframe thead th {\n",
       "        text-align: right;\n",
       "    }\n",
       "</style>\n",
       "<table border=\"1\" class=\"dataframe\">\n",
       "  <thead>\n",
       "    <tr style=\"text-align: right;\">\n",
       "      <th></th>\n",
       "      <th>S1</th>\n",
       "      <th>ST</th>\n",
       "    </tr>\n",
       "  </thead>\n",
       "  <tbody>\n",
       "    <tr>\n",
       "      <th>x1</th>\n",
       "      <td>3.075946e-01</td>\n",
       "      <td>0.550745</td>\n",
       "    </tr>\n",
       "    <tr>\n",
       "      <th>x2</th>\n",
       "      <td>4.438859e-01</td>\n",
       "      <td>0.487741</td>\n",
       "    </tr>\n",
       "    <tr>\n",
       "      <th>x3</th>\n",
       "      <td>1.404674e-11</td>\n",
       "      <td>0.239258</td>\n",
       "    </tr>\n",
       "  </tbody>\n",
       "</table>\n",
       "</div>"
      ],
      "text/plain": [
       "              S1        ST\n",
       "x1  3.075946e-01  0.550745\n",
       "x2  4.438859e-01  0.487741\n",
       "x3  1.404674e-11  0.239258"
      ]
     },
<<<<<<< Updated upstream:notebooks/2 GSA with inactive parameter.ipynb
     "execution_count": 7,
=======
     "execution_count": 71,
>>>>>>> Stashed changes:notebooks/FAST.ipynb
     "metadata": {},
     "output_type": "execute_result"
    }
   ],
   "source": [
<<<<<<< Updated upstream:notebooks/2 GSA with inactive parameter.ipynb
    "Saltelli_1st.round(4)"
=======
    "Si_wo.to_df()"
>>>>>>> Stashed changes:notebooks/FAST.ipynb
   ]
  },
  {
   "cell_type": "code",
<<<<<<< Updated upstream:notebooks/2 GSA with inactive parameter.ipynb
   "execution_count": 8,
   "metadata": {},
   "outputs": [
    {
     "data": {
      "image/png": "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\n",
      "text/plain": [
       "<Figure size 1152x432 with 2 Axes>"
      ]
     },
     "metadata": {
      "needs_background": "light"
     },
     "output_type": "display_data"
    }
   ],
   "source": [
    "import matplotlib\n",
    "matplotlib.rc('figure', figsize=(16, 6))\n",
    "\n",
    "Si_saltelli.plot();"
   ]
  },
  {
   "cell_type": "code",
   "execution_count": 9,
   "metadata": {},
   "outputs": [
    {
     "data": {
      "image/png": "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\n",
      "text/plain": [
       "<Figure size 1152x432 with 2 Axes>"
      ]
     },
     "metadata": {
      "needs_background": "light"
     },
     "output_type": "display_data"
    }
   ],
   "source": [
    "from SALib.plotting.bar import plot as barplot\n",
    "\n",
    "fig, (ax1, ax2) = plt.subplots(1,2, figsize=(16,6))\n",
    "\n",
    "ax1 = barplot(Saltelli_1st, ax=ax1)\n",
    "ax2 = barplot(Saltelli_T, ax=ax2)"
   ]
  },
  {
   "cell_type": "markdown",
   "metadata": {},
   "source": [
    "The computational cost of running this analysis can get comparatively high, and can be expected to exponentially increase with the number of parameters."
   ]
  },
  {
   "cell_type": "code",
   "execution_count": 11,
   "metadata": {},
   "outputs": [
    {
     "name": "stdout",
     "output_type": "stream",
     "text": [
      "64.4 ms ± 2.48 ms per loop (mean ± std. dev. of 7 runs, 10 loops each)\n"
     ]
    }
   ],
   "source": [
    "%%timeit\n",
    "saltelli_w_inactive = saltelli.sample(SPEC_WITH_INACTIVE, NUM_SALTELLI_SAMPLES, seed=SEED_VALUE, calc_second_order=False)\n",
    "saltelli_Y = Ishigami.evaluate(saltelli_w_inactive)\n",
    "Si_saltelli = sobol.analyze(SPEC_WITH_INACTIVE, saltelli_Y, print_to_console=False, calc_second_order=False)"
   ]
  },
  {
   "cell_type": "markdown",
   "metadata": {},
   "source": [
    "<hr>"
   ]
=======
   "execution_count": null,
   "metadata": {},
   "outputs": [],
   "source": []
>>>>>>> Stashed changes:notebooks/FAST.ipynb
  },
  {
   "cell_type": "markdown",
   "metadata": {},
   "source": [
<<<<<<< Updated upstream:notebooks/2 GSA with inactive parameter.ipynb
    "<hr>\n",
    "\n",
    "**Morris method**"
=======
    "RBD-FAST"
>>>>>>> Stashed changes:notebooks/FAST.ipynb
   ]
  },
  {
   "cell_type": "code",
<<<<<<< Updated upstream:notebooks/2 GSA with inactive parameter.ipynb
   "execution_count": 10,
   "metadata": {},
   "outputs": [],
   "source": [
    "# Generate samples\n",
    "morris_w_inactive = morris_sample(SPEC_WITH_INACTIVE, NUM_MORRIS_SAMPLES)\n",
    "\n",
    "# Run model (example)\n",
    "morris_Y = Ishigami.evaluate(morris_w_inactive)\n",
    "Morris_Si = morris_analyze(SPEC_WITH_INACTIVE, morris_w_inactive, morris_Y, print_to_console=False)"
   ]
  },
  {
   "cell_type": "code",
   "execution_count": 11,
   "metadata": {},
   "outputs": [
    {
     "data": {
      "text/html": [
       "<div>\n",
       "<style scoped>\n",
       "    .dataframe tbody tr th:only-of-type {\n",
       "        vertical-align: middle;\n",
       "    }\n",
       "\n",
       "    .dataframe tbody tr th {\n",
       "        vertical-align: top;\n",
       "    }\n",
       "\n",
       "    .dataframe thead th {\n",
       "        text-align: right;\n",
       "    }\n",
       "</style>\n",
       "<table border=\"1\" class=\"dataframe\">\n",
       "  <thead>\n",
       "    <tr style=\"text-align: right;\">\n",
       "      <th></th>\n",
       "      <th>mu</th>\n",
       "      <th>mu_star</th>\n",
       "      <th>sigma</th>\n",
       "      <th>mu_star_conf</th>\n",
       "    </tr>\n",
       "  </thead>\n",
       "  <tbody>\n",
       "    <tr>\n",
       "      <th>x1</th>\n",
       "      <td>8.3039</td>\n",
       "      <td>8.3039</td>\n",
       "      <td>6.2230</td>\n",
       "      <td>0.3866</td>\n",
       "    </tr>\n",
       "    <tr>\n",
       "      <th>x2</th>\n",
       "      <td>-0.2520</td>\n",
       "      <td>7.8750</td>\n",
       "      <td>7.8749</td>\n",
       "      <td>0.0000</td>\n",
       "    </tr>\n",
       "    <tr>\n",
       "      <th>x3</th>\n",
       "      <td>-0.4374</td>\n",
       "      <td>6.2613</td>\n",
       "      <td>8.8396</td>\n",
       "      <td>0.3711</td>\n",
       "    </tr>\n",
       "    <tr>\n",
       "      <th>x4</th>\n",
       "      <td>0.0000</td>\n",
       "      <td>0.0000</td>\n",
       "      <td>0.0000</td>\n",
       "      <td>0.0000</td>\n",
       "    </tr>\n",
       "  </tbody>\n",
       "</table>\n",
       "</div>"
      ],
      "text/plain": [
       "        mu  mu_star   sigma  mu_star_conf\n",
       "x1  8.3039   8.3039  6.2230        0.3866\n",
       "x2 -0.2520   7.8750  7.8749        0.0000\n",
       "x3 -0.4374   6.2613  8.8396        0.3711\n",
       "x4  0.0000   0.0000  0.0000        0.0000"
      ]
     },
     "execution_count": 11,
     "metadata": {},
     "output_type": "execute_result"
    }
   ],
   "source": [
    "Morris_Si.to_df().round(4)"
   ]
  },
  {
   "cell_type": "code",
   "execution_count": 12,
   "metadata": {},
   "outputs": [
    {
     "data": {
      "text/plain": [
       "<matplotlib.axes._subplots.AxesSubplot at 0x1fb0c1ab128>"
      ]
     },
     "execution_count": 12,
     "metadata": {},
     "output_type": "execute_result"
    },
    {
     "data": {
      "image/png": "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\n",
      "text/plain": [
       "<Figure size 1152x432 with 1 Axes>"
      ]
     },
     "metadata": {
      "needs_background": "light"
     },
     "output_type": "display_data"
    }
   ],
   "source": [
    "Morris_Si.plot()"
=======
   "execution_count": 6,
   "metadata": {},
   "outputs": [],
   "source": [
    "from SALib.sample import latin\n",
    "from SALib.analyze import rbd_fast"
>>>>>>> Stashed changes:notebooks/FAST.ipynb
   ]
  },
  {
   "cell_type": "code",
   "execution_count": 13,
   "metadata": {},
   "outputs": [
    {
     "name": "stdout",
     "output_type": "stream",
     "text": [
<<<<<<< Updated upstream:notebooks/2 GSA with inactive parameter.ipynb
      "234 ms ± 8.46 ms per loop (mean ± std. dev. of 7 runs, 1 loop each)\n"
     ]
    }
   ],
   "source": [
    "%%timeit\n",
    "morris_w_inactive = morris_sample(SPEC_WITH_INACTIVE, NUM_MORRIS_SAMPLES)\n",
    "morris_Y = Ishigami.evaluate(morris_w_inactive)\n",
    "Morris_Si = morris_analyze(SPEC_WITH_INACTIVE, morris_w_inactive, morris_Y, print_to_console=False)"
   ]
  },
  {
   "cell_type": "markdown",
   "metadata": {},
   "source": [
    "<hr>\n",
    "\n",
    "Morris with reduced number of samples"
   ]
  },
  {
   "cell_type": "code",
   "execution_count": 17,
   "metadata": {},
   "outputs": [],
   "source": [
    "np.random.seed(SEED_VALUE)  # Set seed value manually as SALib-Morris does not accept this parameter as of writing.\n",
    "\n",
    "# Generate samples\n",
    "morris_w_inactive = morris_sample(SPEC_WITH_INACTIVE, 500)\n",
    "\n",
    "# Run model (example)\n",
    "morris_Y = Ishigami.evaluate(morris_w_inactive)\n",
    "\n",
    "Si_inactive = morris_analyze(SPEC_WITH_INACTIVE, morris_w_inactive, morris_Y, print_to_console=False)"
=======
      "Wall time: 75.4 ms\n"
     ]
    }
   ],
   "source": [
    "%%time\n",
    "# Generate samples\n",
    "rbd_fast_samples = latin.sample(SPEC_WITH_INACTIVE, 1000, seed=seed_value)\n",
    "\n",
    "Y = Ishigami.evaluate(param_values)\n",
    "\n",
    "Si = rbd_fast.analyze(SPEC_WITH_INACTIVE, Y, rbd_fast_samples, print_to_console=False)"
>>>>>>> Stashed changes:notebooks/FAST.ipynb
   ]
  },
  {
   "cell_type": "code",
<<<<<<< Updated upstream:notebooks/2 GSA with inactive parameter.ipynb
   "execution_count": 18,
   "metadata": {
    "scrolled": true
   },
   "outputs": [
    {
     "data": {
      "text/html": [
       "<div>\n",
       "<style scoped>\n",
       "    .dataframe tbody tr th:only-of-type {\n",
       "        vertical-align: middle;\n",
       "    }\n",
       "\n",
       "    .dataframe tbody tr th {\n",
       "        vertical-align: top;\n",
       "    }\n",
       "\n",
       "    .dataframe thead th {\n",
       "        text-align: right;\n",
       "    }\n",
       "</style>\n",
       "<table border=\"1\" class=\"dataframe\">\n",
       "  <thead>\n",
       "    <tr style=\"text-align: right;\">\n",
       "      <th></th>\n",
       "      <th>mu</th>\n",
       "      <th>mu_star</th>\n",
       "      <th>sigma</th>\n",
       "      <th>mu_star_conf</th>\n",
       "    </tr>\n",
       "  </thead>\n",
       "  <tbody>\n",
       "    <tr>\n",
       "      <th>x1</th>\n",
       "      <td>7.6791</td>\n",
       "      <td>7.6791</td>\n",
       "      <td>6.2550</td>\n",
       "      <td>0.5375</td>\n",
       "    </tr>\n",
       "    <tr>\n",
       "      <th>x2</th>\n",
       "      <td>-0.1260</td>\n",
       "      <td>7.8750</td>\n",
       "      <td>7.8819</td>\n",
       "      <td>0.0000</td>\n",
       "    </tr>\n",
       "    <tr>\n",
       "      <th>x3</th>\n",
       "      <td>-0.2999</td>\n",
       "      <td>6.1488</td>\n",
       "      <td>8.7698</td>\n",
       "      <td>0.5190</td>\n",
       "    </tr>\n",
       "    <tr>\n",
       "      <th>x4</th>\n",
       "      <td>0.0000</td>\n",
       "      <td>0.0000</td>\n",
       "      <td>0.0000</td>\n",
       "      <td>0.0000</td>\n",
       "    </tr>\n",
       "  </tbody>\n",
       "</table>\n",
       "</div>"
      ],
      "text/plain": [
       "        mu  mu_star   sigma  mu_star_conf\n",
       "x1  7.6791   7.6791  6.2550        0.5375\n",
       "x2 -0.1260   7.8750  7.8819        0.0000\n",
       "x3 -0.2999   6.1488  8.7698        0.5190\n",
       "x4  0.0000   0.0000  0.0000        0.0000"
      ]
     },
     "execution_count": 18,
     "metadata": {},
     "output_type": "execute_result"
    }
   ],
   "source": [
    "Si_df = Si_inactive.to_df()\n",
    "\n",
    "Si_df.round(4)"
=======
   "execution_count": 16,
   "metadata": {},
   "outputs": [],
   "source": [
    "first = Si.to_df()"
>>>>>>> Stashed changes:notebooks/FAST.ipynb
   ]
  },
  {
   "cell_type": "code",
<<<<<<< Updated upstream:notebooks/2 GSA with inactive parameter.ipynb
   "execution_count": 20,
   "metadata": {},
   "outputs": [
    {
     "name": "stdout",
     "output_type": "stream",
     "text": [
      "107 ms ± 3.15 ms per loop (mean ± std. dev. of 7 runs, 10 loops each)\n"
     ]
    }
   ],
   "source": [
    "%%timeit\n",
    "morris_w_inactive = morris_sample(SPEC_WITH_INACTIVE, 500)\n",
    "morris_Y = Ishigami.evaluate(morris_w_inactive)\n",
    "Si_inactive = morris_analyze(SPEC_WITH_INACTIVE, morris_w_inactive, morris_Y, print_to_console=False)"
=======
   "execution_count": 17,
   "metadata": {},
   "outputs": [
    {
     "data": {
      "text/html": [
       "<div>\n",
       "<style scoped>\n",
       "    .dataframe tbody tr th:only-of-type {\n",
       "        vertical-align: middle;\n",
       "    }\n",
       "\n",
       "    .dataframe tbody tr th {\n",
       "        vertical-align: top;\n",
       "    }\n",
       "\n",
       "    .dataframe thead th {\n",
       "        text-align: right;\n",
       "    }\n",
       "</style>\n",
       "<table border=\"1\" class=\"dataframe\">\n",
       "  <thead>\n",
       "    <tr style=\"text-align: right;\">\n",
       "      <th></th>\n",
       "      <th>S1</th>\n",
       "    </tr>\n",
       "  </thead>\n",
       "  <tbody>\n",
       "    <tr>\n",
       "      <th>x1</th>\n",
       "      <td>0.040104</td>\n",
       "    </tr>\n",
       "    <tr>\n",
       "      <th>x2</th>\n",
       "      <td>0.010010</td>\n",
       "    </tr>\n",
       "    <tr>\n",
       "      <th>x3</th>\n",
       "      <td>0.024108</td>\n",
       "    </tr>\n",
       "    <tr>\n",
       "      <th>x4</th>\n",
       "      <td>0.014228</td>\n",
       "    </tr>\n",
       "  </tbody>\n",
       "</table>\n",
       "</div>"
      ],
      "text/plain": [
       "          S1\n",
       "x1  0.040104\n",
       "x2  0.010010\n",
       "x3  0.024108\n",
       "x4  0.014228"
      ]
     },
     "execution_count": 17,
     "metadata": {},
     "output_type": "execute_result"
    }
   ],
   "source": [
    "first"
>>>>>>> Stashed changes:notebooks/FAST.ipynb
   ]
  },
  {
   "cell_type": "markdown",
   "metadata": {},
   "source": [
<<<<<<< Updated upstream:notebooks/2 GSA with inactive parameter.ipynb
    "<hr>"
=======
    "Lake Problem"
>>>>>>> Stashed changes:notebooks/FAST.ipynb
   ]
  },
  {
   "cell_type": "code",
<<<<<<< Updated upstream:notebooks/2 GSA with inactive parameter.ipynb
   "execution_count": 33,
   "metadata": {},
   "outputs": [
    {
     "data": {
      "text/plain": [
       "<matplotlib.axes._subplots.AxesSubplot at 0x1fb0c086b70>"
      ]
     },
     "execution_count": 33,
     "metadata": {},
     "output_type": "execute_result"
    },
    {
     "data": {
      "image/png": "iVBORw0KGgoAAAANSUhEUgAAA7MAAAF7CAYAAAAAOtyfAAAABHNCSVQICAgIfAhkiAAAAAlwSFlzAAALEgAACxIB0t1+/AAAADl0RVh0U29mdHdhcmUAbWF0cGxvdGxpYiB2ZXJzaW9uIDMuMC4zLCBodHRwOi8vbWF0cGxvdGxpYi5vcmcvnQurowAAIABJREFUeJzt3WmcXlWdL/pfVQoIZIY0whEBCfZiaBARLLQZRPoin3s9Yp9jt3gUGeSDNBxbsRXxYJRBEQgoU4u2gDQoQotMYqtMotI0XNPAQVpYBwHJjR1oDJCBISRU3RdVxKSYktSuPNmp7/fNrmft/az1ryS78vxq7b12V39/fwAAAKBNujtdAAAAAKwsYRYAAIDWEWYBAABoHWEWAACA1hFmAQAAaB1hFgAAgNYRZgEAAGgdYRYAAIDWEWYBAABoHWEWAACA1hFmAQAAaB1hFgAAgNYRZgEAAGgdYRYAAIDW6el0AS+nlLIkA0F7fqdrAQAAoHETk/TVWlc5k66RYTYDQbZrwoQJkzpdCAAAAM1asGBBMswrhdfUMDt/woQJk2bOnNnpOgAAAGjYLrvskgULFgzrSlz3zAIAANA6wiwAAACts9JhtpSyUyllcSlls1c55muDizgBAABA41YqzJZSSpLr8ir32pZS9kzyt8OsCwAAAF7RCi0AVUrpSXJ4klOSLH6V48Yl+XaS/0iyaRMFAgAAwFAruprx7klOSzIjye+TfOsVjjs9yaNJbkryv4ZdHQAAsFZ7+umnM3/+/CxZsiR9fX2dLodh6O7uTk9PTyZOnJhx48aN/HgreNx9SbaqtZ6Q5GXvhS2l/F9JPpLkkCT+FQIAAK+or68vs2fPzqxZszJ//vwsXvyKF4DSEosXL878+fMza9aszJ49e8R/ObFCM7O11sdebX8pZVKSC5J8odb6fwZurQUAAHh58+bNy4IFCzJ16tRstNFG6e72oJW1QV9fX+bOnZs//OEPmTdvXqZMmTJiYzX1L+bMJLOTfK2h/gAAgLXYwoULs+6662bq1KmC7Fqku7s7U6dOzbrrrpuFCxeO6Fgres/sKyqlvCfJAUl2SdJdSunOYEgeXDiqr9bqsmMAAGCpvr6+9PT0pKurq9Ol0LCurq709PSsGZcZv4b3Jxmb5N6X2bc4yQlJjm9gHAAAAEjSTJg9Psm5Q9oOT3Jokt0y8JgeAAAAaMyww2yt9XdJfrds2+Clx6m1zhxu/wAAADBUEzOzsNTs2bOzzz77JEluuummbLbZZh2uCACANpr/7OL8Zs78jo2/3aYTM3H9dTo2Pq9tpcNsrfWiJBe9xjHHx32yAADAKvrNnPk54B9u79j4lx2+W3bbaqOOjc9rswY2AAAArSPMAgAANOhd73pXvv71r+ekk07K2972tuyyyy458cQT8+yzz+bUU09Nb29vent7c9xxx2XRokW54447UkrJzJnLLzl04IEH5uCDD+7MN9EC7pkFAABo2Pnnn5+99947Z511Vm699dacf/75ue2227LNNtvk9NNPz8yZM/ONb3wj06ZNy/bbb9/pcltJmAUAAGjYlClTMmPGjHR3d6e3tzeXX355Fi9enNNPPz09PT3ZY489cvPNN+fuu+8WZleRMAsAANCwHXbYId3dA3d1dnd3Z8qUKdluu+3S0/PHCDZ58uTMn9+5FZvbzj2zAAAADRs3btxL2tZff/0OVLL2EmYBAAA6qKurK0nS19e3XPvTTz/diXJaQ5gFAADooPHjxydJ5syZs7Rt3rx5efDBBztVUiu4ZxYAAFjjbLfpxFx2+G4dHX91KaVk0003zTnnnLP08uRvfvObLkt+DcIsAACwxpm4/jrZbauNOl3GajFmzJicffbZOfnkk3P00Udn6tSpOeigg/LQQw9l1qxZnS5vjSXMAgAANOjmm29+SdsNN9zwkrZLLrlk6dc77rhjLrvsshGta23jnlkAAABaR5gFAACgdYRZAAAAWkeYBQAAoHWEWQAAAFpHmAUAAKB1hFkAAABaR5gFAACgdYRZAAAAWkeYBQAAoHV6Ol0AAADASzz3VPLorzs3/iY7JGMnd278Edbf35+urq5OlzEswiwAALDmefTXyUXv6dz4B1+XbLlH58YfIY899li+8IUvZPr06dlss806Xc6wuMwYAABglLj99ttzyy23dLqMRgizAAAAtI4wCwAA0KB3vetd+frXv56TTjopb3vb27LLLrvkxBNPzLPPPptTTz01vb296e3tzXHHHZdFixbljjvuSCklM2fOXK6fAw88MAcffPBKjT1r1qwcccQR6e3tzZvf/OZ84AMfyM9//vMkyZVXXpljjjkmSbLPPvvk2GOPTZI888wzmTFjRvbdd9/82Z/9WXbeeed89KMfzf3337+032OPPTaHHnpopk+fnre+9a054IAD0t/fP4w/peFzzywAAEDDzj///Oy9994566yzcuutt+b888/Pbbfdlm222Sann356Zs6cmW984xuZNm1att9++0bG7Ovry8c+9rFsvPHGOe2009LT05OLL744f/M3f5Of/OQneec735mPf/zjOeecc3LuueemlJIkOeaYY3LXXXflU5/6VN7whjfkkUceyVlnnZVPf/rT+eEPf7h0oag77rgju+22W84999w899xzHV9ASpgFAABo2JQpUzJjxox0d3ent7c3l19+eRYvXpzTTz89PT092WOPPXLzzTfn7rvvbizMzp07Nw899FCOPPLI7LXXXkmSHXfcMeeee24WLVqUzTffPG94wxuSJNtuu20222yzLFq0KM8++2ymT5+e/fbbL0nytre9LQsXLswpp5ySJ598MhtuuGGSZMmSJTnhhBPWmIWjhFkAAICG7bDDDunuHrirs7u7O1OmTMl2222Xnp4/RrDJkydn/vz5jY05derUbL311pk+fXpuvfXW7L777tlzzz3zuc997hXfs9566+WCCy5IMrDS8cMPP5zf/e53+dnPfpYkWbx48dJjN9hggzUmyCbCLAAAQOPGjRv3krb1119/RMfs6urKhRdemPPOOy833HBDrr766qyzzjr5i7/4i5xwwgmZNGnSy77vl7/8ZU4++eQ89NBDGTduXLbZZptssMEGSbLcfbFTp04d0fpXlgWgAAAAOujFe0/7+vqWa3/66adXuq/Xve51Of7443Prrbfm6quvzkc/+tFcf/31Ofvss1/2+FmzZuWoo47KdtttlxtvvDF33nlnLr300uy9994r/42sZsIsAABAB40fPz5JMmfOnKVt8+bNy4MPPrhS/dxzzz15xzvekXvuuSddXV3Zdtttc/TRR+dP//RPl/Y9ZsyY5d5z7733ZtGiRTniiCOW3k+bDMzWJi8N2GuSlb7MuJSyU5JfJXljrXX2Mu1/leSYJNskeSrJjUk+W2v9z4ZqBQAARotNdkgOvq6z468mpZRsuummOeecc5ZenvzNb35zpS9LfvHy4GOOOSYf//jHM3Xq1Nx222257777csghhyRJJkyYkCS54YYbsueee2b77bdPT09PZsyYkYMPPjiLFi3KlVdemVtuuSVJ8uyzzzb3jTZspcJsGVi7+bqh7yulfCDJZUm+meS4JJsmOTHJjaWUXWuti5opFwAAGBXGTk623KPTVawWY8aMydlnn52TTz45Rx99dKZOnZqDDjooDz30UGbNmrXC/ay77rq54IILcsYZZ+TLX/5y5s+fny233DInnXRS9t9//yTJbrvtlr333jtnnHFG7rjjjnzjG9/IGWeckXPPPTdHHHFEJk2alJ122imXXHJJDjzwwMycOTPTpk0bqW99WLpW5EG3pZSeJIcnOSXJ4iQbJnnDizOzpZS7k/y+1vr/LPOe3iS3J/nLWuvVK1NUKeWpCRMmTBr60GDWfLNnz84+++yTJLnpppvWqNXOAABYczzyyCNJki222KLDlTASXuvvd5dddsmCBQvm1Vonr+oYKzozu3uS05LMSPL7JN96cUcppSsDlxT/csh77h/crpkxHgAAoAX6+/vzwgsvvOZxY8aMWbqY1GiwomH2viRb1Vr/s5Ry8LI7aq39ST79Mu953+D231e9PAAAgNHtqquuetVnxb7o4osvTm9v72qoaM2wQmG21vrYynRaSpmW5PQkdya5fhXqAgAAIMnee++dK6644jWPe+Mb37gaqllzrPRqxq+llLJNBgLskiR/XWtdc9dyBgAAWMNNmTIlU6ZM6XQZa5xGnzNbSnlnktsGX+5da125ByMBAADACmgszA4+nuenSWYneXut9f7XeAsAAACskkbCbCnl3Um+k+Rfk+xea/19E/0CAADAyxn2PbOllPWSXJBkYZIvJ9mulLLsIf+fcAsAAECTmlgAqjfJ6we/frmVi6cn+VID4wAAAECSVQiztdaLkly0zOtfJBk9T+YFAACg4xp/NA8AAMBwzX9+fuoTtWPjlw1LJq47cUT6PvbYY/Nv//ZvueGGG0ak/9FCmAUAANY49YmaQ396aMfGv/DdF2bXTXYdkb6PPPLIPP300yPS92gizAIAAKxGm2++eadLWCsIswAAAA279957M2PGjNx7773p6+vLm9/85nzyk5/MTjvt9JLLjJ9//vl89atfzXXXXZeFCxdmr732ylve8pZ85StfSa0Dl1ofeOCBmTZtWjbaaKNcdtlleeaZZ/LOd74zJ510Ui699NJccskleeaZZ/KOd7wjJ554YqZMmZIkeeKJJ3LWWWflF7/4RR5//PFssMEG6e3tzbHHHpvXv/71r1h/GwizAAAADVq4cGEOO+yw7LbbbjnnnHPy/PPP57zzzsthhx2WW2655SXHT58+PT/5yU/yyU9+MltttVUuu+yynHHGGS857tprr81OO+2UU089NQ888EBOOeWU3Hfffdl4443zpS99KQ8//HBOO+20bLzxxpk+fXr6+/tz2GGH5emnn86nP/3pTJ06NbXWnHnmmTn++OPzrW99azX8aYwcYRYAAKBBv/3tb/Pkk0/mIx/5SHbeeeckyVZbbZXLL7/8JffKzpo1K9dcc02mT5+eD33oQ0mSPfbYI+9973vzwAMPLHdsf39/zj777IwfPz677757rrzyyvz+97/P97///UyYMCF77bVXbr/99tx1111Jksceeyzjxo3L5z//+aV19Pb2ZtasWbniiitG+o9hxAmzAAAADXrTm96UDTfcMEcccUT222+/7LHHHvnzP//zfOYzn3nJsXfccUf6+/uz7777Lm3r7u7Ofvvt95Iwu/XWW2f8+PFLX2+00UZZb731MmHChKVtkydPzoMPPpgk2WSTTXLJJZekv78/s2fPziOPPJKHHnood955ZxYvXtz0t73aCbMAAAANGjduXL773e/mvPPOy49//ONcfvnlGTt2bPbff/98/vOfX+7YJ554Ikmy4YYbLtc+derUl+13qPXXX/9Va7n22mvz1a9+NXPmzMnkyZOz7bbbZuzYsenv71/Zb2uNI8wCAAA0bKuttsqMGTPywgsv5J577sk111yT733ve9lyyy2XO+51r3tdkmTu3LnZeOONl7bPnTt32DXMnDkzn/3sZ3PQQQflkEMOWTrWaaedlrvvvnvY/Xdad6cLAAAAWJvccMMN2W233fL4449nzJgxectb3pLjjz8+EydOzJw5c5Y7duedd86YMWNy0003Ldc+9PWquOuuu9LX15ePf/zjS4PsCy+8kNtuuy19fX3D7r/TzMwCAABrnLJhyYXvvrCj46+qnXfeOf39/TnqqKNy+OGHZ9y4cfnxj3+chQsXZt99980PfvCDpcduvvnm2X///XPaaadl0aJFmTZtWq666qrcd9996erqGtb3sOOOOyZJTjrppLzvfe/LvHnz8t3vfjf3339/+vv789xzz2Xs2LHDGqOThFkAAGCNM3Hdidl1k107XcYq2WijjXLBBRfka1/7Wo477rg8++yzedOb3pRzzjknu+6663JhNkm++MUvZoMNNsh5552XRYsWZZ999skBBxyQa665Zlh19Pb25gtf+EK+/e1v50c/+lGmTp2a3t7enHvuuTnqqKMyc+bM7L777sMao5O61sQbf0spT02YMGHSzJkzO10KK2n27NnZZ599kgxcGrHZZpt1uCIAANZEjzzySJJkiy226HAlnfXUU0/ll7/8Zfbaa69MnDhxafsnPvGJzJo1K1dddVUHq1t1r/X3u8suu2TBggXzaq2TV3UMM7MAAAAdMnbs2Jx00km59tpr8+EPfzjrrbde/uVf/iXXX399vvzlL3e6vDWaMAsAANAhY8eOzQUXXJAzzzwzxxxzTJ577rlMmzYtp556at773vd2urw1mjALAADQQTvssEMuuOCCTpfROh7NAwAAQOsIswAAALSOMAsAAKx23d3dWbJkSdbEp6swPP39/VmyZEm6u0c2bgqzAADAajd+/Pg8//zzefzxx9PX19fpcmhIX19fHn/88Tz//PMZP378iI5lASgAAGC1mzRpUp555pnMnTs3Tz75ZNZZZ52MGTOm02UxDC+88EIWL16cvr6+TJw4MZMmTRrR8YRZAABgtevu7s7rX//6TJ48OfPnz8+SJUvM0LbcOuusk/XXXz+TJk3KBhtsMOLjCbMAAEDHjBs3LuPGjet0GbSQe2YBAABoHWEWAACA1hFmAQAAaB1hFgAAgNYRZgEAAGgdYRYAAIDWEWYBAABoHWEWAACA1hFmAQAAaB1hFgAAgNbpWdk3lFJ2SvKrJG+stc5epn3fJF9Osn2Sx5KcW2s9o6lC1zbzn12c38yZ3+kyltpliynpWTw/efTXw+vo0T/88evZv0qWPLzqfW2yQzJ28vDqAQAA1korFWZLKSXJdUPfV0p5x2D75UmmJ9k9yYxSSlet9fSGal2r/GbO/BzwD7d3uoyl7vnivpn42K+Ti94zvI4WjknyJwNfX/HRZPwLq97XwdclW+4xvHoAAIC10gqF2VJKT5LDk5ySZPHLHHJikjtrrQcOvv5JKWWdJMeVUs6ptS5qpFoAAADIit8zu3uS05KckeSzy+4opYxNsmeSHwx5zxVJJid5xzBrBAAAgOWsaJi9L8lWtdYTkiwZsm+rJOskqUPafzu4LateHgAAALzUCl1mXGt97FV2TxrcDl3NaMHgduLKFgUAAACvpolH83QNbvtfYX9fA2MAAADAUk2E2XmD26EzsBOH7AcAAIBGNBFmH0zyQpKth7S/+HrovbQAAAAwLMMOs7XW55L8Isl/K6V0LbPrv2dgVnbmcMcAAACAZa3QAlAr4EtJbkxyWSnlogw8juczSY6ttT7T0BgAAACQpJnLjFNrvTkDM7HbJrk6yYeSfKbWeloT/QMAAMCyVnpmttZ6UZKLXqb9qiRXDb8kAAAAeHWNzMwCAADA6iTMAgAA0DrCLAAAAK0jzAIAANA6wiwAAACtI8wCAADQOsIsAAAArSPMAgAA0DrCLAAAAK0jzAIAANA6wiwAAACtI8wCAADQOsIsAAAArSPMAgAA0DrCLAAAAK0jzAIAANA6wiwAAACtI8wCAADQOsIsAAAArSPMAgAA0DrCLADAKpo9e3ZKKSmlZPbs2Z0uB2BUEWYBAABoHWEWAACA1hFmAQAAaB1hFgAAgNYRZgEAAGgdYRYAAIDWEWYBAABoHWEWAACA1hFmAQAAaJ2eThcAAMAfzX9+fuoTtdNlLFU2LJm47sROlwHwEsIsAMAapD5Rc+hPD+10GUtd+O4Ls+smu3a6DICXaDTMllKOSPKJJJsneTDJqbXW7zY5BgAAADR2z2wp5fAk5yX5UZL9k9yY5DullL9qagwAAABImp2ZPTjJz2qtnx58fWMpZZckRyb5foPjADDC1rR79hL37QEAy2syzI5N8viQtrlJpjU4BgCrwZp2z17ivj0AYHlNhtmzknxr8LLinybZN8l7kvyvBscAAACARsPs95K8K8k/LdP2j7XWGQ2OAQAAAM0tAJXk2iR/meRTSd6Z5LNJ3l9KObvBMQAAAKCZmdlSyjuSvDvJIbXWiwabf15KeSrJN0sp36q1/rqJsQAAAKCpy4y3GNz+y5D2Xwxut0sizAK8nOeeSh5dg35Ebv72TlcAAPCamgqzLz6/Yc8kDyzT/uInot81NA7A2ufRXycXvafTVfzRsY90ugIAgNfUSJittd5ZSrk6yZmllIlJ7kqyS5IvJPlxrfWOJsYBAACApNnVjA9I8sUkRyfZOAOzsacnObXBMQAAAKC5MFtrXZSBZ8p6riwAAAAjqslH8wAAAMBqIcwCAADQOsIsAAAArSPMAgAA0DrCLAAAAK0jzAIAANA6wiwAAACtI8wCAADQOsIsAAAArSPMAgAA0DrCLAAAAK0jzAIAANA6wiwAAACtI8wCAADQOsIsAAAArSPMAgAA0DrCLAAAAK0jzAIAANA6wiwAAACtI8wCAADQOsIsAAAArSPMAgAA0DrCLAAAAK3T0+kCWLtsNv6F1A8+2ukyAACAtZyZWQAAAFpHmAUAAKB1hFkAAABaR5gFAACgdYRZAAAAWkeYBQAAoHWEWQAAAFpHmAUAAKB1eprsrJSyZ5KTk+yc5KkkP0jyuVrrwibHAQAAYHRrbGa2lLJbkhuSPJrkvUlOTPLhJOc3NQYAAAAkzc7Mnprk9iR/VWvtT3JjKWVMkk+VUjaotT7T4FgAAACMYo2E2VLK1CR7JPkfg0E2SVJr/fskf9/EGIxCG27V6QoAAIA1VFMzszsk6UryRCnl8iTvSbIkyaVJPlVrfbahcRhN1h2X+c/PT32idrqSpcqGJRPXndjpMgAAYNRrKsz+yeD2oiRXJfmvSd6c5EtJ1k9ycEPjMMrUJ2oO/emhnS5jqQvffWF23WTXTpcBAACjXlNhdt3B7W211qMGv765lNKV5PRSyom11ocaGgsAAIBRrqnVjBcMbv95SPtPM3D58Q4NjQMAAACNhdkHBrfrDWl/cca2PwAAANCQpsLsfUkeSXLAkPYXF4L614bGAQAAgGbuma219pdSPpvke6WU72RgIai3Jvl8krNrrY83MQ4AAAAkzc3MptZ6eZL/lmS7JNclOSrJiUk+09QYAAAAkDS3mnGSpNZ6dZKrm+wTAAAAhmpsZhYAAABWF2EWAACA1hFmAQAAaB1hFgAAgNYRZgEAAGgdYRYAAIDWEWYBAABoHWEWAACA1hFmAQAAaB1hFgAAgNYRZgEAAGgdYRYAAIDWEWYBAABoHWEWAACA1hFmAQAAaJ2eThcAANARzz2VPPrr4fXx6B/++PXsXyVLHh5ef5u/fXjvBxhFhFkAYHR69NfJRe8ZXh8LxyT5k4Gvr/hoMv6F4fV37CPDez/AKOIyYwAAAFpHmAUAAKB1hFkAAABaR5gFAACgdYRZAAAAWkeYBQAAoHWEWQAAAFpHmAUAAKB1hFkAAABaR5gFAACgdYRZAAAAWkeYBQAAoHWEWQAAAFpHmAUAAKB1hFkAAABaZ8TCbCnlylLKb0eqfwAAAEavEQmzpZQPJ/nLkegbAAAAGg+zpZT/kuTsJLOb7hsAAACSkZmZPT/J9UluGoG+AQAAoNkwW0o5LMlbk/zPJvsFAACAZTUWZkspWyT5apIja61/aKpfAAAAGKqRMFtK6UpyYZJ/rrX+oIk+AQAA4JX0NNTPUUl2TLJDKeXFPruSZPD1C7XW/obGAgAAYJRrKsy+P8nUJHNeZt/iJIckuaihsQAAABjlmgqzH0syYUjbF5PslIHnzT7c0DgAAADQTJittdahbaWUuUkW1VpnNjEGAAAAvGgknjMLAAAAI6qpy4xfotZ68Ej1DQAAwOhmZhYAAIDWEWYBAABoHWEWAACA1hFmAQAAaB1hFgAAgNYRZgEAAGgdYRYAAIDWEWYBAABoHWEWAACA1hFmAQAAaB1hFgAAgNYRZgEAAGgdYRYAAIDWEWYBAABoHWEWAACA1hFmAQAAaB1hFgAAgNYRZgEAAGgdYRYAAIDWEWYBAABoHWEWAACA1hFmAQAAaB1hFgAAgNYRZgEAAGgdYRYAAIDWEWYBAABoHWEWAACA1hFmAQAAaB1hFgAAgNYRZgEAAGgdYRYAAIDWEWYBAABonZ6mOiqldCc5PMmRSbZK8liSa5J8sda6oKlxAAAAoMmZ2WOSnJvkR0nel+SMJAcl+X6DYwAAAEAzM7OllK4MhNlv1lo/N9h8YyllbpLLSik71VrvbmIsAAAAaGpmdkKS7yS5dEj7/YPbaQ2NAwAAAM3MzNZa5yf525fZ9b7B7b83MQ4AAAAkI7iacSmlN8mxSa6utd7/WscDAADAihqRMFtK+fMkP0nycJLDRmIMAAAARq/Gw2wp5QNJbkwyK8k+tda5TY8BAADA6NZomC2lfCrJ95L8a5I9a61zmuwfAAAAkgbDbCnloxl4tuw/Jdmv1jqvqb4BAABgWU09Z3bjJGcneSTJuUl2LqUse8hva61/aGIsAAAAaCTMJtkvyQZJtkjyy5fZf2AGnkMLAAAAw9bUc2YvTnJxE30BAADAaxmx58wCAADASBFmAQAAaJ2m7pkFaIX5zy7Ob+bM73QZS+2yxRQ/iAEAVoHPUMCo8ps583PAP9ze6TKWuueL+2Zip4sAAGghlxkDAADQOsIsAAAArSPMAgAA0DrCLAAAAK0jzAIAANA6wiwAAACt49E8AACraLPxL6R+8NFOlwEwKpmZBQAAoHWEWQAAAFpHmAUAAKB1hFkAAABaR5gFAACgdYRZAAAAWkeYBQAAoHWEWQAAAFpHmAUAAKB1hFkAAABaR5gFAACgdYRZAAAAWkeYBQAAoHWEWQAAAFpHmAUAAKB1hFkAAABaR5gFAACgdYRZAAAAWkeYBQAAoHWEWQAAAFpHmAUAAKB1eprsrJTywSSfT7JVkt8l+Uqt9eImxwAAAIDGZmZLKX+V5LtJrk/yviS3JPnHUsr7mxoDAAAAkmZnZr+S5J9qrUcPvv5pKWXDJCcluaLBcQAAABjlGpmZLaVslWRakh8M2XVFkm1KKW9sYhwAAABImrvMeJvBbR3S/tvBbWloHAAAAEhXf3//sDsZXPjp0iRvrLX+bpn2rZM8kOQDtdZ/Won++pJ0TZgwYdi1ran6+5O+Bv5NY5/nAAAF8UlEQVTsmzKmuytJf9L3QqdL+aPunvSnP339fZ2uZKnuru50pavTZTAMzr0VsAaee4nzj5Gwhp17yRp5/jn3gJGwYMGCJOmvta7yBGtT98y++BNu6CfEF9tX9idyX5LuBQsWzB9WVQAAAKyJJmblc+Jymgqz8wa3E4e0Txiyf4XUWht9ZBAAAABrl6bumX3xXtmth7RvPWQ/AAAADFsjYbbW+tskDycZ+kzZ/57kgVrrrCbGAQAAgKTZ58yemOTbpZQnk1yX5L1J/jrJAQ2OAQAAAM2sZvyiUsrHknw6yRuSPJTkK7XWSxobAAAAANJwmAUAAIDVoakFoAAAAGC1EWYBAABoHWEWAACA1hFmAQAAaB1hFgAAgNYRZgEAAGgdYRYAAIDWEWYBAABonZ5OFwDAyimlTElyYJJpSe5N8p1a67NDjnljks/VWg/vQImw1iqlrJtknVrr04OvN05ySJLXJ7knycW11uc7WCKMGqWUriQXJDm+1jqr0/Ww+nX19/d3ugYAVtBgSP1lkk2SzEsyJcmsJO+vtc5c5rjeJLfVWsd0pFBYy5RSepKcmeSwDEwGXJrkuCR3JHldkieSbJTkfyd5Z611XodKhbVKKeW/vMruniQPJ/m/k/w6SWqt/7E66mLNYGaWlVZK+R8rc3yt9dKRqgVGoRkZ+NC8a611TillryTfSnJTKeXdtdbbO1serLWOS/KRJF9JsjjJ3yV5e5Ink7y91vpIKWXnJNcOHnNkpwqFtczsJK82+9aV5J+Xee2XuKOIMMuq+FKSLQa/7nqNY/sz8NtroBl/nuR/1lrnJEmt9eellLcn+VmS60opu9da7+9ohbB2OiTJZ2ut5yVJKeX+JN9P8te11keSpNZ6Zynl+CQnRZiFphyd5OQkf0hySpJnltk3Jsn5SU5M8rvVXhkdJ8yyKnbMwG+ed0iyXwZ+uACrx3pJnl62odY6t5Ty7iS3J/lxKWW3jlQGa7epSeoyr2/IwC905w457uEk41dXUbC2q7WeVUr55yT/mORTSQ6ptd6aJKWUF8PsD2utd3awTDpEmGWl1VoXllL2TzIzySdqrR/pdE0wityT5NAkP1m2cfCS4/dk4H7a65Oc0IHaYG12bwYuM745SWqtC0opU5MMXezpg0n+fTXXBmu1WusDpZTdk3wmyfWllH9IcmwGLvlnFLMAFKuslLJvkh8n2aHW+ptO1wOjQSnlXUl+moEPy2fWWi8asn+vJNclWScDK666dwgaMHj1ww8zEGo/WGutQ/a/NQP3tO+V5H211h+u/iph7VdK2T7JRUkmJzk8yY0ZWEfCzOwo5DmzrLJa6/W11jGvFmQHl0wHGlJrvTkDH5YfzsCKxkP3/zzJ7hmYwQUaUmv9aZK/SPL7LH/P3ou2zMClyH+dgV8oASOg1vrvSXZL8p0MTKos5XPn6CPMMiyllNNLKeu8wr4/TXLrai4J1nq11ttqrX+ZZOrLnX+11v+dgefQ/m511wZrs1rrL2qt/zXJJ4aee7XWH9Rad8zAzK3/+2AEvPi5s9b6Qq31hAysKH5ikv/wuXN0EmYZro8n+VUp5c9ebCildJVS/i7J3Rn4TTUwMl7t/LszydiOVQZrt9c697bsVGGwllvu3Ku13pWBMPuh+Nw5KgmzDFdvBlZz/FUp5e9KKdsmuS3JaUkuTrJdJ4uDtdyrnX+XxPkHI8W5B53hcyfLsQAUwzZ4qdX0JJ/LwC9I/k8Glk2/vaOFwSjg/IPOcO5BZzj3WJaZWZqwWZK3ZuDB1f+Z5A1J3lFK8e8LRp7zDzrDuQed4dxjKX/pDEsp5XMZWOziLUn2T7JFkr9PcmqS/7eU8pYOlgdrNecfdIZzDzrDucdQLjNmWEopfUm+m+Rva61PLtPem+TbSbauta7bqfpgbeb8g85w7kFnOPcYqqfTBdB676u1Xju0sdZ6x+Bvx07sQE0wWjj/oDOce9AZzj2WY2YWAACA1nHPLAAAAK0jzAIAANA6wiwAAACtI8wCAADQOsIsAAAArfP/A43VIAtOCVhdAAAAAElFTkSuQmCC\n",
      "text/plain": [
       "<Figure size 1152x432 with 1 Axes>"
      ]
     },
     "metadata": {
      "needs_background": "light"
     },
     "output_type": "display_data"
    }
   ],
   "source": [
    "morris_w_inactive = morris_sample(SPEC_WITH_INACTIVE, 10)\n",
    "morris_Y = Ishigami.evaluate(morris_w_inactive)\n",
    "Si_inactive = morris_analyze(SPEC_WITH_INACTIVE, morris_w_inactive, morris_Y, print_to_console=False)\n",
    "Si_inactive.plot()"
=======
   "execution_count": 41,
   "metadata": {},
   "outputs": [
    {
     "name": "stdout",
     "output_type": "stream",
     "text": [
      "Wall time: 8.97 ms\n"
     ]
    }
   ],
   "source": [
    "%%time\n",
    "# Generate samples\n",
    "rbd_fast_samples = latin.sample(LAKE_SPEC, 360, seed=seed_value)\n",
    "\n",
    "Y = lake_problem(rbd_fast_samples)\n",
    "\n",
    "Si = rbd_fast.analyze(LAKE_SPEC, Y, rbd_fast_samples, print_to_console=False)"
>>>>>>> Stashed changes:notebooks/FAST.ipynb
   ]
  },
  {
   "cell_type": "code",
<<<<<<< Updated upstream:notebooks/2 GSA with inactive parameter.ipynb
   "execution_count": 64,
=======
   "execution_count": 42,
>>>>>>> Stashed changes:notebooks/FAST.ipynb
   "metadata": {},
   "outputs": [
    {
     "data": {
<<<<<<< Updated upstream:notebooks/2 GSA with inactive parameter.ipynb
      "text/plain": [
       "<matplotlib.axes._subplots.AxesSubplot at 0x1fb116be5f8>"
      ]
     },
     "execution_count": 64,
     "metadata": {},
     "output_type": "execute_result"
    },
    {
     "data": {
      "image/png": "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\n",
      "text/plain": [
       "<Figure size 1152x432 with 1 Axes>"
      ]
     },
     "metadata": {
      "needs_background": "light"
     },
     "output_type": "display_data"
    }
   ],
   "source": [
    "morris_w_inactive = morris_sample(SPEC_WITH_INACTIVE, 3)\n",
    "morris_Y = Ishigami.evaluate(morris_w_inactive)\n",
    "Si_inactive = morris_analyze(SPEC_WITH_INACTIVE, morris_w_inactive, morris_Y, print_to_console=False)\n",
    "Si_inactive.plot()"
=======
      "text/html": [
       "<div>\n",
       "<style scoped>\n",
       "    .dataframe tbody tr th:only-of-type {\n",
       "        vertical-align: middle;\n",
       "    }\n",
       "\n",
       "    .dataframe tbody tr th {\n",
       "        vertical-align: top;\n",
       "    }\n",
       "\n",
       "    .dataframe thead th {\n",
       "        text-align: right;\n",
       "    }\n",
       "</style>\n",
       "<table border=\"1\" class=\"dataframe\">\n",
       "  <thead>\n",
       "    <tr style=\"text-align: right;\">\n",
       "      <th></th>\n",
       "      <th>S1</th>\n",
       "    </tr>\n",
       "  </thead>\n",
       "  <tbody>\n",
       "    <tr>\n",
       "      <th>X</th>\n",
       "      <td>0.021152</td>\n",
       "    </tr>\n",
       "    <tr>\n",
       "      <th>alpha</th>\n",
       "      <td>0.023516</td>\n",
       "    </tr>\n",
       "    <tr>\n",
       "      <th>Y</th>\n",
       "      <td>0.021125</td>\n",
       "    </tr>\n",
       "    <tr>\n",
       "      <th>q</th>\n",
       "      <td>0.005766</td>\n",
       "    </tr>\n",
       "    <tr>\n",
       "      <th>b</th>\n",
       "      <td>0.021382</td>\n",
       "    </tr>\n",
       "    <tr>\n",
       "      <th>x</th>\n",
       "      <td>0.018727</td>\n",
       "    </tr>\n",
       "  </tbody>\n",
       "</table>\n",
       "</div>"
      ],
      "text/plain": [
       "             S1\n",
       "X      0.021152\n",
       "alpha  0.023516\n",
       "Y      0.021125\n",
       "q      0.005766\n",
       "b      0.021382\n",
       "x      0.018727"
      ]
     },
     "execution_count": 42,
     "metadata": {},
     "output_type": "execute_result"
    }
   ],
   "source": [
    "Si.to_df()"
>>>>>>> Stashed changes:notebooks/FAST.ipynb
   ]
  },
  {
   "cell_type": "code",
<<<<<<< Updated upstream:notebooks/2 GSA with inactive parameter.ipynb
   "execution_count": 65,
   "metadata": {},
   "outputs": [
    {
     "data": {
      "text/plain": [
       "{'names': ['x1', 'x2', 'x3', 'x4'],\n",
       " 'mu': array([5.62112208e+00, 2.62500000e+00, 4.44089210e-16, 0.00000000e+00]),\n",
       " 'mu_star': array([5.62112208e+00, 7.87500000e+00, 1.62227915e-15, 0.00000000e+00]),\n",
       " 'sigma': array([7.21548822e+00, 9.09326674e+00, 1.92741839e-15, 0.00000000e+00]),\n",
       " 'mu_star_conf': [6.680967401319204,\n",
       "  5.061338581177312e-15,\n",
       "  2.3042809729338227e-16,\n",
       "  0.0]}"
      ]
     },
     "execution_count": 65,
     "metadata": {},
     "output_type": "execute_result"
    }
   ],
   "source": [
    "Si_inactive"
   ]
  },
  {
   "cell_type": "code",
   "execution_count": 78,
   "metadata": {},
   "outputs": [
    {
     "data": {
      "text/plain": [
       "<matplotlib.axes._subplots.AxesSubplot at 0x1fb12e3ceb8>"
      ]
     },
     "execution_count": 78,
     "metadata": {},
     "output_type": "execute_result"
    },
    {
     "data": {
      "image/png": "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\n",
      "text/plain": [
       "<Figure size 1152x432 with 1 Axes>"
      ]
     },
     "metadata": {
      "needs_background": "light"
     },
     "output_type": "display_data"
    }
   ],
   "source": [
    "morris_w_inactive = morris_sample(SPEC_WITH_INACTIVE, 5)\n",
    "morris_Y = Ishigami.evaluate(morris_w_inactive)\n",
    "Si_inactive = morris_analyze(SPEC_WITH_INACTIVE, morris_w_inactive, morris_Y, print_to_console=False)\n",
    "Si_inactive.plot()"
   ]
  },
  {
   "cell_type": "code",
   "execution_count": 66,
   "metadata": {},
   "outputs": [
    {
     "name": "stdout",
     "output_type": "stream",
     "text": [
      "2.36 ms ± 79.7 µs per loop (mean ± std. dev. of 7 runs, 100 loops each)\n"
     ]
    }
   ],
   "source": [
    "%%timeit\n",
    "morris_w_inactive = morris_sample(SPEC_WITH_INACTIVE, 5)\n",
    "morris_Y = Ishigami.evaluate(morris_w_inactive)\n",
    "Si_inactive = morris_analyze(SPEC_WITH_INACTIVE, morris_w_inactive, morris_Y, print_to_console=False)"
=======
   "execution_count": null,
   "metadata": {},
   "outputs": [],
   "source": []
  },
  {
   "cell_type": "code",
   "execution_count": null,
   "metadata": {},
   "outputs": [],
   "source": []
  },
  {
   "cell_type": "code",
   "execution_count": null,
   "metadata": {},
   "outputs": [],
   "source": [
    "LARGE_INACTIVE_SPEC = {\n",
    "  'num_vars': 100,\n",
    "  'names': ['x{}'.format(i) for i in range(1, 101)],\n",
    "  'bounds': [[-np.pi, np.pi]]*100\n",
    "}\n",
    "\n",
    "fast_w_dummy_values = fast_sampler(LARGE_INACTIVE_SPEC, 80, seed=SEED_VALUE)\n",
    "Y = Ishigami.evaluate(fast_w_dummy_values)\n",
    "large_Si = fast_analyzer(LARGE_INACTIVE_SPEC, Y, print_to_console=False)\n",
    "results = large_Si.to_df()\n",
    "results.head()"
>>>>>>> Stashed changes:notebooks/FAST.ipynb
   ]
  },
  {
   "cell_type": "code",
   "execution_count": null,
   "metadata": {},
   "outputs": [],
   "source": [
    "(results.iloc[3:] == 0.0).all()"
   ]
  }
 ],
 "metadata": {
  "kernelspec": {
   "display_name": "Python (sa-comparison)",
   "language": "python",
   "name": "sa-comparison"
  },
  "language_info": {
   "codemirror_mode": {
    "name": "ipython",
    "version": 3
   },
   "file_extension": ".py",
   "mimetype": "text/x-python",
   "name": "python",
   "nbconvert_exporter": "python",
   "pygments_lexer": "ipython3",
<<<<<<< Updated upstream:notebooks/2 GSA with inactive parameter.ipynb
   "version": "3.6.7"
=======
   "version": "3.6.6"
>>>>>>> Stashed changes:notebooks/FAST.ipynb
  }
 },
 "nbformat": 4,
 "nbformat_minor": 2
}

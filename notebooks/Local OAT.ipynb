{
 "cells": [
  {
   "cell_type": "code",
   "execution_count": 1,
   "metadata": {},
   "outputs": [],
   "source": [
    "import numpy as np\n",
    "import itertools\n",
    "from SALib.test_functions import Ishigami\n",
    "\n",
    "def ishigami_wrapper(param_values):\n",
    "    strip_dummy_param = param_values[:, 0:3]\n",
    "    return Ishigami.evaluate(strip_dummy_param)"
   ]
  },
  {
   "cell_type": "code",
   "execution_count": 2,
   "metadata": {},
   "outputs": [],
   "source": [
    "problem_with_dummy = {\n",
    "  'num_vars': 4,\n",
    "  'names': ['x1', 'x2', 'x3', 'x4'],\n",
    "  'bounds': [[-np.pi, np.pi]]*4,\n",
    "  'nominal': [1.0,] * 4\n",
    "    \n",
    "}"
   ]
  },
  {
   "cell_type": "code",
   "execution_count": 16,
   "metadata": {},
   "outputs": [],
   "source": [
    "def oat_sample(problem):\n",
    "    bounds = problem.get('bounds')\n",
    "    nominal = problem.get('nominal')\n",
    "    num_vars = problem.get('num_vars')\n",
    "    \n",
    "    # get nominal\n",
    "    experiment = [nominal[:]]\n",
    "    \n",
    "    for i in range(num_vars):\n",
    "        min_val = bounds[i][0]\n",
    "        max_val = bounds[i][1]\n",
    "        \n",
    "        if i == 0:\n",
    "            experiment.append([min_val] + nominal[i+1:])  # min\n",
    "            experiment.append([max_val] + nominal[i+1:])  # max\n",
    "        else:\n",
    "            experiment.append(nominal[0:i] + [min_val] + nominal[i+1:])  # min\n",
    "            experiment.append(nominal[0:i] + [max_val] + nominal[i+1:])  # max\n",
    "    \n",
    "    return np.array(experiment)\n",
    "    \n",
    "    \n",
    "def oat_analyze(problem, inputs, results):\n",
    "    X = inputs\n",
    "    Y = results\n",
    "    \n",
    "    num_factors = inputs.shape[1]\n",
    "    num_results = Y.size  # skip the first one as it is the nominal value\n",
    "    nominal_values = problem.get('nominal')\n",
    "\n",
    "    # Set up result array\n",
    "    si_res = np.full(((Y.size - 1),), fill_value=np.nan)\n",
    "    \n",
    "    count = 0\n",
    "    for i in range(num_factors):\n",
    "        for h in range(1, num_results):\n",
    "            if X[h][i] == nominal_values[i]:\n",
    "                continue\n",
    "\n",
    "            si_res[count] = (Y[h] - Y[0]) / (X[h][i] - X[0][i])\n",
    "            count += 1\n",
    "        # End for\n",
    "    # End for\n",
    "    \n",
    "    return si_res\n",
    "    "
   ]
  },
  {
   "cell_type": "code",
   "execution_count": 17,
   "metadata": {},
   "outputs": [
    {
     "name": "stdout",
     "output_type": "stream",
     "text": [
      "Wall time: 0 ns\n"
     ]
    }
   ],
   "source": [
    "%%time\n",
    "samples = oat_sample(problem_with_dummy)"
   ]
  },
  {
   "cell_type": "code",
   "execution_count": 19,
   "metadata": {},
   "outputs": [
    {
     "name": "stdout",
     "output_type": "stream",
     "text": [
      "Wall time: 0 ns\n"
     ]
    }
   ],
   "source": [
    "%time\n",
    "Y = ishigami_wrapper(samples)"
   ]
  },
  {
   "cell_type": "code",
   "execution_count": 20,
   "metadata": {},
   "outputs": [
    {
     "data": {
      "text/plain": [
       "array([ 0.22349327, -0.43221015,  1.19676519, -2.31440555, -1.95879845,\n",
       "        3.7880898 , -0.        ,  0.        ])"
      ]
     },
     "execution_count": 20,
     "metadata": {},
     "output_type": "execute_result"
    }
   ],
   "source": [
    "%time\n",
    "oat_analyze(problem_with_dummy, samples, Y)"
   ]
  },
  {
   "cell_type": "code",
   "execution_count": null,
   "metadata": {},
   "outputs": [],
   "source": []
  },
  {
   "cell_type": "code",
   "execution_count": null,
   "metadata": {},
   "outputs": [],
   "source": []
  }
 ],
 "metadata": {
  "kernelspec": {
   "display_name": "Python (sa-comparison)",
   "language": "python",
   "name": "sa-comparison"
  },
  "language_info": {
   "codemirror_mode": {
    "name": "ipython",
    "version": 3
   },
   "file_extension": ".py",
   "mimetype": "text/x-python",
   "name": "python",
   "nbconvert_exporter": "python",
   "pygments_lexer": "ipython3",
   "version": "3.6.6"
  }
 },
 "nbformat": 4,
 "nbformat_minor": 2
}

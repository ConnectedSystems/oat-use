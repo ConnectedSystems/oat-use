{
 "cells": [
  {
   "cell_type": "code",
   "execution_count": 1,
   "metadata": {},
   "outputs": [],
   "source": [
    "import numpy as np\n",
    "import itertools\n",
    "from SALib.test_functions import Ishigami\n",
    "\n",
    "def ishigami_wrapper(param_values):\n",
    "    strip_dummy_param = param_values[:, 0:3]\n",
    "    return Ishigami.evaluate(strip_dummy_param)"
   ]
  },
  {
   "cell_type": "code",
   "execution_count": 2,
   "metadata": {},
   "outputs": [],
   "source": [
    "problem_with_dummy = {\n",
    "  'num_vars': 4,\n",
    "  'names': ['x1', 'x2', 'x3', 'x4'],\n",
    "  'bounds': [[-100.0, 100.0]]*4,\n",
    "  'nominal': [1.0,] * 4\n",
    "    \n",
    "}"
   ]
  },
  {
   "cell_type": "code",
   "execution_count": 3,
   "metadata": {},
   "outputs": [],
   "source": [
    "def oat_sample(problem):\n",
    "    bounds = problem.get('bounds')\n",
    "    nominal = problem.get('nominal')\n",
    "    num_vars = problem.get('num_vars')\n",
    "    \n",
    "    # get nominal\n",
    "    experiment = [nominal[:]]\n",
    "    \n",
    "    for i in range(num_vars):\n",
    "        min_val = bounds[i][0]\n",
    "        max_val = bounds[i][1]\n",
    "        \n",
    "        if i == 0:\n",
    "            experiment.append([min_val] + nominal[i+1:])  # min\n",
    "            experiment.append([max_val] + nominal[i+1:])  # max\n",
    "        else:\n",
    "            experiment.append(nominal[0:i] + [min_val] + nominal[i+1:])  # min\n",
    "            experiment.append(nominal[0:i] + [max_val] + nominal[i+1:])  # max\n",
    "    \n",
    "    return np.array(experiment)\n",
    "    \n",
    "    \n",
    "def oat_analyze(problem, samples, results):\n",
    "    X = samples\n",
    "    Y = results\n",
    "    "
   ]
  },
  {
   "cell_type": "code",
   "execution_count": 4,
   "metadata": {},
   "outputs": [],
   "source": [
    "samples = oat_sample(problem_with_dummy)"
   ]
  },
  {
   "cell_type": "code",
   "execution_count": 5,
   "metadata": {},
   "outputs": [
    {
     "data": {
      "text/plain": [
       "array([[   1.,    1.,    1.,    1.],\n",
       "       [-100.,    1.,    1.,    1.],\n",
       "       [ 100.,    1.,    1.,    1.],\n",
       "       [   1., -100.,    1.,    1.],\n",
       "       [   1.,  100.,    1.,    1.],\n",
       "       [   1.,    1., -100.,    1.],\n",
       "       [   1.,    1.,  100.,    1.],\n",
       "       [   1.,    1.,    1., -100.],\n",
       "       [   1.,    1.,    1.,  100.]])"
      ]
     },
     "execution_count": 5,
     "metadata": {},
     "output_type": "execute_result"
    }
   ],
   "source": [
    "samples"
   ]
  },
  {
   "cell_type": "code",
   "execution_count": 6,
   "metadata": {},
   "outputs": [
    {
     "name": "stdout",
     "output_type": "stream",
     "text": [
      "Wall time: 0 ns\n"
     ]
    }
   ],
   "source": [
    "%time\n",
    "Y = ishigami_wrapper(samples)"
   ]
  },
  {
   "cell_type": "code",
   "execution_count": 7,
   "metadata": {},
   "outputs": [
    {
     "data": {
      "text/plain": [
       "array([5.88213201e+00, 5.51351613e+00, 4.39951172e+00, 2.72046122e+00,\n",
       "       2.72046122e+00, 8.41471565e+06, 8.41471565e+06, 5.88213201e+00,\n",
       "       5.88213201e+00])"
      ]
     },
     "execution_count": 7,
     "metadata": {},
     "output_type": "execute_result"
    }
   ],
   "source": [
    "Y"
   ]
  },
  {
   "cell_type": "code",
   "execution_count": 9,
   "metadata": {},
   "outputs": [
    {
     "data": {
      "text/plain": [
       "0.0"
      ]
     },
     "execution_count": 9,
     "metadata": {},
     "output_type": "execute_result"
    }
   ],
   "source": [
    "(Y[8] - Y[0]) / (samples[8][3] - samples[0][3])"
   ]
  },
  {
   "cell_type": "code",
   "execution_count": null,
   "metadata": {},
   "outputs": [],
   "source": []
  }
 ],
 "metadata": {
  "kernelspec": {
   "display_name": "Python (sa-comparison)",
   "language": "python",
   "name": "sa-comparison"
  },
  "language_info": {
   "codemirror_mode": {
    "name": "ipython",
    "version": 3
   },
   "file_extension": ".py",
   "mimetype": "text/x-python",
   "name": "python",
   "nbconvert_exporter": "python",
   "pygments_lexer": "ipython3",
   "version": "3.7.1"
  }
 },
 "nbformat": 4,
 "nbformat_minor": 2
}

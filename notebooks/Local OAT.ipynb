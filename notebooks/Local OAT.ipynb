{
 "cells": [
  {
   "cell_type": "code",
   "execution_count": 1,
   "metadata": {},
   "outputs": [],
   "source": [
    "import numpy as np\n",
    "import itertools\n",
    "from SALib.test_functions import Ishigami\n",
    "\n",
    "def ishigami_wrapper(param_values):\n",
    "    strip_dummy_param = param_values[:, 0:3]\n",
    "    return Ishigami.evaluate(strip_dummy_param)"
   ]
  },
  {
   "cell_type": "code",
   "execution_count": 2,
   "metadata": {},
   "outputs": [],
   "source": [
    "problem_with_dummy = {\n",
    "  'num_vars': 4,\n",
    "  'names': ['x1', 'x2', 'x3', 'x4'],\n",
    "  'bounds': [[-np.pi, np.pi]]*4,\n",
    "  'nominal': [1.0,] * 4\n",
    "    \n",
    "}"
   ]
  },
  {
   "cell_type": "code",
   "execution_count": 3,
   "metadata": {},
   "outputs": [],
   "source": [
    "def oat_sample(problem):\n",
    "    \"\"\"Create samples for a 'traditional' OAT result.\n",
    "    \n",
    "    Here we assume outputs will be affected at the extreme ends of the nominal bounds.\n",
    "    \n",
    "    Parameters\n",
    "    ==========\n",
    "    * problem : dict, the problem definition following SALib specs        \n",
    "    \"\"\"\n",
    "    bounds = problem.get('bounds')\n",
    "    nominal = problem.get('nominal')\n",
    "    num_vars = problem.get('num_vars')\n",
    "\n",
    "    experiment = [nominal[:]]\n",
    "    \n",
    "    # Samples represent runs with values at the extremes of each parameter boundary\n",
    "    for i in range(num_vars):\n",
    "        min_val = bounds[i][0]\n",
    "        max_val = bounds[i][1]\n",
    "        \n",
    "        after = i+1\n",
    "        \n",
    "        if i > 0:\n",
    "            experiment.append(nominal[0:i] + [min_val] + nominal[after:])  # min\n",
    "            experiment.append(nominal[0:i] + [max_val] + nominal[after:])  # max\n",
    "        else:\n",
    "            experiment.append([min_val] + nominal[after:])  # min\n",
    "            experiment.append([max_val] + nominal[after:])  # max\n",
    "            \n",
    "    \n",
    "    return np.array(experiment)\n",
    "    \n",
    "    \n",
    "def oat_analyze(problem, inputs, results):\n",
    "    \"\"\"Analyze a 'traditional' OAT result.\n",
    "    \n",
    "    Parameters\n",
    "    ==========\n",
    "    * problem : dict, the problem definition following SALib specs\n",
    "    * inputs : np.array, samples used to generate results. \n",
    "               The first row is expected to hold nominal values.\n",
    "    * results : np.array, model run results obtained using the samples.\n",
    "                The first row is expected to hold nominal results.          \n",
    "    \"\"\"\n",
    "    X = inputs\n",
    "    Y = results\n",
    "    \n",
    "    num_factors = X.shape[1]\n",
    "    num_results = Y.size\n",
    "    nominal_values = problem.get('nominal')\n",
    "\n",
    "    # Set up result array (ignores one row as it holds the nominal results)\n",
    "    si_res = np.full(((Y.size - 1),), fill_value=np.nan)\n",
    "    \n",
    "    count = 0\n",
    "    for i in range(num_factors):\n",
    "        for h in range(1, num_results):\n",
    "            if X[h][i] == nominal_values[i]:\n",
    "                # skip nominal input values\n",
    "                continue\n",
    "\n",
    "            si_res[count] = (Y[h] - Y[0]) / (X[h][i] - X[0][i])\n",
    "            count += 1\n",
    "        # End for\n",
    "    # End for\n",
    "    \n",
    "    return si_res\n",
    "    "
   ]
  },
  {
   "cell_type": "code",
   "execution_count": 4,
   "metadata": {},
   "outputs": [
    {
     "name": "stdout",
     "output_type": "stream",
     "text": [
      "Wall time: 0 ns\n"
     ]
    }
   ],
   "source": [
    "%%time\n",
    "samples = oat_sample(problem_with_dummy)"
   ]
  },
  {
   "cell_type": "code",
   "execution_count": 5,
   "metadata": {},
   "outputs": [
    {
     "name": "stdout",
     "output_type": "stream",
     "text": [
      "Wall time: 0 ns\n"
     ]
    }
   ],
   "source": [
    "%time\n",
    "Y = ishigami_wrapper(samples)"
   ]
  },
  {
   "cell_type": "code",
   "execution_count": 6,
   "metadata": {},
   "outputs": [
    {
     "name": "stdout",
     "output_type": "stream",
     "text": [
      "Wall time: 0 ns\n"
     ]
    },
    {
     "data": {
      "text/plain": [
       "array([ 0.22349327, -0.43221015,  1.19676519, -2.31440555, -1.95879845,\n",
       "        3.7880898 , -0.        ,  0.        ])"
      ]
     },
     "execution_count": 6,
     "metadata": {},
     "output_type": "execute_result"
    }
   ],
   "source": [
    "%time\n",
    "oat_analyze(problem_with_dummy, samples, Y)"
   ]
  },
  {
   "cell_type": "code",
   "execution_count": null,
   "metadata": {},
   "outputs": [],
   "source": []
  },
  {
   "cell_type": "code",
   "execution_count": null,
   "metadata": {},
   "outputs": [],
   "source": []
  }
 ],
 "metadata": {
  "kernelspec": {
   "display_name": "Python (sa-comparison)",
   "language": "python",
   "name": "sa-comparison"
  },
  "language_info": {
   "codemirror_mode": {
    "name": "ipython",
    "version": 3
   },
   "file_extension": ".py",
   "mimetype": "text/x-python",
   "name": "python",
   "nbconvert_exporter": "python",
   "pygments_lexer": "ipython3",
   "version": "3.6.6"
  }
 },
 "nbformat": 4,
 "nbformat_minor": 2
}

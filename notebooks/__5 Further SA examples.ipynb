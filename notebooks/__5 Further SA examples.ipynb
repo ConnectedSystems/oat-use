{
 "cells": [
  {
   "cell_type": "code",
   "execution_count": 1,
   "metadata": {},
   "outputs": [],
   "source": [
    "%run \"Common setup.ipynb\""
   ]
  },
  {
   "cell_type": "code",
   "execution_count": 2,
   "metadata": {},
   "outputs": [],
   "source": [
    "def create_inactive(num_inactive):\n",
    "    \n",
    "    num_vars = 3 + num_inactive\n",
    "    \n",
    "    inactive_problem = {\n",
    "      'num_vars': num_vars,\n",
    "      'names': ['x1', 'x2', 'x3'] + ['x{}'.format(i) for i in range(4, 4+num_inactive)],\n",
    "      'bounds': [[-np.pi, np.pi]]*num_vars,\n",
    "      'nominal': [0.1] * num_vars\n",
    "    }\n",
    "    \n",
    "    return inactive_problem"
   ]
  },
  {
   "cell_type": "code",
   "execution_count": 3,
   "metadata": {},
   "outputs": [],
   "source": [
    "import math\n",
    "\n",
    "def mod_ishigami(values, threshold, activated):\n",
    "    \"\"\"Modified Ishigami to have conditionally activated parameters.\n",
    "    \n",
    "    Based on the Ishigami test function as implemented in SALib (v1.2)\n",
    "    \n",
    "    Parameters\n",
    "    ==========\n",
    "    * values : np.array, of input values to the model\n",
    "    * threshold : float, value which X_{1} should be greater than to activate parameters\n",
    "    * activated : list, 1-based list of parameters to activate\n",
    "    \n",
    "    Returns\n",
    "    ==========\n",
    "    * np.array of results\n",
    "    \"\"\"\n",
    "    Y = np.zeros([values.shape[0]])\n",
    "    A = 7\n",
    "    B = 0.1\n",
    "    \n",
    "    if isinstance(activated, int):\n",
    "        active = [activated]\n",
    "\n",
    "    for i, X in enumerate(values):\n",
    "        Y[i] = math.sin(X[0]) + A * math.pow(math.sin(X[1]), 2) + \\\n",
    "            B * math.pow(X[2], 4) * math.sin(X[0])\n",
    "        for pos in activated:\n",
    "            val = X[pos-1]\n",
    "            if X[0] >= threshold or val > 3.14:\n",
    "                Y[i] = Y[i] + val\n",
    "\n",
    "    return Y"
   ]
  },
  {
   "cell_type": "markdown",
   "metadata": {},
   "source": [
    "The above represents:\n",
    "\n",
    "$$\n",
    "f(x)=\\text{sin}(x_1)+a \\text{sin}^2 (x_2)+bx_3^4 \\text{sin}(x_1) + \\gamma\n",
    "$$\n",
    "\n",
    "where $\\gamma$ represents a conditionally active parameter(s),\n",
    "\n",
    "$$\n",
    "\\gamma = \n",
    "\\begin{cases}\n",
    "    & \\text{sum}(k) \\text{ if } x_{1} > h \\\\\n",
    "    & k_{i} \\text{ if } k_{i} > 3.1 \\\\\n",
    "    & 0 \\text{ otherwise }\n",
    "\\end{cases}\n",
    "$$\n",
    "\n",
    "Here $k$ indicates the parameters that are conditional and $h$ is some arbitrary threshold; set to $2.0$ for this example"
   ]
  },
  {
   "cell_type": "code",
   "execution_count": 4,
   "metadata": {},
   "outputs": [],
   "source": [
    "i_p = create_inactive(7)"
   ]
  },
  {
   "cell_type": "code",
   "execution_count": 5,
   "metadata": {},
   "outputs": [
    {
     "data": {
      "text/html": [
       "<div>\n",
       "<style scoped>\n",
       "    .dataframe tbody tr th:only-of-type {\n",
       "        vertical-align: middle;\n",
       "    }\n",
       "\n",
       "    .dataframe tbody tr th {\n",
       "        vertical-align: top;\n",
       "    }\n",
       "\n",
       "    .dataframe thead th {\n",
       "        text-align: right;\n",
       "    }\n",
       "</style>\n",
       "<table border=\"1\" class=\"dataframe\">\n",
       "  <thead>\n",
       "    <tr style=\"text-align: right;\">\n",
       "      <th></th>\n",
       "      <th>S1</th>\n",
       "      <th>S1_conf</th>\n",
       "    </tr>\n",
       "  </thead>\n",
       "  <tbody>\n",
       "    <tr>\n",
       "      <th>x1</th>\n",
       "      <td>0.2383</td>\n",
       "      <td>0.0</td>\n",
       "    </tr>\n",
       "    <tr>\n",
       "      <th>x2</th>\n",
       "      <td>2.3738</td>\n",
       "      <td>0.0</td>\n",
       "    </tr>\n",
       "    <tr>\n",
       "      <th>x3</th>\n",
       "      <td>-1.0164</td>\n",
       "      <td>0.0</td>\n",
       "    </tr>\n",
       "    <tr>\n",
       "      <th>x4</th>\n",
       "      <td>0.0000</td>\n",
       "      <td>0.0</td>\n",
       "    </tr>\n",
       "    <tr>\n",
       "      <th>x5</th>\n",
       "      <td>0.0000</td>\n",
       "      <td>0.0</td>\n",
       "    </tr>\n",
       "    <tr>\n",
       "      <th>x6</th>\n",
       "      <td>0.0000</td>\n",
       "      <td>0.0</td>\n",
       "    </tr>\n",
       "    <tr>\n",
       "      <th>x7</th>\n",
       "      <td>0.0000</td>\n",
       "      <td>0.0</td>\n",
       "    </tr>\n",
       "    <tr>\n",
       "      <th>x8</th>\n",
       "      <td>0.0000</td>\n",
       "      <td>0.0</td>\n",
       "    </tr>\n",
       "    <tr>\n",
       "      <th>x9</th>\n",
       "      <td>0.0000</td>\n",
       "      <td>0.0</td>\n",
       "    </tr>\n",
       "    <tr>\n",
       "      <th>x10</th>\n",
       "      <td>0.0000</td>\n",
       "      <td>0.0</td>\n",
       "    </tr>\n",
       "  </tbody>\n",
       "</table>\n",
       "</div>"
      ],
      "text/plain": [
       "         S1  S1_conf\n",
       "x1   0.2383      0.0\n",
       "x2   2.3738      0.0\n",
       "x3  -1.0164      0.0\n",
       "x4   0.0000      0.0\n",
       "x5   0.0000      0.0\n",
       "x6   0.0000      0.0\n",
       "x7   0.0000      0.0\n",
       "x8   0.0000      0.0\n",
       "x9   0.0000      0.0\n",
       "x10  0.0000      0.0"
      ]
     },
     "execution_count": 5,
     "metadata": {},
     "output_type": "execute_result"
    }
   ],
   "source": [
    "# Generate samples\n",
    "saltelli_w_inactive = saltelli.sample(i_p, 1, seed=SEED_VALUE)\n",
    "\n",
    "# Run model (example)\n",
    "# saltelli_Y = ishigami_wrapper(saltelli_w_inactive)\n",
    "saltelli_Y = mod_ishigami(saltelli_w_inactive, 2.0, [5, 6, 7, 8, 9, 10])\n",
    "\n",
    "Si = sobol.analyze(i_p, saltelli_Y, print_to_console=False)\n",
    "\n",
    "total, first, second = Si.to_df()\n",
    "\n",
    "first.round(4)"
   ]
  },
  {
   "cell_type": "markdown",
   "metadata": {},
   "source": [
    "Saltelli/Sobol method cannot reliably detect conditionally active or parameters that are active at the extremes with the same number of samples compared to traditional OAT"
   ]
  },
  {
   "cell_type": "code",
   "execution_count": 6,
   "metadata": {},
   "outputs": [
    {
     "data": {
      "text/html": [
       "<div>\n",
       "<style scoped>\n",
       "    .dataframe tbody tr th:only-of-type {\n",
       "        vertical-align: middle;\n",
       "    }\n",
       "\n",
       "    .dataframe tbody tr th {\n",
       "        vertical-align: top;\n",
       "    }\n",
       "\n",
       "    .dataframe thead th {\n",
       "        text-align: right;\n",
       "    }\n",
       "</style>\n",
       "<table border=\"1\" class=\"dataframe\">\n",
       "  <thead>\n",
       "    <tr style=\"text-align: right;\">\n",
       "      <th></th>\n",
       "      <th>S1</th>\n",
       "      <th>S1_conf</th>\n",
       "    </tr>\n",
       "  </thead>\n",
       "  <tbody>\n",
       "    <tr>\n",
       "      <th>x1</th>\n",
       "      <td>0.2383</td>\n",
       "      <td>0.0</td>\n",
       "    </tr>\n",
       "    <tr>\n",
       "      <th>x2</th>\n",
       "      <td>2.3738</td>\n",
       "      <td>0.0</td>\n",
       "    </tr>\n",
       "    <tr>\n",
       "      <th>x3</th>\n",
       "      <td>-1.0164</td>\n",
       "      <td>0.0</td>\n",
       "    </tr>\n",
       "    <tr>\n",
       "      <th>x4</th>\n",
       "      <td>0.0000</td>\n",
       "      <td>0.0</td>\n",
       "    </tr>\n",
       "    <tr>\n",
       "      <th>x5</th>\n",
       "      <td>0.0000</td>\n",
       "      <td>0.0</td>\n",
       "    </tr>\n",
       "    <tr>\n",
       "      <th>x6</th>\n",
       "      <td>0.0000</td>\n",
       "      <td>0.0</td>\n",
       "    </tr>\n",
       "    <tr>\n",
       "      <th>x7</th>\n",
       "      <td>0.0000</td>\n",
       "      <td>0.0</td>\n",
       "    </tr>\n",
       "    <tr>\n",
       "      <th>x8</th>\n",
       "      <td>0.0000</td>\n",
       "      <td>0.0</td>\n",
       "    </tr>\n",
       "    <tr>\n",
       "      <th>x9</th>\n",
       "      <td>0.0000</td>\n",
       "      <td>0.0</td>\n",
       "    </tr>\n",
       "    <tr>\n",
       "      <th>x10</th>\n",
       "      <td>0.0000</td>\n",
       "      <td>0.0</td>\n",
       "    </tr>\n",
       "  </tbody>\n",
       "</table>\n",
       "</div>"
      ],
      "text/plain": [
       "         S1  S1_conf\n",
       "x1   0.2383      0.0\n",
       "x2   2.3738      0.0\n",
       "x3  -1.0164      0.0\n",
       "x4   0.0000      0.0\n",
       "x5   0.0000      0.0\n",
       "x6   0.0000      0.0\n",
       "x7   0.0000      0.0\n",
       "x8   0.0000      0.0\n",
       "x9   0.0000      0.0\n",
       "x10  0.0000      0.0"
      ]
     },
     "execution_count": 6,
     "metadata": {},
     "output_type": "execute_result"
    }
   ],
   "source": [
    "# Generate samples\n",
    "saltelli_w_inactive = saltelli.sample(i_p, 1, seed=SEED_VALUE)\n",
    "\n",
    "# Run model (example)\n",
    "# saltelli_Y = ishigami_wrapper(saltelli_w_inactive)\n",
    "saltelli_Y = mod_ishigami(saltelli_w_inactive, 2.0, [5, 6, 7, 8, 9, 10])\n",
    "\n",
    "Si = sobol.analyze(i_p, saltelli_Y, print_to_console=False)\n",
    "\n",
    "total, first, second = Si.to_df()\n",
    "\n",
    "first.round(4)"
   ]
  },
  {
   "cell_type": "markdown",
   "metadata": {},
   "source": [
    "OAT cannot identify parameters that activate depending on another parameter (parameter interaction), but does detect them when they are expected to be active at their extremes"
   ]
  },
  {
   "cell_type": "code",
   "execution_count": 7,
   "metadata": {},
   "outputs": [],
   "source": [
    "i_p = create_inactive(7)"
   ]
  },
  {
   "cell_type": "code",
   "execution_count": 8,
   "metadata": {},
   "outputs": [
    {
     "data": {
      "text/plain": [
       "array([-1.38682545, -0.67726879,  0.82522848,  0.        ,  0.        ,\n",
       "        0.        ,  0.        ,  0.        ,  0.        ,  0.        ])"
      ]
     },
     "execution_count": 8,
     "metadata": {},
     "output_type": "execute_result"
    }
   ],
   "source": [
    "t_oat_sample = traditional_oat_sample(i_p, 10)\n",
    "Y = mod_ishigami(t_oat_sample, 2.0, [5, 6, 7, 8, 9, 10])\n",
    "oat_analyze(i_p, t_oat_sample, Y).mean(axis=0)"
   ]
  },
  {
   "cell_type": "code",
   "execution_count": 9,
   "metadata": {},
   "outputs": [
    {
     "data": {
      "text/plain": [
<<<<<<< Updated upstream:notebooks/4 Further SA examples.ipynb
       "array([-0.3077489 , -0.69953571,  0.85235994,  0.        ,  0.48998645,\n",
       "        0.48998645,  0.48998645,  0.48998645,  0.48998645,  0.48998645])"
=======
       "array([0.5, 0. , 0. , 0. , 0.5, 0.5, 0.5, 0.5, 0.5, 0.5])"
>>>>>>> Stashed changes:notebooks/__5 Further SA examples.ipynb
      ]
     },
     "execution_count": 9,
     "metadata": {},
     "output_type": "execute_result"
    }
   ],
   "source": [
    "t_oat_sample = oat_extremity_sample(i_p)\n",
    "Y = mod_ishigami(t_oat_sample, 2.0, [5, 6, 7, 8, 9, 10])\n",
    "oat_analyze(i_p, t_oat_sample, Y).mean(axis=0)"
   ]
  },
  {
   "cell_type": "markdown",
   "metadata": {},
   "source": [
    "<hr>\n",
    "\n",
    "Zadeh et al. (2017) use a dummy parameter to indicate groupings of insensitive parameters. Parameters awarded with comparable sensitivity rankings to this dummy parameter are said to be insensitive.\n",
    "\n",
    "For the purpose of initially validating model behaviour however, this approach is computationally expensive compared to traditional OAT with unreliable results."
   ]
  },
  {
   "cell_type": "code",
   "execution_count": 10,
   "metadata": {},
   "outputs": [
    {
     "data": {
      "text/plain": [
       "{'num_vars': 10,\n",
       " 'names': ['x1', 'x2', 'x3', 'x4', 'x5', 'x6', 'x7', 'x8', 'x9', 'x10'],\n",
       " 'bounds': [[-3.141592653589793, 3.141592653589793],\n",
       "  [-3.141592653589793, 3.141592653589793],\n",
       "  [-3.141592653589793, 3.141592653589793],\n",
       "  [-3.141592653589793, 3.141592653589793],\n",
       "  [-3.141592653589793, 3.141592653589793],\n",
       "  [-3.141592653589793, 3.141592653589793],\n",
       "  [-3.141592653589793, 3.141592653589793],\n",
       "  [-3.141592653589793, 3.141592653589793],\n",
       "  [-3.141592653589793, 3.141592653589793],\n",
       "  [-3.141592653589793, 3.141592653589793]],\n",
       " 'nominal': [0.1, 0.1, 0.1, 0.1, 0.1, 0.1, 0.1, 0.1, 0.1, 0.1]}"
      ]
     },
     "execution_count": 10,
     "metadata": {},
     "output_type": "execute_result"
    }
   ],
   "source": [
    "spec = create_inactive(7)\n",
    "spec"
   ]
  },
  {
   "cell_type": "code",
<<<<<<< Updated upstream:notebooks/4 Further SA examples.ipynb
   "execution_count": 17,
=======
   "execution_count": 11,
>>>>>>> Stashed changes:notebooks/__5 Further SA examples.ipynb
   "metadata": {},
   "outputs": [],
   "source": [
    "# Generate samples\n",
    "latin_w_inactive = latin.sample(spec, 352, seed=SEED_VALUE)\n",
    "\n",
    "# Run model (example)\n",
    "latin_Y = mod_ishigami(latin_w_inactive, 3.14, [4, 5])\n",
    "\n",
    "Si = sobol.analyze(spec, latin_Y, print_to_console=False)\n",
    "\n",
    "total, first, second = Si.to_df()"
   ]
  },
  {
   "cell_type": "code",
<<<<<<< Updated upstream:notebooks/4 Further SA examples.ipynb
   "execution_count": 18,
=======
   "execution_count": 12,
>>>>>>> Stashed changes:notebooks/__5 Further SA examples.ipynb
   "metadata": {},
   "outputs": [
    {
     "data": {
      "text/html": [
       "<div>\n",
       "<style scoped>\n",
       "    .dataframe tbody tr th:only-of-type {\n",
       "        vertical-align: middle;\n",
       "    }\n",
       "\n",
       "    .dataframe tbody tr th {\n",
       "        vertical-align: top;\n",
       "    }\n",
       "\n",
       "    .dataframe thead th {\n",
       "        text-align: right;\n",
       "    }\n",
       "</style>\n",
       "<table border=\"1\" class=\"dataframe\">\n",
       "  <thead>\n",
       "    <tr style=\"text-align: right;\">\n",
       "      <th></th>\n",
       "      <th>S1</th>\n",
       "      <th>S1_conf</th>\n",
       "    </tr>\n",
       "  </thead>\n",
       "  <tbody>\n",
       "    <tr>\n",
       "      <th>x1</th>\n",
       "      <td>-0.261362</td>\n",
       "      <td>0.521376</td>\n",
       "    </tr>\n",
       "    <tr>\n",
       "      <th>x2</th>\n",
       "      <td>-0.083261</td>\n",
       "      <td>0.466275</td>\n",
       "    </tr>\n",
       "    <tr>\n",
       "      <th>x3</th>\n",
       "      <td>-0.044867</td>\n",
       "      <td>0.443694</td>\n",
       "    </tr>\n",
       "    <tr>\n",
       "      <th>x4</th>\n",
       "      <td>-0.179266</td>\n",
       "      <td>0.561039</td>\n",
       "    </tr>\n",
       "    <tr>\n",
       "      <th>x5</th>\n",
       "      <td>-0.432210</td>\n",
       "      <td>0.528802</td>\n",
       "    </tr>\n",
       "    <tr>\n",
       "      <th>x6</th>\n",
       "      <td>-0.190295</td>\n",
       "      <td>0.587758</td>\n",
       "    </tr>\n",
       "    <tr>\n",
       "      <th>x7</th>\n",
       "      <td>-0.364496</td>\n",
       "      <td>0.520606</td>\n",
       "    </tr>\n",
       "    <tr>\n",
       "      <th>x8</th>\n",
       "      <td>-0.284171</td>\n",
       "      <td>0.639379</td>\n",
       "    </tr>\n",
       "    <tr>\n",
       "      <th>x9</th>\n",
       "      <td>-0.146099</td>\n",
       "      <td>0.441767</td>\n",
       "    </tr>\n",
       "    <tr>\n",
       "      <th>x10</th>\n",
       "      <td>-0.038611</td>\n",
       "      <td>0.689245</td>\n",
       "    </tr>\n",
       "  </tbody>\n",
       "</table>\n",
       "</div>"
      ],
      "text/plain": [
       "           S1   S1_conf\n",
       "x1  -0.261362  0.521376\n",
       "x2  -0.083261  0.466275\n",
       "x3  -0.044867  0.443694\n",
       "x4  -0.179266  0.561039\n",
       "x5  -0.432210  0.528802\n",
       "x6  -0.190295  0.587758\n",
       "x7  -0.364496  0.520606\n",
       "x8  -0.284171  0.639379\n",
       "x9  -0.146099  0.441767\n",
       "x10 -0.038611  0.689245"
      ]
     },
<<<<<<< Updated upstream:notebooks/4 Further SA examples.ipynb
     "execution_count": 18,
=======
     "execution_count": 12,
>>>>>>> Stashed changes:notebooks/__5 Further SA examples.ipynb
     "metadata": {},
     "output_type": "execute_result"
    }
   ],
   "source": [
    "first"
   ]
  },
  {
   "cell_type": "code",
<<<<<<< Updated upstream:notebooks/4 Further SA examples.ipynb
   "execution_count": 19,
=======
   "execution_count": 13,
>>>>>>> Stashed changes:notebooks/__5 Further SA examples.ipynb
   "metadata": {},
   "outputs": [
    {
     "data": {
      "text/html": [
       "<div>\n",
       "<style scoped>\n",
       "    .dataframe tbody tr th:only-of-type {\n",
       "        vertical-align: middle;\n",
       "    }\n",
       "\n",
       "    .dataframe tbody tr th {\n",
       "        vertical-align: top;\n",
       "    }\n",
       "\n",
       "    .dataframe thead th {\n",
       "        text-align: right;\n",
       "    }\n",
       "</style>\n",
       "<table border=\"1\" class=\"dataframe\">\n",
       "  <thead>\n",
       "    <tr style=\"text-align: right;\">\n",
       "      <th></th>\n",
       "      <th>ST</th>\n",
       "      <th>ST_conf</th>\n",
       "    </tr>\n",
       "  </thead>\n",
       "  <tbody>\n",
       "    <tr>\n",
       "      <th>x1</th>\n",
       "      <td>0.866585</td>\n",
       "      <td>0.398387</td>\n",
       "    </tr>\n",
       "    <tr>\n",
       "      <th>x2</th>\n",
       "      <td>0.869157</td>\n",
       "      <td>0.386930</td>\n",
       "    </tr>\n",
       "    <tr>\n",
       "      <th>x3</th>\n",
       "      <td>0.709570</td>\n",
       "      <td>0.303460</td>\n",
       "    </tr>\n",
       "    <tr>\n",
       "      <th>x4</th>\n",
       "      <td>0.856576</td>\n",
       "      <td>0.332938</td>\n",
       "    </tr>\n",
       "    <tr>\n",
       "      <th>x5</th>\n",
       "      <td>1.278734</td>\n",
       "      <td>0.651090</td>\n",
       "    </tr>\n",
       "    <tr>\n",
       "      <th>x6</th>\n",
       "      <td>1.290733</td>\n",
       "      <td>0.685273</td>\n",
       "    </tr>\n",
       "    <tr>\n",
       "      <th>x7</th>\n",
       "      <td>1.059539</td>\n",
       "      <td>0.469266</td>\n",
       "    </tr>\n",
       "    <tr>\n",
       "      <th>x8</th>\n",
       "      <td>1.368628</td>\n",
       "      <td>0.549801</td>\n",
       "    </tr>\n",
       "    <tr>\n",
       "      <th>x9</th>\n",
       "      <td>0.890455</td>\n",
       "      <td>0.535368</td>\n",
       "    </tr>\n",
       "    <tr>\n",
       "      <th>x10</th>\n",
       "      <td>1.014030</td>\n",
       "      <td>0.508616</td>\n",
       "    </tr>\n",
       "  </tbody>\n",
       "</table>\n",
       "</div>"
      ],
      "text/plain": [
       "           ST   ST_conf\n",
       "x1   0.866585  0.398387\n",
       "x2   0.869157  0.386930\n",
       "x3   0.709570  0.303460\n",
       "x4   0.856576  0.332938\n",
       "x5   1.278734  0.651090\n",
       "x6   1.290733  0.685273\n",
       "x7   1.059539  0.469266\n",
       "x8   1.368628  0.549801\n",
       "x9   0.890455  0.535368\n",
       "x10  1.014030  0.508616"
      ]
     },
<<<<<<< Updated upstream:notebooks/4 Further SA examples.ipynb
     "execution_count": 19,
=======
     "execution_count": 13,
>>>>>>> Stashed changes:notebooks/__5 Further SA examples.ipynb
     "metadata": {},
     "output_type": "execute_result"
    }
   ],
   "source": [
    "total"
   ]
  },
  {
   "cell_type": "code",
   "execution_count": null,
   "metadata": {},
   "outputs": [],
   "source": []
  }
 ],
 "metadata": {
  "kernelspec": {
   "display_name": "Python (sa-comparison)",
   "language": "python",
   "name": "sa-comparison"
  },
  "language_info": {
   "codemirror_mode": {
    "name": "ipython",
    "version": 3
   },
   "file_extension": ".py",
   "mimetype": "text/x-python",
   "name": "python",
   "nbconvert_exporter": "python",
   "pygments_lexer": "ipython3",
<<<<<<< Updated upstream:notebooks/4 Further SA examples.ipynb
   "version": "3.6.6"
=======
   "version": "3.6.7"
>>>>>>> Stashed changes:notebooks/__5 Further SA examples.ipynb
  }
 },
 "nbformat": 4,
 "nbformat_minor": 2
}

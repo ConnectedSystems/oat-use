{
 "cells": [
  {
   "cell_type": "code",
   "execution_count": 1,
   "metadata": {},
   "outputs": [],
   "source": [
    "%run \"Common setup.ipynb\""
   ]
  },
  {
   "cell_type": "code",
   "execution_count": 2,
   "metadata": {},
   "outputs": [
    {
     "ename": "ModuleNotFoundError",
     "evalue": "No module named 'chaospy'",
     "output_type": "error",
     "traceback": [
      "\u001b[1;31m---------------------------------------------------------------------------\u001b[0m",
      "\u001b[1;31mModuleNotFoundError\u001b[0m                       Traceback (most recent call last)",
      "\u001b[1;32m<ipython-input-2-1bc4056a559a>\u001b[0m in \u001b[0;36m<module>\u001b[1;34m\u001b[0m\n\u001b[1;32m----> 1\u001b[1;33m \u001b[1;32mimport\u001b[0m \u001b[0mchaospy\u001b[0m \u001b[1;32mas\u001b[0m \u001b[0mcp\u001b[0m\u001b[1;33m\u001b[0m\u001b[1;33m\u001b[0m\u001b[0m\n\u001b[0m",
      "\u001b[1;31mModuleNotFoundError\u001b[0m: No module named 'chaospy'"
     ]
    }
   ],
   "source": [
    "import chaospy as cp"
   ]
  },
  {
   "cell_type": "code",
   "execution_count": null,
   "metadata": {},
   "outputs": [],
   "source": [
    "def change_range(input):\n",
    "    return input * (2 * np.pi) + ( - np.pi)"
   ]
  },
  {
   "cell_type": "code",
   "execution_count": null,
   "metadata": {},
   "outputs": [],
   "source": [
    "def chaospy_latin():\n",
    "    return change_range(cp.latin_hypercube.create_latin_hypercube_samples(1000, dim = 4).T)"
   ]
  },
  {
   "cell_type": "code",
   "execution_count": null,
   "metadata": {},
   "outputs": [],
   "source": [
    "Latin_new = chaospy_latin()\n",
    "Latin_Y_new = Ishigami.evaluate(Latin_new)\n",
    "Si_new = sobol.analyze(SPEC_WITH_INACTIVE, Latin_Y_new, print_to_console = False)\n",
    "total, first, second = Si_new.to_df()\n",
    "print(total.round(4))\n",
    "print\n",
    "print(first.round(4))"
   ]
  },
  {
   "cell_type": "code",
   "execution_count": null,
   "metadata": {},
   "outputs": [],
   "source": [
    "# Generate samples\n",
    "latin_w_inactive = latin.sample(SPEC_WITH_INACTIVE, LATIN_SAMPLES, seed=SEED_VALUE)\n",
    "\n",
    "# Run model (example)\n",
    "latin_Y = Ishigami.evaluate(latin_w_inactive)\n",
    "\n",
    "Si = sobol.analyze(SPEC_WITH_INACTIVE, latin_Y, print_to_console=False)\n",
    "\n",
    "total, first, second = Si.to_df()"
   ]
  },
  {
   "cell_type": "code",
   "execution_count": null,
   "metadata": {},
   "outputs": [],
   "source": [
    "latin_w_inactive.shape"
   ]
  },
  {
   "cell_type": "code",
   "execution_count": null,
   "metadata": {},
   "outputs": [],
   "source": [
    "# Results for 1,000 samples\n",
    "total.round(4)"
   ]
  },
  {
   "cell_type": "code",
   "execution_count": null,
   "metadata": {},
   "outputs": [],
   "source": [
    "first.round(4)"
   ]
  },
  {
   "cell_type": "code",
   "execution_count": null,
   "metadata": {},
   "outputs": [],
   "source": [
    "# Generate samples\n",
    "saltelli_w_inactive = saltelli.sample(SPEC_WITH_INACTIVE, SALTELLI_SAMPLES, seed=SEED_VALUE)\n",
    "\n",
    "# Run model (example)\n",
    "saltelli_Y = Ishigami.evaluate(saltelli_w_inactive)\n",
    "\n",
    "Si = sobol.analyze(SPEC_WITH_INACTIVE, saltelli_Y, print_to_console=False)\n",
    "\n",
    "total, first, second = Si.to_df()"
   ]
  },
  {
   "cell_type": "code",
   "execution_count": null,
   "metadata": {},
   "outputs": [],
   "source": [
    "saltelli_Y"
   ]
  },
  {
   "cell_type": "code",
   "execution_count": null,
   "metadata": {},
   "outputs": [],
   "source": [
    "total.round(4)"
   ]
  },
  {
   "cell_type": "code",
   "execution_count": null,
   "metadata": {},
   "outputs": [],
   "source": [
    "first.round(4)"
   ]
  },
  {
   "cell_type": "code",
   "execution_count": null,
   "metadata": {},
   "outputs": [],
   "source": [
    "# Generate samples\n",
    "morris_w_inactive = morris_sample(SPEC_WITH_INACTIVE, 1)\n",
    "\n",
    "print(morris_w_inactive)\n",
    "\n",
    "# Run model (example)\n",
    "morris_Y = Ishigami.evaluate(morris_w_inactive)\n",
    "\n",
    "Si_inactive = morris_analyze(SPEC_WITH_INACTIVE, morris_w_inactive, morris_Y, print_to_console=False)"
   ]
  },
  {
   "cell_type": "code",
   "execution_count": null,
   "metadata": {},
   "outputs": [],
   "source": [
    "morris_Y"
   ]
  },
  {
   "cell_type": "code",
   "execution_count": null,
   "metadata": {},
   "outputs": [],
   "source": [
    "Si_df = Si_inactive.to_df()\n",
    "\n",
    "Si_df['mu'].round(4)"
   ]
  },
  {
   "cell_type": "code",
   "execution_count": null,
   "metadata": {},
   "outputs": [],
   "source": [
    "%%timeit\n",
    "latin_w_inactive = latin.sample(SPEC_WITH_INACTIVE, LATIN_SAMPLES, seed=SEED_VALUE)\n",
    "latin_Y = Ishigami.evaluate(latin_w_inactive)\n",
    "Si = sobol.analyze(SPEC_WITH_INACTIVE, latin_Y, print_to_console=False)"
   ]
  },
  {
   "cell_type": "code",
   "execution_count": null,
   "metadata": {},
   "outputs": [],
   "source": [
    "%%timeit\n",
    "saltelli_w_inactive = saltelli.sample(SPEC_WITH_INACTIVE, SALTELLI_SAMPLES, seed=SEED_VALUE)\n",
    "saltelli_Y = Ishigami.evaluate(saltelli_w_inactive)\n",
    "Si = sobol.analyze(SPEC_WITH_INACTIVE, saltelli_Y, print_to_console=False)"
   ]
  },
  {
   "cell_type": "code",
   "execution_count": null,
   "metadata": {},
   "outputs": [],
   "source": [
    "%%timeit\n",
    "morris_w_inactive = morris_sample(SPEC_WITH_INACTIVE, MORRIS_SAMPLES)\n",
    "morris_Y = Ishigami.evaluate(morris_w_inactive)\n",
    "Si = morris_analyze(SPEC_WITH_INACTIVE, morris_w_inactive, morris_Y, print_to_console=False)"
   ]
  },
  {
   "cell_type": "code",
   "execution_count": null,
   "metadata": {},
   "outputs": [],
   "source": [
    "morris_sample(SPEC_WITH_INACTIVE, 1)"
   ]
  },
  {
   "cell_type": "code",
   "execution_count": null,
   "metadata": {},
   "outputs": [],
   "source": []
  }
 ],
 "metadata": {
  "kernelspec": {
   "display_name": "Python (sa-comparison)",
   "language": "python",
   "name": "sa-comparison"
  },
  "language_info": {
   "codemirror_mode": {
    "name": "ipython",
    "version": 3
   },
   "file_extension": ".py",
   "mimetype": "text/x-python",
   "name": "python",
   "nbconvert_exporter": "python",
   "pygments_lexer": "ipython3",
   "version": "3.7.1"
  }
 },
 "nbformat": 4,
 "nbformat_minor": 2
}

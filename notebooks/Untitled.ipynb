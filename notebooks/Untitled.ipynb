{
 "cells": [
  {
   "cell_type": "code",
   "execution_count": 8,
   "metadata": {},
   "outputs": [
    {
     "data": {
      "text/html": [
       "<div>\n",
       "<style scoped>\n",
       "    .dataframe tbody tr th:only-of-type {\n",
       "        vertical-align: middle;\n",
       "    }\n",
       "\n",
       "    .dataframe tbody tr th {\n",
       "        vertical-align: top;\n",
       "    }\n",
       "\n",
       "    .dataframe thead th {\n",
       "        text-align: right;\n",
       "    }\n",
       "</style>\n",
       "<table border=\"1\" class=\"dataframe\">\n",
       "  <thead>\n",
       "    <tr style=\"text-align: right;\">\n",
       "      <th></th>\n",
       "      <th>mu</th>\n",
       "      <th>mu_star</th>\n",
       "      <th>sigma</th>\n",
       "      <th>mu_star_conf</th>\n",
       "    </tr>\n",
       "  </thead>\n",
       "  <tbody>\n",
       "    <tr>\n",
       "      <th>$\\beta_{10}$</th>\n",
       "      <td>8.078982</td>\n",
       "      <td>8.078982</td>\n",
       "      <td>6.268962</td>\n",
       "      <td>1.180841e+00</td>\n",
       "    </tr>\n",
       "    <tr>\n",
       "      <th>$x2$</th>\n",
       "      <td>0.315000</td>\n",
       "      <td>7.875000</td>\n",
       "      <td>7.908339</td>\n",
       "      <td>2.340762e-15</td>\n",
       "    </tr>\n",
       "    <tr>\n",
       "      <th>$\\theta3$</th>\n",
       "      <td>1.249759</td>\n",
       "      <td>7.498555</td>\n",
       "      <td>9.647944</td>\n",
       "      <td>1.164760e+00</td>\n",
       "    </tr>\n",
       "  </tbody>\n",
       "</table>\n",
       "</div>"
      ],
      "text/plain": [
       "                    mu   mu_star     sigma  mu_star_conf\n",
       "$\\beta_{10}$  8.078982  8.078982  6.268962  1.180841e+00\n",
       "$x2$          0.315000  7.875000  7.908339  2.340762e-15\n",
       "$\\theta3$     1.249759  7.498555  9.647944  1.164760e+00"
      ]
     },
     "execution_count": 8,
     "metadata": {},
     "output_type": "execute_result"
    }
   ],
   "source": [
    "from SALib.sample.morris import sample\n",
    "from SALib.analyze.morris import analyze\n",
    "from SALib.test_functions import Ishigami\n",
    "\n",
    "problem = {\n",
    "    'num_vars': 3,\n",
    "    'names': ['$\\\\beta_{10}$', '$x2$', '$\\\\theta3$'],\n",
    "    'bounds': [[-3.14159265359, 3.14159265359],\n",
    "               [-3.14159265359, 3.14159265359],\n",
    "               [-3.14159265359, 3.14159265359]]\n",
    "}\n",
    "\n",
    "moat_sample = sample(problem, 100)\n",
    "Y = Ishigami.evaluate(moat_sample)\n",
    "\n",
    "result = analyze(problem, moat_sample, Y)\n",
    "\n",
    "result.to_df()"
   ]
  },
  {
   "cell_type": "code",
   "execution_count": 9,
   "metadata": {},
   "outputs": [
    {
     "name": "stdout",
     "output_type": "stream",
     "text": [
      "\\begin{tabular}{lrrrr}\n",
      "\\toprule\n",
      "{} &        mu &   mu_star &     sigma &  mu_star_conf \\\\\n",
      "\\midrule\n",
      "$\\beta_{10}$ &  8.078982 &  8.078982 &  6.268962 &  1.180841e+00 \\\\\n",
      "$x2$         &  0.315000 &  7.875000 &  7.908339 &  2.340762e-15 \\\\\n",
      "$\\theta3$    &  1.249759 &  7.498555 &  9.647944 &  1.164760e+00 \\\\\n",
      "\\bottomrule\n",
      "\\end{tabular}\n",
      "\n"
     ]
    }
   ],
   "source": [
    "print(result.to_df().to_latex(escape=False))"
   ]
  },
  {
   "cell_type": "code",
   "execution_count": null,
   "metadata": {},
   "outputs": [],
   "source": []
  }
 ],
 "metadata": {
  "kernelspec": {
   "display_name": "SALib",
   "language": "python",
   "name": "salib"
  },
  "language_info": {
   "codemirror_mode": {
    "name": "ipython",
    "version": 3
   },
   "file_extension": ".py",
   "mimetype": "text/x-python",
   "name": "python",
   "nbconvert_exporter": "python",
   "pygments_lexer": "ipython3",
   "version": "3.7.3"
  }
 },
 "nbformat": 4,
 "nbformat_minor": 2
}

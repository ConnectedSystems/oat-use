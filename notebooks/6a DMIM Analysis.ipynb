{
 "cells": [
  {
   "cell_type": "code",
   "execution_count": 1,
   "metadata": {},
   "outputs": [],
   "source": [
    "%run \"Common setup.ipynb\""
   ]
  },
  {
   "cell_type": "code",
   "execution_count": 2,
   "metadata": {},
   "outputs": [],
   "source": [
    "%reload_ext autoreload\n",
    "%autoreload 2"
   ]
  },
  {
   "cell_type": "code",
   "execution_count": 3,
   "metadata": {},
   "outputs": [],
   "source": [
    "from SALib.analyze.delta import analyze"
   ]
  },
  {
   "cell_type": "code",
   "execution_count": 4,
   "metadata": {},
   "outputs": [],
   "source": [
    "def incremental_delta_analysis(lower, upper, step=1):\n",
    "    res, idx = [], []\n",
    "    for reps in range(lower, upper, step):\n",
    "\n",
    "        try:\n",
    "            results = analyze(CIM_SPEC, numeric_vals[:reps], np_res[:reps], seed=101)\n",
    "        except np.linalg.LinAlgError:\n",
    "            res.append(np.nan)\n",
    "            idx.append(reps)\n",
    "            continue\n",
    "\n",
    "        total = results.to_df()\n",
    "\n",
    "        res.append(total.loc[tgt_param, 'S1'])\n",
    "        idx.append(reps)\n",
    "    # End for\n",
    "    \n",
    "    return res, idx\n",
    "# End incremental_delta_analysis()"
   ]
  },
  {
   "cell_type": "code",
   "execution_count": 5,
   "metadata": {},
   "outputs": [],
   "source": [
    "### With more samples...\n",
    "\n",
    "numeric_samples = pd.read_csv(f'{DATA_DIR}oat_mc_10_samples.csv', index_col=0)\n",
    "numeric_samples = numeric_samples[perturbed_cols]\n",
    "numeric_vals = numeric_samples.values"
   ]
  },
  {
   "cell_type": "code",
   "execution_count": 6,
   "metadata": {},
   "outputs": [
    {
     "name": "stderr",
     "output_type": "stream",
     "text": [
      "c:\\programs\\owncloud\\projects\\salib\\src\\SALib\\analyze\\delta.py:145: RuntimeWarning: divide by zero encountered in double_scalars\n",
      "  return Vi / np.var(Y)\n",
      "C:\\programs\\miniconda3\\envs\\salib\\lib\\site-packages\\numpy\\core\\_methods.py:193: RuntimeWarning: invalid value encountered in subtract\n",
      "  x = asanyarray(arr - arrmean)\n"
     ]
    }
   ],
   "source": [
    "# Coupling disabled\n",
    "# DMIM does not work when there is no change in parameter values\n",
    "\n",
    "radial_no_irrigation_results = pd.read_csv(f'{DATA_DIR}oat_no_irrigation_10_results.csv', index_col=0)\n",
    "radial_no_irrigation_results['Avg. $/ML'].fillna(radial_no_irrigation_results[\"Avg. Annual Profit ($M)\"], inplace=True)\n",
    "\n",
    "tgt_result_idx = radial_no_irrigation_results.columns.tolist().index(tgt_metric)\n",
    "\n",
    "np_res = radial_no_irrigation_results.values[:, tgt_result_idx]\n",
    "runs = np_res.shape[0]\n",
    "res, idx = incremental_delta_analysis(54, runs+1, 54)"
   ]
  },
  {
   "cell_type": "code",
   "execution_count": 7,
   "metadata": {},
   "outputs": [],
   "source": [
    "# plot_incremental_results(res, idx)\n",
    "disabled = pd.DataFrame({'S1': res}, index=idx)"
   ]
  },
  {
   "cell_type": "code",
   "execution_count": 8,
   "metadata": {},
   "outputs": [],
   "source": [
    "# Coupling enabled\n",
    "\n",
    "radial_with_irrigation_results = pd.read_csv(f'{DATA_DIR}oat_with_irrigation_10_results.csv', index_col=0)\n",
    "radial_with_irrigation_results['Avg. $/ML'].fillna(radial_with_irrigation_results[\"Avg. Annual Profit ($M)\"], inplace=True)\n",
    "\n",
    "tgt_result_idx = radial_with_irrigation_results.columns.tolist().index(tgt_metric)\n",
    "np_res = radial_with_irrigation_results.values[:, tgt_result_idx]\n",
    "\n",
    "runs = np_res.shape[0]\n",
    "\n",
    "res, idx = incremental_delta_analysis(54, runs+1, 54)"
   ]
  },
  {
   "cell_type": "code",
   "execution_count": 9,
   "metadata": {},
   "outputs": [],
   "source": [
    "# plot_incremental_results(res, idx)\n",
    "enabled = pd.DataFrame({'S1': res}, index=idx)"
   ]
  },
  {
   "cell_type": "code",
   "execution_count": 10,
   "metadata": {},
   "outputs": [
    {
     "data": {
      "image/png": "[encoded data removed]",
      "text/plain": [
       "<Figure size 864x288 with 2 Axes>"
      ]
     },
     "metadata": {
      "needs_background": "light"
     },
     "output_type": "display_data"
    }
   ],
   "source": [
    "fig, axes = plt.subplots(1,2, figsize=(12,4), sharey=True, sharex=True)\n",
    "\n",
    "labels = [str(int(i/54)) for i in idx]\n",
    "disabled.loc[:, 'S1'].plot(kind='bar', \n",
    "                           legend=None,\n",
    "                           title='Disabled',\n",
    "                           ax=axes[0],\n",
    "                           use_index=False,\n",
    "                           rot=45,\n",
    "                           width=0.8,\n",
    "                           edgecolor='C0')\n",
    "\n",
    "enabled.loc[:, 'S1'].plot(kind='bar', \n",
    "                          legend=None,\n",
    "                          title='Enabled',\n",
    "                          ax=axes[1],\n",
    "                          use_index=False,\n",
    "                          rot=45,\n",
    "                          width=0.8,\n",
    "                          edgecolor='C0').legend(\n",
    "                             bbox_to_anchor=(1.35, 0.65)\n",
    "                          )\n",
    "fig.suptitle(\"DMIM Analysis\", x=0.5, y=1.05, fontsize=22)\n",
    "\n",
    "plt.xlabel(\"$n$\", x=-0.1, labelpad=15);\n",
    "\n",
    "axes[0].set_xticklabels(labels)\n",
    "axes[1].set_xticklabels(labels);"
   ]
  },
  {
   "cell_type": "code",
   "execution_count": 11,
   "metadata": {},
   "outputs": [],
   "source": [
    "fig.savefig(FIG_DIR+'DMIM_larger_sample.png', dpi=300, bbox_inches='tight')"
   ]
  },
  {
   "cell_type": "markdown",
   "metadata": {},
   "source": [
    "---\n",
    "\n",
    "With full results"
   ]
  },
  {
   "cell_type": "code",
   "execution_count": 12,
   "metadata": {},
   "outputs": [],
   "source": [
    "tgt_result_idx = all_outputs.columns.tolist().index(tgt_metric)\n",
    "\n",
    "numeric_samples = to_numeric_samples(all_inputs)[perturbed_cols]\n",
    "param_idx = numeric_samples.columns.tolist().index(tgt_param)\n",
    "\n",
    "numeric_vals = numeric_samples.values\n",
    "\n",
    "# numeric_vals = numeric_vals[idx, :]\n",
    "np_res = all_outputs.values[:, tgt_result_idx]\n",
    "np_res = np_res.astype('float64')\n",
    "\n",
    "rows = np_res.shape[0]\n",
    "\n",
    "res, idx = incremental_delta_analysis(54, rows, 54)"
   ]
  },
  {
   "cell_type": "code",
   "execution_count": 13,
   "metadata": {},
   "outputs": [
    {
     "data": {
      "text/plain": [
       "<matplotlib.axes._subplots.AxesSubplot at 0x17abe390f60>"
      ]
     },
     "execution_count": 13,
     "metadata": {},
     "output_type": "execute_result"
    },
    {
     "data": {
      "image/png": "[encoded data removed]",
      "text/plain": [
       "<Figure size 1152x288 with 1 Axes>"
      ]
     },
     "metadata": {
      "needs_background": "light"
     },
     "output_type": "display_data"
    }
   ],
   "source": [
    "pd.DataFrame({'S1': res[::2]}, index=idx[::2]).plot(kind='bar', figsize=(16,4))"
   ]
  },
  {
   "cell_type": "code",
   "execution_count": null,
   "metadata": {},
   "outputs": [],
   "source": []
  }
 ],
 "metadata": {
  "kernelspec": {
   "display_name": "SALib",
   "language": "python",
   "name": "salib"
  },
  "language_info": {
   "codemirror_mode": {
    "name": "ipython",
    "version": 3
   },
   "file_extension": ".py",
   "mimetype": "text/x-python",
   "name": "python",
   "nbconvert_exporter": "python",
   "pygments_lexer": "ipython3",
   "version": "3.7.3"
  }
 },
 "nbformat": 4,
 "nbformat_minor": 4
}

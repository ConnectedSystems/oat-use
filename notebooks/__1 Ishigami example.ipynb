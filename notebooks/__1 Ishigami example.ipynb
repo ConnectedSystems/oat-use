{
 "cells": [
  {
   "cell_type": "markdown",
   "metadata": {},
   "source": [
    "We run the example (Ishigami) function here - as implemented in SALib - to show it is working as expected.\n",
    "\n",
    "The expected first order indices (within confidence bounds) are:\n",
    "* x1: 0.3139\n",
    "* x2: 0.4424\n",
    "* x3: 0.0"
   ]
  },
  {
   "cell_type": "code",
   "execution_count": 1,
   "metadata": {},
   "outputs": [
    {
     "data": {
      "text/html": [
       "<div>\n",
       "<style scoped>\n",
       "    .dataframe tbody tr th:only-of-type {\n",
       "        vertical-align: middle;\n",
       "    }\n",
       "\n",
       "    .dataframe tbody tr th {\n",
       "        vertical-align: top;\n",
       "    }\n",
       "\n",
       "    .dataframe thead th {\n",
       "        text-align: right;\n",
       "    }\n",
       "</style>\n",
       "<table border=\"1\" class=\"dataframe\">\n",
       "  <thead>\n",
       "    <tr style=\"text-align: right;\">\n",
       "      <th></th>\n",
       "      <th>S1</th>\n",
       "      <th>S1_conf</th>\n",
       "    </tr>\n",
       "  </thead>\n",
       "  <tbody>\n",
       "    <tr>\n",
       "      <th>x1</th>\n",
       "      <td>0.310836</td>\n",
       "      <td>0.021076</td>\n",
       "    </tr>\n",
       "    <tr>\n",
       "      <th>x2</th>\n",
       "      <td>0.442419</td>\n",
       "      <td>0.016743</td>\n",
       "    </tr>\n",
       "    <tr>\n",
       "      <th>x3</th>\n",
       "      <td>-0.003854</td>\n",
       "      <td>0.018390</td>\n",
       "    </tr>\n",
       "  </tbody>\n",
       "</table>\n",
       "</div>"
      ],
      "text/plain": [
       "          S1   S1_conf\n",
       "x1  0.310836  0.021076\n",
       "x2  0.442419  0.016743\n",
       "x3 -0.003854  0.018390"
      ]
     },
     "execution_count": 1,
     "metadata": {},
     "output_type": "execute_result"
    }
   ],
   "source": [
    "from SALib.sample import saltelli\n",
    "from SALib.analyze import sobol\n",
    "from SALib.test_functions import Ishigami\n",
    "import numpy as np\n",
    "\n",
    "seed_value = 101\n",
    "num_samples = 10000\n",
    "\n",
    "problem = {\n",
    "  'num_vars': 3,\n",
    "  'names': ['x1', 'x2', 'x3'],\n",
    "  'bounds': [[-np.pi, np.pi]]*3\n",
    "}\n",
    "\n",
    "param_values = saltelli.sample(problem, num_samples, seed=seed_value)\n",
    "\n",
    "Y = Ishigami.evaluate(param_values)\n",
    "\n",
    "Si = sobol.analyze(problem, Y, print_to_console=False)\n",
    "\n",
    "total, first, second = Si.to_df()\n",
    "\n",
    "first"
   ]
  },
  {
   "cell_type": "code",
   "execution_count": null,
   "metadata": {},
   "outputs": [],
   "source": []
  }
 ],
 "metadata": {
  "kernelspec": {
   "display_name": "Python (sa-comparison)",
   "language": "python",
   "name": "sa-comparison"
  },
  "language_info": {
   "codemirror_mode": {
    "name": "ipython",
    "version": 3
   },
   "file_extension": ".py",
   "mimetype": "text/x-python",
   "name": "python",
   "nbconvert_exporter": "python",
   "pygments_lexer": "ipython3",
<<<<<<< Updated upstream:notebooks/1 Ishigami example.ipynb
   "version": "3.7.3"
=======
   "version": "3.6.7"
>>>>>>> Stashed changes:notebooks/__1 Ishigami example.ipynb
  }
 },
 "nbformat": 4,
 "nbformat_minor": 2
}

{
 "cells": [
  {
   "cell_type": "markdown",
   "metadata": {},
   "source": [
    "Import common packages, functions, and parameter values"
   ]
  },
  {
   "cell_type": "code",
   "execution_count": 1,
   "metadata": {},
   "outputs": [],
   "source": [
    "%run \"Common setup.ipynb\""
   ]
  },
  {
   "cell_type": "code",
   "execution_count": 2,
   "metadata": {},
   "outputs": [
    {
     "name": "stdout",
     "output_type": "stream",
     "text": [
      "Wall time: 607 ms\n"
     ]
    }
   ],
   "source": [
    "%%time\n",
    "# Generate samples\n",
    "param_values_wo_dummy = morris_sample(PROBLEM_WO_DUMMY, NUM_SAMPLES)"
   ]
  },
  {
   "cell_type": "code",
   "execution_count": 3,
   "metadata": {},
   "outputs": [
    {
     "name": "stdout",
     "output_type": "stream",
     "text": [
      "Wall time: 36 ms\n"
     ]
    }
   ],
   "source": [
    "%%time\n",
    "# Run model (example)\n",
    "Y = Ishigami.evaluate(param_values_wo_dummy)"
   ]
  },
  {
   "cell_type": "code",
   "execution_count": 4,
   "metadata": {},
   "outputs": [
    {
     "name": "stdout",
     "output_type": "stream",
     "text": [
      "Wall time: 401 ms\n"
     ]
    }
   ],
   "source": [
    "%%time\n",
    "Si = morris_analyze(PROBLEM_WO_DUMMY, param_values_wo_dummy, Y, print_to_console=False)"
   ]
  },
  {
   "cell_type": "code",
   "execution_count": 5,
   "metadata": {},
   "outputs": [
    {
     "data": {
      "text/plain": [
       "array([[-3.14159265,  3.14159265,  3.14159265],\n",
       "       [-3.14159265, -1.04719755,  3.14159265],\n",
       "       [-3.14159265, -1.04719755, -1.04719755],\n",
       "       ...,\n",
       "       [-1.04719755, -3.14159265,  3.14159265],\n",
       "       [-1.04719755, -3.14159265, -1.04719755],\n",
       "       [ 3.14159265, -3.14159265, -1.04719755]])"
      ]
     },
     "execution_count": 5,
     "metadata": {},
     "output_type": "execute_result"
    }
   ],
   "source": [
    "param_values_wo_dummy"
   ]
  },
  {
   "cell_type": "code",
   "execution_count": 6,
   "metadata": {},
   "outputs": [
    {
     "data": {
      "text/html": [
       "<div>\n",
       "<style scoped>\n",
       "    .dataframe tbody tr th:only-of-type {\n",
       "        vertical-align: middle;\n",
       "    }\n",
       "\n",
       "    .dataframe tbody tr th {\n",
       "        vertical-align: top;\n",
       "    }\n",
       "\n",
       "    .dataframe thead th {\n",
       "        text-align: right;\n",
       "    }\n",
       "</style>\n",
       "<table border=\"1\" class=\"dataframe\">\n",
       "  <thead>\n",
       "    <tr style=\"text-align: right;\">\n",
       "      <th></th>\n",
       "      <th>mu</th>\n",
       "      <th>mu_star</th>\n",
       "      <th>sigma</th>\n",
       "      <th>mu_star_conf</th>\n",
       "    </tr>\n",
       "  </thead>\n",
       "  <tbody>\n",
       "    <tr>\n",
       "      <th>x1</th>\n",
       "      <td>7.5741</td>\n",
       "      <td>7.5741</td>\n",
       "      <td>6.2481</td>\n",
       "      <td>0.1764</td>\n",
       "    </tr>\n",
       "    <tr>\n",
       "      <th>x2</th>\n",
       "      <td>0.0126</td>\n",
       "      <td>7.8750</td>\n",
       "      <td>7.8758</td>\n",
       "      <td>0.0000</td>\n",
       "    </tr>\n",
       "    <tr>\n",
       "      <th>x3</th>\n",
       "      <td>-0.0900</td>\n",
       "      <td>6.3238</td>\n",
       "      <td>8.8904</td>\n",
       "      <td>0.1749</td>\n",
       "    </tr>\n",
       "  </tbody>\n",
       "</table>\n",
       "</div>"
      ],
      "text/plain": [
       "        mu  mu_star   sigma  mu_star_conf\n",
       "x1  7.5741   7.5741  6.2481        0.1764\n",
       "x2  0.0126   7.8750  7.8758        0.0000\n",
       "x3 -0.0900   6.3238  8.8904        0.1749"
      ]
     },
     "execution_count": 6,
     "metadata": {},
     "output_type": "execute_result"
    }
   ],
   "source": [
    "Si.to_df().round(4)"
   ]
  },
  {
   "cell_type": "code",
   "execution_count": 7,
   "metadata": {},
   "outputs": [],
   "source": [
    "# Generate samples\n",
    "param_values_with_dummy = morris_sample(PROBLEM_WITH_DUMMY, NUM_SAMPLES)\n",
    "\n",
    "# Run model (example)\n",
    "Y = ishigami_wrapper(param_values_with_dummy)\n",
    "\n",
    "Si_dummy = morris_analyze(PROBLEM_WITH_DUMMY, param_values_with_dummy, Y, print_to_console=False)"
   ]
  },
  {
   "cell_type": "code",
   "execution_count": 8,
   "metadata": {},
   "outputs": [
    {
     "data": {
      "text/plain": [
       "x1    7.7091\n",
       "x2   -0.0473\n",
       "x3    0.2375\n",
       "x4    0.0000\n",
       "Name: mu, dtype: float64"
      ]
     },
     "execution_count": 8,
     "metadata": {},
     "output_type": "execute_result"
    }
   ],
   "source": [
    "Si_df = Si_dummy.to_df()\n",
    "\n",
    "Si_df['mu'].round(4)"
   ]
  },
  {
   "cell_type": "code",
   "execution_count": 9,
   "metadata": {},
   "outputs": [
    {
     "name": "stdout",
     "output_type": "stream",
     "text": [
      "Wall time: 703 ms\n"
     ]
    }
   ],
   "source": [
    "%%time\n",
    "# Generate samples\n",
    "param_values_with_dummy = morris_sample(PROBLEM_WITH_DUMMY, NUM_SAMPLES)"
   ]
  },
  {
   "cell_type": "code",
   "execution_count": 10,
   "metadata": {},
   "outputs": [
    {
     "name": "stdout",
     "output_type": "stream",
     "text": [
      "Wall time: 51 ms\n"
     ]
    }
   ],
   "source": [
    "%%time\n",
    "# Run model (example)\n",
    "Y = ishigami_wrapper(param_values_with_dummy)"
   ]
  },
  {
   "cell_type": "code",
   "execution_count": 11,
   "metadata": {},
   "outputs": [
    {
     "name": "stdout",
     "output_type": "stream",
     "text": [
      "Wall time: 546 ms\n"
     ]
    }
   ],
   "source": [
    "%%time\n",
    "Si_dummy = morris_analyze(PROBLEM_WITH_DUMMY, param_values_with_dummy, Y, print_to_console=False)"
   ]
  },
  {
   "cell_type": "code",
   "execution_count": null,
   "metadata": {},
   "outputs": [],
   "source": []
  }
 ],
 "metadata": {
  "kernelspec": {
   "display_name": "Python (sa-comparison)",
   "language": "python",
   "name": "sa-comparison"
  },
  "language_info": {
   "codemirror_mode": {
    "name": "ipython",
    "version": 3
   },
   "file_extension": ".py",
   "mimetype": "text/x-python",
   "name": "python",
   "nbconvert_exporter": "python",
   "pygments_lexer": "ipython3",
   "version": "3.7.1"
  }
 },
 "nbformat": 4,
 "nbformat_minor": 2
}

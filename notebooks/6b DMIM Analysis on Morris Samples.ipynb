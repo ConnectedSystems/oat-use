{
 "cells": [
  {
   "cell_type": "code",
   "execution_count": 1,
   "metadata": {},
   "outputs": [],
   "source": [
    "%run \"Common setup.ipynb\""
   ]
  },
  {
   "cell_type": "code",
   "execution_count": 2,
   "metadata": {},
   "outputs": [],
   "source": [
    "%reload_ext autoreload\n",
    "%autoreload 2"
   ]
  },
  {
   "cell_type": "code",
   "execution_count": 3,
   "metadata": {},
   "outputs": [],
   "source": [
    "from SALib.analyze.delta import analyze"
   ]
  },
  {
   "cell_type": "code",
   "execution_count": 4,
   "metadata": {},
   "outputs": [],
   "source": [
    "def incremental_delta_analysis(lower, upper, step=1):\n",
    "    res, idx = [], []\n",
    "    for reps in range(lower, upper, step):\n",
    "\n",
    "        try:\n",
    "            results = analyze(CIM_SPEC, numeric_vals[:reps], np_res[:reps], seed=101)\n",
    "        except np.linalg.LinAlgError:\n",
    "            res.append(np.nan)\n",
    "            idx.append(reps)\n",
    "            continue\n",
    "\n",
    "        total = results.to_df()\n",
    "\n",
    "        res.append(total.loc[tgt_param, 'S1'])\n",
    "        idx.append(reps)\n",
    "    # End for\n",
    "    \n",
    "    return res, idx\n",
    "# End incremental_delta_analysis()"
   ]
  },
  {
   "cell_type": "code",
   "execution_count": 5,
   "metadata": {},
   "outputs": [],
   "source": [
    "### With more samples...\n",
    "\n",
    "numeric_samples = pd.read_csv(f'{DATA_DIR}moat_10_samples.csv', index_col=0)\n",
    "numeric_samples = numeric_samples[perturbed_cols]\n",
    "numeric_vals = numeric_samples.values"
   ]
  },
  {
   "cell_type": "code",
   "execution_count": 6,
   "metadata": {},
   "outputs": [],
   "source": [
    "# Coupling disabled\n",
    "# DMIM does not work when there is no change in parameter values\n",
    "\n",
    "radial_no_irrigation_results = pd.read_csv(f'{DATA_DIR}moat_no_irrigation_10_results.csv', index_col=0)\n",
    "radial_no_irrigation_results['Avg. $/ML'].fillna(radial_no_irrigation_results[\"Avg. Annual Profit ($M)\"], inplace=True)\n",
    "\n",
    "tgt_result_idx = radial_no_irrigation_results.columns.tolist().index(tgt_metric)\n",
    "\n",
    "np_res = radial_no_irrigation_results.values[:, tgt_result_idx]\n",
    "runs = np_res.shape[0]\n",
    "res, idx = incremental_delta_analysis(54, runs+1, 54)"
   ]
  },
  {
   "cell_type": "code",
   "execution_count": 7,
   "metadata": {},
   "outputs": [],
   "source": [
    "# plot_incremental_results(res, idx)\n",
    "disabled = pd.DataFrame({'S1': res}, index=idx)"
   ]
  },
  {
   "cell_type": "code",
   "execution_count": 8,
   "metadata": {},
   "outputs": [],
   "source": [
    "# Coupling enabled\n",
    "\n",
    "radial_with_irrigation_results = pd.read_csv(f'{DATA_DIR}moat_with_irrigation_10_results.csv', index_col=0)\n",
    "radial_with_irrigation_results['Avg. $/ML'].fillna(radial_with_irrigation_results[\"Avg. Annual Profit ($M)\"], inplace=True)\n",
    "\n",
    "tgt_result_idx = radial_with_irrigation_results.columns.tolist().index(tgt_metric)\n",
    "np_res = radial_with_irrigation_results.values[:, tgt_result_idx]\n",
    "\n",
    "runs = np_res.shape[0]\n",
    "\n",
    "res, idx = incremental_delta_analysis(54, runs+1, 54)"
   ]
  },
  {
   "cell_type": "code",
   "execution_count": 9,
   "metadata": {},
   "outputs": [],
   "source": [
    "# plot_incremental_results(res, idx)\n",
    "enabled = pd.DataFrame({'S1': res}, index=idx)"
   ]
  },
  {
   "cell_type": "code",
   "execution_count": 10,
   "metadata": {},
   "outputs": [
    {
     "data": {
      "image/png": "[encoded data removed]",
      "text/plain": [
       "<Figure size 864x288 with 2 Axes>"
      ]
     },
     "metadata": {},
     "output_type": "display_data"
    }
   ],
   "source": [
    "fig, axes = plt.subplots(1,2, figsize=(12,4), sharey=True, sharex=True)\n",
    "\n",
    "labels = [str(int(i/54)) for i in idx]\n",
    "disabled.loc[:, 'S1'].plot(kind='bar', \n",
    "                           legend=None,\n",
    "                           title='Disabled',\n",
    "                           ax=axes[0],\n",
    "                           use_index=False,\n",
    "                           rot=45,\n",
    "                           width=0.8,\n",
    "                           edgecolor='C0')\n",
    "\n",
    "enabled.loc[:, 'S1'].plot(kind='bar', \n",
    "                          legend=None,\n",
    "                          title='Enabled',\n",
    "                          ax=axes[1],\n",
    "                          use_index=False,\n",
    "                          rot=45,\n",
    "                          width=0.8,\n",
    "                          edgecolor='C0').legend(\n",
    "                             bbox_to_anchor=(1.35, 0.65)\n",
    "                          )\n",
    "fig.suptitle(\"DMIM Analysis\\non Morris Samples\", x=0.5, y=1.05, fontsize=22)\n",
    "\n",
    "plt.xlabel(\"$n$\", x=-0.1, labelpad=15);\n",
    "\n",
    "axes[0].set_xticklabels(labels)\n",
    "axes[1].set_xticklabels(labels);"
   ]
  },
  {
   "cell_type": "code",
   "execution_count": 11,
   "metadata": {},
   "outputs": [],
   "source": [
    "fig.savefig(FIG_DIR+'DMIM_morris_larger_sample.png', dpi=300, bbox_inches='tight')"
   ]
  },
  {
   "cell_type": "code",
   "execution_count": null,
   "metadata": {},
   "outputs": [],
   "source": []
  }
 ],
 "metadata": {
  "kernelspec": {
   "display_name": "Python (oat-use)",
   "language": "python",
   "name": "oat-use"
  },
  "language_info": {
   "codemirror_mode": {
    "name": "ipython",
    "version": 3
   },
   "file_extension": ".py",
   "mimetype": "text/x-python",
   "name": "python",
   "nbconvert_exporter": "python",
   "pygments_lexer": "ipython3",
   "version": "3.6.6"
  }
 },
 "nbformat": 4,
 "nbformat_minor": 4
}
